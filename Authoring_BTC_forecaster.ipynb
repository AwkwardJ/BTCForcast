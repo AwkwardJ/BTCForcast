{
  "nbformat": 4,
  "nbformat_minor": 0,
  "metadata": {
    "colab": {
      "provenance": [],
      "toc_visible": true,
      "include_colab_link": true
    },
    "kernelspec": {
      "name": "python3",
      "display_name": "Python 3"
    }
  },
  "cells": [
    {
      "cell_type": "markdown",
      "metadata": {
        "id": "view-in-github",
        "colab_type": "text"
      },
      "source": [
        "<a href=\"https://colab.research.google.com/github/AwkwardJ/BTCForcast/blob/main/Authoring_BTC_forecaster.ipynb\" target=\"_parent\"><img src=\"https://colab.research.google.com/assets/colab-badge.svg\" alt=\"Open In Colab\"/></a>"
      ]
    },
    {
      "cell_type": "markdown",
      "source": [
        "# Bitcoin forecasting with Tensorflow and Facebook Prophet\n",
        "## Nicholas Stewart, Nada Aly, Julian Rintha\n",
        "\n",
        "In this project we used several libraries to obtain, process and create models to forecast bitcoin prices. The goal was to be able to use this model to attempt to predict a 30-day forecast of bitcoin prices from 11/01/2021 to 12/01/2021. Using Twint, Yahoo Finace, Flair, Tensorflow, Pandas, Numpy, Facebook Prophet and other standard libraries we created 2 models that attempt this forecast."
      ],
      "metadata": {
        "id": "FzhNnsesdjTW"
      }
    },
    {
      "cell_type": "markdown",
      "metadata": {
        "id": "dunURuIQniOz"
      },
      "source": [
        "# Data"
      ]
    },
    {
      "cell_type": "markdown",
      "source": [
        "Here is where all of the preprocessing is done. We first get tweets to be converted into vectors for sentiment analysis. We plan on including this with closing prices obtained from the Yahoofinance library to get the features for our model."
      ],
      "metadata": {
        "id": "ppAcyH2PnIkF"
      }
    },
    {
      "cell_type": "code",
      "metadata": {
        "id": "2AvI0kmBRy_f"
      },
      "source": [
        "import pandas as pd"
      ],
      "execution_count": null,
      "outputs": []
    },
    {
      "cell_type": "code",
      "metadata": {
        "id": "k5RTi8Nkux_a",
        "colab": {
          "base_uri": "https://localhost:8080/"
        },
        "outputId": "5d3af1cb-0c6e-434d-8314-3e57aa95d807"
      },
      "source": [
        "%pip install twint\n",
        "%pip install git+https://github.com/twintproject/twint.git@origin/master#egg=twint\n",
        "import twint\n",
        "import nest_asyncio"
      ],
      "execution_count": null,
      "outputs": [
        {
          "output_type": "stream",
          "name": "stdout",
          "text": [
            "Requirement already satisfied: twint in /root/.local/lib/python3.7/site-packages (2.1.21)\n",
            "Requirement already satisfied: schedule in /usr/local/lib/python3.7/dist-packages (from twint) (1.1.0)\n",
            "Requirement already satisfied: fake-useragent in /usr/local/lib/python3.7/dist-packages (from twint) (0.1.11)\n",
            "Requirement already satisfied: googletransx in /usr/local/lib/python3.7/dist-packages (from twint) (2.4.2)\n",
            "Requirement already satisfied: elasticsearch in /usr/local/lib/python3.7/dist-packages (from twint) (7.16.0)\n",
            "Requirement already satisfied: pandas in /usr/local/lib/python3.7/dist-packages (from twint) (1.1.5)\n",
            "Requirement already satisfied: pysocks in /usr/local/lib/python3.7/dist-packages (from twint) (1.7.1)\n",
            "Requirement already satisfied: aiodns in /usr/local/lib/python3.7/dist-packages (from twint) (3.0.0)\n",
            "Requirement already satisfied: beautifulsoup4 in /usr/local/lib/python3.7/dist-packages (from twint) (4.6.3)\n",
            "Requirement already satisfied: aiohttp in /usr/local/lib/python3.7/dist-packages (from twint) (3.8.1)\n",
            "Requirement already satisfied: cchardet in /usr/local/lib/python3.7/dist-packages (from twint) (2.1.7)\n",
            "Requirement already satisfied: geopy in /usr/local/lib/python3.7/dist-packages (from twint) (1.17.0)\n",
            "Requirement already satisfied: aiohttp-socks in /usr/local/lib/python3.7/dist-packages (from twint) (0.7.1)\n",
            "Requirement already satisfied: dataclasses in /root/.local/lib/python3.7/site-packages (from twint) (0.6)\n",
            "Requirement already satisfied: pycares>=4.0.0 in /usr/local/lib/python3.7/dist-packages (from aiodns->twint) (4.1.2)\n",
            "Requirement already satisfied: cffi>=1.5.0 in /usr/local/lib/python3.7/dist-packages (from pycares>=4.0.0->aiodns->twint) (1.15.0)\n",
            "Requirement already satisfied: pycparser in /usr/local/lib/python3.7/dist-packages (from cffi>=1.5.0->pycares>=4.0.0->aiodns->twint) (2.21)\n",
            "Requirement already satisfied: typing-extensions>=3.7.4 in /usr/local/lib/python3.7/dist-packages (from aiohttp->twint) (3.10.0.2)\n",
            "Requirement already satisfied: attrs>=17.3.0 in /usr/local/lib/python3.7/dist-packages (from aiohttp->twint) (21.2.0)\n",
            "Requirement already satisfied: aiosignal>=1.1.2 in /usr/local/lib/python3.7/dist-packages (from aiohttp->twint) (1.2.0)\n",
            "Requirement already satisfied: yarl<2.0,>=1.0 in /usr/local/lib/python3.7/dist-packages (from aiohttp->twint) (1.7.2)\n",
            "Requirement already satisfied: frozenlist>=1.1.1 in /usr/local/lib/python3.7/dist-packages (from aiohttp->twint) (1.2.0)\n",
            "Requirement already satisfied: asynctest==0.13.0 in /usr/local/lib/python3.7/dist-packages (from aiohttp->twint) (0.13.0)\n",
            "Requirement already satisfied: async-timeout<5.0,>=4.0.0a3 in /usr/local/lib/python3.7/dist-packages (from aiohttp->twint) (4.0.1)\n",
            "Requirement already satisfied: multidict<7.0,>=4.5 in /usr/local/lib/python3.7/dist-packages (from aiohttp->twint) (5.2.0)\n",
            "Requirement already satisfied: charset-normalizer<3.0,>=2.0 in /usr/local/lib/python3.7/dist-packages (from aiohttp->twint) (2.0.8)\n",
            "Requirement already satisfied: idna>=2.0 in /usr/local/lib/python3.7/dist-packages (from yarl<2.0,>=1.0->aiohttp->twint) (2.10)\n",
            "Requirement already satisfied: python-socks[asyncio]<3.0.0,>=2.0.0 in /usr/local/lib/python3.7/dist-packages (from aiohttp-socks->twint) (2.0.0)\n",
            "Requirement already satisfied: urllib3<2,>=1.21.1 in /usr/local/lib/python3.7/dist-packages (from elasticsearch->twint) (1.24.3)\n",
            "Requirement already satisfied: certifi in /usr/local/lib/python3.7/dist-packages (from elasticsearch->twint) (2021.10.8)\n",
            "Requirement already satisfied: geographiclib<2,>=1.49 in /usr/local/lib/python3.7/dist-packages (from geopy->twint) (1.52)\n",
            "Requirement already satisfied: requests in /usr/local/lib/python3.7/dist-packages (from googletransx->twint) (2.26.0)\n",
            "Requirement already satisfied: numpy>=1.15.4 in /usr/local/lib/python3.7/dist-packages (from pandas->twint) (1.19.5)\n",
            "Requirement already satisfied: pytz>=2017.2 in /usr/local/lib/python3.7/dist-packages (from pandas->twint) (2018.9)\n",
            "Requirement already satisfied: python-dateutil>=2.7.3 in /usr/local/lib/python3.7/dist-packages (from pandas->twint) (2.8.2)\n",
            "Requirement already satisfied: six>=1.5 in /usr/local/lib/python3.7/dist-packages (from python-dateutil>=2.7.3->pandas->twint) (1.15.0)\n",
            "Collecting twint\n",
            "  Cloning https://github.com/twintproject/twint.git (to revision origin/master) to /tmp/pip-install-tv_6jagr/twint_65950d857bf64740be36961f9518eb6b\n",
            "  Running command git clone -q https://github.com/twintproject/twint.git /tmp/pip-install-tv_6jagr/twint_65950d857bf64740be36961f9518eb6b\n",
            "\u001b[33m  WARNING: Did not find branch or tag 'origin/master', assuming revision or ref.\u001b[0m\n",
            "  Running command git checkout -q origin/master\n",
            "Requirement already satisfied: aiohttp in /usr/local/lib/python3.7/dist-packages (from twint) (3.8.1)\n",
            "Requirement already satisfied: aiodns in /usr/local/lib/python3.7/dist-packages (from twint) (3.0.0)\n",
            "Requirement already satisfied: beautifulsoup4 in /usr/local/lib/python3.7/dist-packages (from twint) (4.6.3)\n",
            "Requirement already satisfied: cchardet in /usr/local/lib/python3.7/dist-packages (from twint) (2.1.7)\n",
            "Requirement already satisfied: dataclasses in /root/.local/lib/python3.7/site-packages (from twint) (0.6)\n",
            "Requirement already satisfied: elasticsearch in /usr/local/lib/python3.7/dist-packages (from twint) (7.16.0)\n",
            "Requirement already satisfied: pysocks in /usr/local/lib/python3.7/dist-packages (from twint) (1.7.1)\n",
            "Requirement already satisfied: pandas in /usr/local/lib/python3.7/dist-packages (from twint) (1.1.5)\n",
            "Requirement already satisfied: aiohttp_socks in /usr/local/lib/python3.7/dist-packages (from twint) (0.7.1)\n",
            "Requirement already satisfied: schedule in /usr/local/lib/python3.7/dist-packages (from twint) (1.1.0)\n",
            "Requirement already satisfied: geopy in /usr/local/lib/python3.7/dist-packages (from twint) (1.17.0)\n",
            "Requirement already satisfied: fake-useragent in /usr/local/lib/python3.7/dist-packages (from twint) (0.1.11)\n",
            "Requirement already satisfied: googletransx in /usr/local/lib/python3.7/dist-packages (from twint) (2.4.2)\n",
            "Requirement already satisfied: pycares>=4.0.0 in /usr/local/lib/python3.7/dist-packages (from aiodns->twint) (4.1.2)\n",
            "Requirement already satisfied: cffi>=1.5.0 in /usr/local/lib/python3.7/dist-packages (from pycares>=4.0.0->aiodns->twint) (1.15.0)\n",
            "Requirement already satisfied: pycparser in /usr/local/lib/python3.7/dist-packages (from cffi>=1.5.0->pycares>=4.0.0->aiodns->twint) (2.21)\n",
            "Requirement already satisfied: frozenlist>=1.1.1 in /usr/local/lib/python3.7/dist-packages (from aiohttp->twint) (1.2.0)\n",
            "Requirement already satisfied: typing-extensions>=3.7.4 in /usr/local/lib/python3.7/dist-packages (from aiohttp->twint) (3.10.0.2)\n",
            "Requirement already satisfied: multidict<7.0,>=4.5 in /usr/local/lib/python3.7/dist-packages (from aiohttp->twint) (5.2.0)\n",
            "Requirement already satisfied: attrs>=17.3.0 in /usr/local/lib/python3.7/dist-packages (from aiohttp->twint) (21.2.0)\n",
            "Requirement already satisfied: charset-normalizer<3.0,>=2.0 in /usr/local/lib/python3.7/dist-packages (from aiohttp->twint) (2.0.8)\n",
            "Requirement already satisfied: yarl<2.0,>=1.0 in /usr/local/lib/python3.7/dist-packages (from aiohttp->twint) (1.7.2)\n",
            "Requirement already satisfied: aiosignal>=1.1.2 in /usr/local/lib/python3.7/dist-packages (from aiohttp->twint) (1.2.0)\n",
            "Requirement already satisfied: asynctest==0.13.0 in /usr/local/lib/python3.7/dist-packages (from aiohttp->twint) (0.13.0)\n",
            "Requirement already satisfied: async-timeout<5.0,>=4.0.0a3 in /usr/local/lib/python3.7/dist-packages (from aiohttp->twint) (4.0.1)\n",
            "Requirement already satisfied: idna>=2.0 in /usr/local/lib/python3.7/dist-packages (from yarl<2.0,>=1.0->aiohttp->twint) (2.10)\n",
            "Requirement already satisfied: python-socks[asyncio]<3.0.0,>=2.0.0 in /usr/local/lib/python3.7/dist-packages (from aiohttp_socks->twint) (2.0.0)\n",
            "Requirement already satisfied: urllib3<2,>=1.21.1 in /usr/local/lib/python3.7/dist-packages (from elasticsearch->twint) (1.24.3)\n",
            "Requirement already satisfied: certifi in /usr/local/lib/python3.7/dist-packages (from elasticsearch->twint) (2021.10.8)\n",
            "Requirement already satisfied: geographiclib<2,>=1.49 in /usr/local/lib/python3.7/dist-packages (from geopy->twint) (1.52)\n",
            "Requirement already satisfied: requests in /usr/local/lib/python3.7/dist-packages (from googletransx->twint) (2.26.0)\n",
            "Requirement already satisfied: pytz>=2017.2 in /usr/local/lib/python3.7/dist-packages (from pandas->twint) (2018.9)\n",
            "Requirement already satisfied: numpy>=1.15.4 in /usr/local/lib/python3.7/dist-packages (from pandas->twint) (1.19.5)\n",
            "Requirement already satisfied: python-dateutil>=2.7.3 in /usr/local/lib/python3.7/dist-packages (from pandas->twint) (2.8.2)\n",
            "Requirement already satisfied: six>=1.5 in /usr/local/lib/python3.7/dist-packages (from python-dateutil>=2.7.3->pandas->twint) (1.15.0)\n"
          ]
        }
      ]
    },
    {
      "cell_type": "markdown",
      "source": [
        "Below is code for retreiving tweets using Twint. Twint is a webscrapping library for twitter."
      ],
      "metadata": {
        "id": "s5J9do3mnuIR"
      }
    },
    {
      "cell_type": "code",
      "metadata": {
        "id": "ASvqxKtzobao",
        "colab": {
          "base_uri": "https://localhost:8080/"
        },
        "outputId": "4f3b08ca-8527-4479-d04f-58f976bcf62e"
      },
      "source": [
        "import datetime\n",
        "import time\n",
        "\n",
        "def runSearch():\n",
        "  #time.sleep(30)\n",
        "  try:\n",
        "    twint.run.Search(c)\n",
        "  except Exception:\n",
        "    #time.sleep(10)\n",
        "    try: twint.run.Search(c)\n",
        "    except Exception: pass\n",
        "\n",
        "\n",
        "start_date = datetime.datetime(2021,1,1)\n",
        "first_date = datetime.datetime(2021,1,1)\n",
        "start_end_date = start_date + datetime.timedelta(days=1)\n",
        "end_date = datetime.datetime(2021,2,1)\n",
        "\n",
        "df = twint.storage.panda.Tweets_df;\n",
        "df_temp = twint.storage.panda.Tweets_df;\n",
        "\n",
        "while (start_date != end_date):\n",
        "  c = twint.Config()\n",
        "  c.Search = \"bitcoin\"\n",
        "  c.Limit = 1\n",
        "  c.Lang = 'en'\n",
        "  c.Since = start_date.strftime(\"%Y-%m-%d\")\n",
        "  c.Until = start_end_date.strftime(\"%Y-%m-%d\")\n",
        "  c.Pandas = True\n",
        "  nest_asyncio.apply()\n",
        "  if (start_date == first_date):\n",
        "    runSearch()\n",
        "    df = twint.storage.panda.Tweets_df\n",
        "  else:\n",
        "    runSearch()\n",
        "    df_temp = twint.storage.panda.Tweets_df\n",
        "    if (df_temp.empty):\n",
        "      runSearch()\n",
        "    df_temp = twint.storage.panda.Tweets_df\n",
        "    df = pd.concat([df, df_temp], ignore_index=True)\n",
        "  start_date = start_end_date\n",
        "  start_end_date += datetime.timedelta(days=1)"
      ],
      "execution_count": null,
      "outputs": [
        {
          "output_type": "stream",
          "name": "stdout",
          "text": [
            "[!] No more data! Scraping will stop now.\n",
            "found 0 deleted tweets in this search.\n",
            "1345520244564094979 2021-01-02 23:59:59 +0000 <ThisNigga_QUE> That Bitcoin I got from Meg moving on up out here\n",
            "1345520237945483264 2021-01-02 23:59:57 +0000 <EstebanOcampo86> @arielsbdar Es una burbuja el bitcoin?? Así lo ven @cbuteler y @carod2015\n",
            "1345520226629201920 2021-01-02 23:59:55 +0000 <franciscojaav13> Huelo mucha euforia y mucho \"FOMO\" en mi TL sobre el Bitcoin (Enhorabuena a los agraciados), cada uno que crea arriesgar lo que vea conveniente y luego asuma sus consecuencias, yo de entrar lo haría con una porcentaje muy reducido y \"muy conservador\" del 0,5%-1% de mi cartera.\n",
            "1345520220774002693 2021-01-02 23:59:53 +0000 <Shinoha94456815> @luke_chulack @CryptoMessiah For sth to be used as a store of value, they need to be stable in price, which Bitcoin fails to do so.\n",
            "1345520220472037376 2021-01-02 23:59:53 +0000 <CryptoWatchBot> @Bitcoin, #Bitcoin is the coin with the best risk-adjusted returns of the past 24 hours\n",
            "1345520220409110528 2021-01-02 23:59:53 +0000 <Temi_Teey> Its time to continue my forex trading and sure as hell gonna be into bitcoin on God\n",
            "1345520219817717761 2021-01-02 23:59:53 +0000 <Gingermonkey3> @tooshrt @ferby49259162 @Q123_1234567CUE @xrp_mami What  utility does bitcoin have\n",
            "1345520218945290241 2021-01-02 23:59:53 +0000 <CryptoWatchBot> #Investing 533.7% in this optimal #crypto portfolio and -433.7% #cash in the past 24 hours would have given you a 10.0% return rather than #Bitcoin's 8.8%, for the same level of #risk  https://t.co/lgxVfTXOvx\n",
            "1345520216344829953 2021-01-02 23:59:52 +0000 <CryptoWatchBot> Best #cryptocurrency risk-adjusted returns in the past 24 hours: 1. #Bitcoin $BTC 2. #Ethereum $ETH 3. #Decred $DCR  https://t.co/PqQ12ne190\n",
            "1345520201589170176 2021-01-02 23:59:49 +0000 <BTC_Kongming> ct is not euphoric, despite literally everyone here saying we are  i were around in 2017 during $20k and the subsequent insane alt season  i know what euphoria feels like, and this is NOT it...  #bitcoin #crypto\n",
            "1345520200460816384 2021-01-02 23:59:49 +0000 <TheSpeculat0r> @Goldismoney1 @geraldautier @PeterSchiff So you say. You’re still going on about it. Seems like a real raw nerve. But anyway, no one is talking about using bitcoin to buy groceries so dunno why you’d mention it. At least ive offered you a laugh at my expense. So far you’ve added nothing to this little side debate.\n",
            "1345520195583029249 2021-01-02 23:59:47 +0000 <BitcoinWhiskers> @zndtoshi Who are you to determine what Bitcoin is? People value Bitcoin in different ways. Same for ETH it doesn't need 2.0 to work. Don't trust verify.\n",
            "1345520194291191815 2021-01-02 23:59:47 +0000 <Gionnaaaaaa> I invested a dollar in Bitcoin the other day on cash app &amp; It done increase to $10 that fast\n",
            "1345520183729745922 2021-01-02 23:59:45 +0000 <Martin68072602> @angielove006 @cnnbrk Plan Bs stock to flow model was 3 days off, predicting a 32K #btc  by the end of 2020. He predicts a 100K #bitcoin  in 2021, let that sink in.\n",
            "1345520172493283329 2021-01-02 23:59:42 +0000 <petithorny> @altazor39 @Cryptocrata Eliminé mi tweet por un error de redacción, entiendo a lo que vas pero es que estos no son tulipanes y eso pasó en un corto periodo de tiempo.  Bitcoin y las Criptomonedas son las que una moneda virtual, es seguridad, confianza, privacidad hasta cierto punto.\n",
            "1345520159797116930 2021-01-02 23:59:39 +0000 <Truthproject4> Pay me in bitcoin...  https://t.co/NBtTLTiLV3 #Canada #cdnpoli #abpoli #Bitcoin #Economics #EndTheLockdowns #COVID19 #COVID19AB #COVID20 #BitcoinCash #USA  @BerwickJeff @DanDicksPFT @Lukewearechange @WorldAltMedia @ezralevant @CandiceMalcolm @MaximeBernier\n",
            "1345520158245343239 2021-01-02 23:59:38 +0000 <kakeskakeskakes> @W_S__ @AdoraAdoreHer Simplest explanation: 1- we used to record everything by memory  2- we then moved on to paper and pen 3- we then moved to XLS , SQL, cloud etc  The next move is blockchain, everything will be stored there  4- Bitcoin is the oldest and most tested blockchain  5- decentralized\n",
            "1345882629367713794 2021-01-03 23:59:58 +0000 <btc1000eth100> いや、これ。  年明け・月明け・週明けの  ウキウキ『 入金組 』  殺しにきてる!?www  $BTC #BTC  #bitcoin  #ビットコイン\n",
            "1345882611743264768 2021-01-03 23:59:54 +0000 <baldcall> @ZamaniNemat @SwanBitcoin @BillyBambrough @coryklippsten Maybe if you stop asking for free airdrops and read up some more about Bitcoin.  Go read the Bitcoin standard by safedean amous  And then see if you make the same argument\n",
            "1345882603467857920 2021-01-03 23:59:52 +0000 <0xmrmasa88> このおっさんの2021年末のビットコイン評価が楽しみ。今年は、#ビットコイン　は　#Tesla のパフォーマンスは超えると見ている。  Bitcoin Surged Almost 4X in 2020, Peter Schiff Admits, But He Remains Sceptical About BTC  https://t.co/Ds48ZEO7rO\n",
            "1345882597134651392 2021-01-03 23:59:51 +0000 <xrpbobafett> #sec #btc what is bitcoin ?  https://t.co/zmQDObqRgV  __________ #btc  available via  https://t.co/xSCSKQCXR5  https://t.co/UrEawgvqsi\n",
            "1345882590453006336 2021-01-03 23:59:49 +0000 <william15408> @PeterMcCormack lol what a loser. Nocoiners can't stop talking about bitcoin. Everyone's time will be dominated in bitcoin whether they like it or not.\n",
            "1345882590033666060 2021-01-03 23:59:49 +0000 <Christo04469660> @BTC_Archive @Benaskren I heard about bitcoin in 2012 and never invested, ckfu !\n",
            "1345882589094154241 2021-01-03 23:59:49 +0000 <qhatucrypto> #Bitcoin Binance 4h BTCUSDT:33000.00 RSI(65.45) StochRSI(19.58,42.85) macd(1447.82,1306.48) sma8:33240.51 sma21:30871.33 sma50:28866.04 sma100:26195.20 sma200:22731.97\n",
            "1345882580000755712 2021-01-03 23:59:47 +0000 <FOMOincrypto> #FOMO coming in hot 🔥 #Bitcoin  https://t.co/g7B1EbV86J\n",
            "1345882577010384896 2021-01-03 23:59:46 +0000 <JDalmulder> @davidgokhshtein Speaking of such goals my #Bitcoin brother @CryptoND1 just set a GOAL for 2021 to reach 100k followers on our YouTube show #Bitcoinlive...🚀  So we have to achieve exponential GROWTH just like #Bitcoin and #Blockchain...🚀  Any THOUGHTS...😉🤗  https://t.co/tes6hSRZvc\n",
            "1345882574850297856 2021-01-03 23:59:45 +0000 <souzadcrf> @ale_apicelo Você não é bitcoin, mas investi tudo o que eu tenho em você.❤️😘😍\n",
            "1345882572786724864 2021-01-03 23:59:45 +0000 <cryptojoeinvest> @jack To everyone that doesn't understand this, it's #Bitcoin's 12th birthday today.  https://t.co/5dGXWoa25p\n",
            "1345882569573883904 2021-01-03 23:59:44 +0000 <Michael98411057> #london #unitedkingdom #Bundesliga #hungary #switzerland #tottenham #messi #Ronaldo #sportwetten #skybet #germany #Ethereum #schalke04 #scommesse #FUT21 #BTCUSD #coinbaseofficial #bet365 #football #bwi#COVID19 #Bye2020 #Welcome2021 #NewYearWithPLT #sportwetten #skybet #bitcoin\n",
            "1345882556215013377 2021-01-03 23:59:41 +0000 <MarcoPablos3> @juanencripto Juan buenas tardes recomiendame una wallet segura por favor en donde pueda guardar mi fracción de bitcoin ya que estuve checando las 10 mejores según un artículo y todas están teniendo muchos problemas\n",
            "1345882542726029312 2021-01-03 23:59:38 +0000 <AMANPURIEX> The cryptocurrency Bitcoin is continuing its upward trend, despite a temporary adjustment. There is a lot of interest in how far it will continue to rise. #BTC #AMAL #amanpuri #ETH #XRP #cryptocurrency #altcoin  #bitcoin #China #アマンプリ #BTCFX  https://t.co/2yzY7PtC1K\n",
            "1345882538628292609 2021-01-03 23:59:37 +0000 <BVL95_> @LexxisLexx I’ve been checking crypto brokers but I’ll probably just stay w/ Robinhood on this one. But you can’t move it like bitcoin huh?\n",
            "1345882531208564737 2021-01-03 23:59:35 +0000 <NELSONARISTOTE1> @Aemon3428 Plata del narcotráfico están entrando al sistema de bitcoin por lo cual se ve el nivel de desespero de los lavadores y narcotraficantes de legalizar ese dinero por eso Miami cuna de los narcotraficantes esta a punto de invertir en bitcoin\n",
            "1345882530898202629 2021-01-03 23:59:35 +0000 <patrickluberus> @WhyyBitcoin @alexjohnward @hodl_britannia @MartinAudley @woonomic Not true, Bitcoin miners have to pay for their extremely high operating expenses. Nano has minimal operating costs and no block rewards or miner dumping  Gold doesn't require constant mining to keep working, Bitcoin does\n",
            "1345882530700935168 2021-01-03 23:59:35 +0000 <j_jexxa> @Jas47164177 @RichardHeartWin @crypt0snews @Hexologist31 @TCryptolark livecoinwatch is a great place to compare price against bitcoin (see the small figures) in each of the daily timeframes. Might put some more perspective on this. Yearly performance against BTC is off the charts for Hex.  DYOR folks  https://t.co/EckBhyW5ME\n",
            "1345882529258033152 2021-01-03 23:59:34 +0000 <TomikWasHere> Cardano &gt; XRP ... Change my mind #bitcoin #cardano #ripple #xrp #Crypto #cryptocurrencies #ADA\n",
            "1345882523230900224 2021-01-03 23:59:33 +0000 <Chartlogic_io> Wowa, already up 100%+ as $ALT/ $BTC ratios of majors get a huge bounce!   Beautiful bull flag continuation. And they said alts are dead ;)  #cryptocurrency #tradecrypto #Bitcoin #Ethereum #Altseason2021  https://t.co/p4IRKlrlGG\n",
            "[!] No more data! Scraping will stop now.\n",
            "found 0 deleted tweets in this search.\n",
            "[!] No more data! Scraping will stop now.\n",
            "found 0 deleted tweets in this search.\n",
            "[!] No more data! Scraping will stop now.\n",
            "found 0 deleted tweets in this search.\n",
            "1346607409431769088 2021-01-05 23:59:59 +0000 <Dunny28_> My stock profile pretty much is @MonsterEnergy @Tesla @elonmusk  @Bitcoin  and #Dogecoin  haha 💰💰💰💰💰💰💰💰🔒\n",
            "1346607408836190208 2021-01-05 23:59:59 +0000 <Scott_W_Lee> A $2k day and somehow it feels like a down day, since it’s a lower high maybe? Puts me off a little in a bearish way. That said, I think it wants to try $35k. I’m 45/55 that it makes it over and runs on up to $39k...maybe even $45k before next major dip. #bitcoin\n",
            "1346607408207065090 2021-01-05 23:59:59 +0000 <mwalno> Look out as @AaronSchumm @Vestwell is going to roll out #Bitcoin strategy “soon”...makes sense to hold in #401k for tax reasons...well done @craigiskowitz #fintech\n",
            "1346607388338610176 2021-01-05 23:59:54 +0000 <Cointrader1982> If i can only give one advice..   Being impatient got me rekt 🙊 Many Times in 2020..  Whatever your situation is.. be patient  I still have a long way to go But i Will make it.. (learn from your mistakes)  I did it the hard way...  #bitcoin #ethereum #crypto $rsr $bpp  https://t.co/ocPlz4hYoG\n",
            "1346607387868884993 2021-01-05 23:59:54 +0000 <NSKinsella> @WHITESWORD777 @100trillionUSD in other words, it's a voluntary thing. Some people call it BTC or bitcoin, and you don't like it. Convince them to change, don't blame BTC\n",
            "1346607387000492032 2021-01-05 23:59:54 +0000 <Martin68072602> @edward_gorbis @APompliano #bitcoin  believers understand that it’s true intrinsic value isn’t what #bitcoin  is, but what #bitcoin  can do, is currently doing, can achieve and has already achieved.\n",
            "1346607378477813760 2021-01-05 23:59:52 +0000 <PBAndJLy> Me when I see #bitcoin AND #Dogecoin going up:  https://t.co/7fyIO8WaT4\n",
            "1346607374749077515 2021-01-05 23:59:51 +0000 <LaCryptoMonnai1> Julian Assange reçoit un don Bitcoin d'une valeur de 400000 $ -  https://t.co/c3w6pdTBtP\n",
            "1346607365148135424 2021-01-05 23:59:49 +0000 <MetatronInc> Here's how bitcoin could soon be worth $146,000 according to JPMorgan   https://t.co/EbzD8ktRIM\n",
            "1346607361826443264 2021-01-05 23:59:48 +0000 <ArekkusuBasu> @ihatecodee That depends entirely on how much #Bitcoin you have 😏  https://t.co/1X2I4Bcsxq\n",
            "1346607360157036548 2021-01-05 23:59:48 +0000 <_double_digits> Reasons Why Investors are Pilling up Into Bitcoin    https://t.co/jZNBrMRiuy\n",
            "1346607354431811587 2021-01-05 23:59:46 +0000 <Martin68072602> @WhyNaught_ @APompliano #bitcoin  believers understand that it’s true intrinsic value isn’t what #bitcoin  is, but what #bitcoin  can do, is currently doing, can achieve and has already achieved.\n",
            "1346607349860069377 2021-01-05 23:59:45 +0000 <sophiaxxa> estoy triste, consignenme un bitcoin\n",
            "1346607347859275778 2021-01-05 23:59:45 +0000 <JinglesBTC> @5omni @Countergrind @michael_saylor It’s a malleability fix, it allows more tx’s and bigger blocks, it also allows the development of 2nd layers so gives the ability of any function to be built on Bitcoin.\n",
            "1346607334013988868 2021-01-05 23:59:41 +0000 <LucaT21> @davidgokhshtein Already sent you an DM i want to start my first Crypto Investion! I \"only\" have 100€/Month for a Saving Plan. 50 in Bitcoin and 50 in? Thought of XRP or ETH. What do you think?\n",
            "1346607327982489600 2021-01-05 23:59:40 +0000 <Martin68072602> @LiamDaviesHQ @APompliano #bitcoin  believers understand that it’s true intrinsic value isn’t what #bitcoin  is, but what #bitcoin  can do, is currently doing, can achieve and has already achieved.\n",
            "1346607322811002882 2021-01-05 23:59:39 +0000 <aynenbncde> @coindunyasii @NoUcuzluk gram bitcoin oluo mu\n",
            "1346607317148688384 2021-01-05 23:59:37 +0000 <WendyBaron18> @Bloqport #Bitcoin 3Chf7QRNgSmh14UAvjSq8WBjmhuHq1n8Tw\n",
            "1346607313952636928 2021-01-05 23:59:37 +0000 <whitefleaCH> #stonks vs. #Bitcoin #googletrends BingBingBing, we have a winner!  https://t.co/IzJaOqQAPH\n",
            "1346607310479765505 2021-01-05 23:59:36 +0000 <that_koog> Praying on bitcoin's downfall so i can get them new graphics cards\n",
            "1346969794495602689 2021-01-06 23:59:59 +0000 <DavidTheKid12> 37 Handle for #Bitcoin\n",
            "1346969794076151818 2021-01-06 23:59:59 +0000 <mtmuniversity> When I first started trading bitcoin it was around $9,000. 3 months later it’s now surpassed $30,000.   If only I had kept this position open 😩! 🏦\n",
            "1346969789932077056 2021-01-06 23:59:58 +0000 <BearOpportunist> ETH = Future BITCOIN ?  @ReliableWatch @nto1927 @DKBIN_\n",
            "1346969789365772289 2021-01-06 23:59:57 +0000 <BigCryptoT> Bulls have gone Ape Shit! 🦍 $BTC 40K is inevitable! #Bitcoin  https://t.co/RKmxrmfPMZ\n",
            "1346969783120633859 2021-01-06 23:59:56 +0000 <karlhavoc13> @ahcastor Think of how much money you could have made by now if you put $100 into bitcoin every time you tweeted something negative about it.\n",
            "1346969782583758854 2021-01-06 23:59:56 +0000 <CryptoSal_man> @Bloqport #Bitcoin\n",
            "1346969780503400448 2021-01-06 23:59:55 +0000 <RyanRozbiani> #bitcoin IS A MACHINE! $37k ATH!  https://t.co/xUnYqlmQAb\n",
            "1346969780079579137 2021-01-06 23:59:55 +0000 <Darzhel> @criptobastardo @decentralized_b @satoshienvzla Hace 6 años conocí al bitcoin, y es hasta ahora que voy a instalar mi primer full nodo. 322gb allá vamos...\n",
            "1346969777282056192 2021-01-06 23:59:55 +0000 <TinoTrader1> Cuando valía 35.900 llegamos a 38.000 hoy? #bitcoin  https://t.co/tUSEtj8gfP\n",
            "1346969765751836676 2021-01-06 23:59:52 +0000 <JoeTourville1> I woke up and bought bitcoin and multiple shares of every one of these specimens from @PBRNewYork today.\n",
            "1346969765726744578 2021-01-06 23:59:52 +0000 <AutismCapital> We need Bitcoin, Ethereum, DeFi, Censorship Resistance, and Distributed Platforms like our lives depend on it -- because they do. Things are not going to go \"back to normal.\" This is the new normal. If you think deplatforming is bad now, imagine where the trend goes. Build now!\n",
            "1346969764812484614 2021-01-06 23:59:52 +0000 <Franciscryptor> My Mood right now Everywhere is getting hottee Good night 😵😵😵😴😴😴 #BYOB  #Bitcoin  https://t.co/s8x3Gk3YJU\n",
            "1346969760278331393 2021-01-06 23:59:50 +0000 <Kenjimolab> Pagi ini liat harga bitcoin sampe 500jt itu bener2 wahh kali asli rada kesel dikit haha. kenal btc dari jaman pas smp yg harganya 3jtan yang tiap harinya dulu gua mulung recehan dari faucet buat tambah2 jajan yang cairnya hrs berbulan2 dulu\n",
            "1346969750572650496 2021-01-06 23:59:48 +0000 <Croesus_BTC> @BitcoinMagazine Bitcoin Magazine staff trying to update this meme fast enough  https://t.co/bGHY6BhujJ\n",
            "1346969747317903364 2021-01-06 23:59:47 +0000 <AlMamun75552823> The total giveaway in @latokens SMBSWAP Airdrop is worth $200,000! 💸 💰 Complete simple tasks and get a share of 200,000 @SimbCoin tokens.  https://t.co/6KVVqnBiKK #crypto #bitcoin #freecrypto #airdrop\n",
            "1346969746412023808 2021-01-06 23:59:47 +0000 <crockercrypto> (5) As we see the mass adoption of #Bitcoin and #Cryptocurrencies through the next few generations, we should be looking out for the younger generation and the influence it is having on the future of finance.\n",
            "1346969737050382341 2021-01-06 23:59:45 +0000 <shopinbit> After seeing #Bitcoin move above 36k, the #marketcap of the #cryptocurrency market is now above 1 Trillion!  https://t.co/0o0TR4tR5g\n",
            "1346969733032132610 2021-01-06 23:59:44 +0000 <cuchuangxl> 37k #bitcoin\n",
            "1346969724765220864 2021-01-06 23:59:42 +0000 <Evosondeck> Ight. Bitcoin at 37 bands.\n",
            "[!] No more data! Scraping will stop now.\n",
            "found 0 deleted tweets in this search.\n",
            "1347332179873984512 2021-01-07 23:59:58 +0000 <SeekingTheValue> @ElMarinaLXVII Si si clavado! Cómo sabe el estado cuántas monedas de oro tengo y dónde las guardo? Que obliguen a lo que quieran, les dices que las has perdido y ya. Sin embargo si quieren prohibir el Bitcoin lo tienen mucho más fácil.\n",
            "1347332170076061697 2021-01-07 23:59:56 +0000 <cryptoverse13> 7 Jan 2021 recap  - #Bitcoin touches 40K - #ElonMusk  surpasses Jeff Bezo's as the richest man in the world - #WhatsappNewPolicy looks to use users data - #JoeBiden will be sworn in as president on 22 Jan  And the year has only started. #2021\n",
            "1347332169170112515 2021-01-07 23:59:56 +0000 <Bubblespotting> @JaredLCarter Jared,can i ask you, whats your opinion on the price devolpment in bitcoin aside from  the technical bitcoin invention !\n",
            "1347332169169989632 2021-01-07 23:59:56 +0000 <b_winning> @raspopoj @RaoulGMI @brijo1999 How much of a proxy do you think MSTR is to owning Bitcoin? 50-60%\n",
            "1347332161800720387 2021-01-07 23:59:54 +0000 <CryptoWatchBot> #Investing 68.4% in this optimal #crypto portfolio and 31.6% #cash in the past 24 hours would have given you a 10.4% return rather than #Bitcoin's 6.6%, for the same level of #risk  https://t.co/W8KsGD5KgH\n",
            "1347332158931800065 2021-01-07 23:59:53 +0000 <CryptoWatchBot> Best #cryptocurrency risk-adjusted returns in the past 24 hours: 1. #Ripple $XRP 2. #Bitcoin $BTC 3. #Zcash $ZEC  https://t.co/5smpq5P0PU\n",
            "1347332157551861766 2021-01-07 23:59:53 +0000 <juanluisam> Me acaba de llegar un correo. Me ofrecen un beneficio de 3000$ si invierto 300$ en las próximas 24H. En de eso que llaman Bitcoin, me dice. No requiere conocimientos previos. Ellos asesoran. Le conteste que ando mamando y loco, pero que si me presta los 300 vamos mitad y mitad.  https://t.co/8O7xCTG4wd\n",
            "1347332156834635777 2021-01-07 23:59:53 +0000 <_Brian_Harris> @apagut Most people here just want to trade the volatility and don't really give a shit about what bitcoin can do to transform our world. People wanted decoupling and stability, and once they get it, they cry because #BTC moons. No patience.\n",
            "1347332144369192963 2021-01-07 23:59:50 +0000 <schieritz> Nur Gold und Bitcoin kann uns jetzt noch retten  @StephanEwald\n",
            "1347332140556558341 2021-01-07 23:59:49 +0000 <johndavisrussel> @kucoincom Bee Network is the fastest growing cryptocurrency community in the world. It reached 1 million users in under 1 month. It has the potential to become the next bitcoin. You need a referral code to register. You can use mine: soulfly01\n",
            "1347332135208804352 2021-01-07 23:59:47 +0000 <ancapargie> @bobbyclee @Tesla @elonmusk I prefer the one bitcoin instead the Tesla 🤷‍♂️\n",
            "1347332132050530320 2021-01-07 23:59:47 +0000 <choquenieve> @Luis_Herbst @lucasllach Razones fundamentales: Bitcoin es un banco suizo de internet, pero abierto a cualquiera y con emisión limitada y comprobable por uno mismo.   Razones coyunturales: Gasto fiscal y emisión de moneda fiat descontrolada en todo el mundo. Empresas y fondos de inversión comprando.\n",
            "1347332131748511746 2021-01-07 23:59:47 +0000 <MilosTamajka> ✍️Honestly the rally of $BTC and $ETH these days is so fast. I am scared a bit😯 I prefer nice smooth 📶 I know this is crypto😎What do you think will we hit first 50k or 30k? #binance #Bitcoin #cryptocurrencies\n",
            "1347332130406354950 2021-01-07 23:59:46 +0000 <Tyler55431291> There is a powerful driving force inside every  being that, once unleashed, can make any vision, dream, or desire a reality. Invest in bitcoin mining and earn 10x of your investment capital. Whatsapp for detail  +44(1223)790681 #blockchain #investments #tradingcards #tradingview  https://t.co/4Mr2tDZS2l\n",
            "1347332129152237574 2021-01-07 23:59:46 +0000 <franklin_chyke7> @Peruzzi @peruzzi how the bitcoin won b 10k own go do\n",
            "1347332118955831297 2021-01-07 23:59:44 +0000 <johndavisrussel> @GoTurkey Bee Network is the fastest growing cryptocurrency community in the world. It reached 1 million users in under 1 month. It has the potential to become the next bitcoin. You need a referral code to register. You can use mine: soulfly01\n",
            "1347332116154118145 2021-01-07 23:59:43 +0000 <RefractorSupply> @SigsSimmos Take bitcoin?\n",
            "1347332110873452544 2021-01-07 23:59:42 +0000 <Nkemflix_> @stephanieokoye_ Wahala for who no get Bitcoin.\n",
            "1347332107480268803 2021-01-07 23:59:41 +0000 <themillerchild> bitcoin gonna hit 60k or more by the end of the year maybe even sooner\n",
            "1347332102254178304 2021-01-07 23:59:40 +0000 <tfeller> @RampCapitalLLC Buy bitcoin\n",
            "[!] No more data! Scraping will stop now.\n",
            "found 0 deleted tweets in this search.\n",
            "[!] No more data! Scraping will stop now.\n",
            "found 0 deleted tweets in this search.\n",
            "1348056957165461511 2021-01-09 23:59:58 +0000 <Ts00P> @BitcoinTina The problem is everyone throws it all into one basket 'cryptocurrency' like they are all trying to compete with eachother, ethereum isn't trying to be hard money #bitcoin is. Ethereum could litterly better be run on a sql server\n",
            "1348056949548589059 2021-01-09 23:59:57 +0000 <aPerfect_System> @KSI Have fun staying poor, lol.  #Bitcoin\n",
            "1348056949204647938 2021-01-09 23:59:57 +0000 <GlobCitizen2017> @stephanlivera @ramit Fully agree. Time for @ramit to get behind #bitcoin and further support people becoming financially secure and sovereign\n",
            "1348056948483129344 2021-01-09 23:59:56 +0000 <BeatzCoin> VibraVid is the diamond in the dirt. So much potential to help content creators and artists alike  One day, users will be able to convert their BeatzCoin to Bitcoin and pay their bills with a few clicks. We are constantly reaching out to create relationships that benefit everyone  https://t.co/1Dw2NfBtjb\n",
            "1348056940866392064 2021-01-09 23:59:55 +0000 <bitvestor> I told a lot of people in my job before something like 4.5k...ive been saying it for months...they never listen.  I feel like I will be repeating myself until we hit100k  #Bitcoin\n",
            "1348056934558011397 2021-01-09 23:59:53 +0000 <parabolictrav> Blew out the bottom on yields in March 2020. I don’t think we’ll ever go lower IN HISTORY  I think in the #bitcoin paradigm we now are going to blow out to the upside  Die  https://t.co/LxkWgjHIqi\n",
            "1348056928811769857 2021-01-09 23:59:52 +0000 <ommmmmeeh> Not sure why everyone thinks #bitcoin is pumping because of the quantitative tightening (halving) event. Secretly, this Discord trading group with 250,000 members has been pushing it's price. They pumped: $btc, $eth, $link and $xrp. Interesting group 👉  https://t.co/12LAMEpYgD\n",
            "1348056928782479361 2021-01-09 23:59:52 +0000 <bbhjmcityx_1810> Not sure why everyone thinks #bitcoin is pumping because of the quantitative tightening (halving) event. Secretly, this Discord trading group with 250,000 members has been pushing it's price. They pumped: $btc, $eth, $link and $xrp. Interesting group 👉  https://t.co/ZfjGM3nMbI  https://t.co/2d6VQgUMIO\n",
            "1348056922176544769 2021-01-09 23:59:50 +0000 <alerosenfeld> @caneofuma @BetoMendeIeiev ya se que muchos son fanaticos, lo que digo que si el Bitcoin cae se deja de hablar de fiat y no fiat\n",
            "1348056909442646018 2021-01-09 23:59:47 +0000 <RalphSardor> @Complex Dollar to be worthless , Bitcoin to the moon!  https://t.co/XuW0HO0IVy\n",
            "1348056897463705601 2021-01-09 23:59:44 +0000 <A_S_Mailafiya> @ibraheemkhax Not me,nt now not in next 100years.The such a currency is lacking acceptability,only fraudsters &amp; lazy people &amp; those that are fools accept it as currency.Try &amp; see if you can buy purchase something with Bitcoin in a reputable company;may be in China you can buy pangolin with it\n",
            "1348056896184475649 2021-01-09 23:59:44 +0000 <catapultcap> @Jesse_Livermore I think it is 100% Bitcoin. It is highly dubious that Bitcoin will ever compete with the dollar...even if it had a chance sovereigns would never allow it. It can, however, disrupt gold. It has many advantages and its only disadvantage is age (which will be overcome in time).\n",
            "1348056891503607809 2021-01-09 23:59:43 +0000 <Linsan95> Just bought 30 bitcoins on Amazon #bitcoin #passiveincome  https://t.co/PRxLe5KgjA\n",
            "1348056877607776256 2021-01-09 23:59:39 +0000 <RocInvests> @MarbleEmpire @tyler 95% of all Bitcoin value is held by 2%...that’s all I’m saying.\n",
            "1348056871366782982 2021-01-09 23:59:38 +0000 <SultanDman> @maxkeiser @wmiddelkoop @DiMartinoBooth How decentralised is #Bitcoin nowadays?\n",
            "1348056868992770048 2021-01-09 23:59:37 +0000 <henleym25> @saxena_puru @LynAldenContact @ycharts Volatility in bitcoin absolutely has NOT been increasing over time. I’ve studied this month by month going back 5 years. It’s consistently been on the DECLINE.\n",
            "1348056866040008705 2021-01-09 23:59:37 +0000 <LorraineBut> @ABC Making money from home has never been better than now. You can be financially free even in Quarantine. DM me now to mine Bitcoin/Ethereum worth $100,000 today.   #Bitcoin #Ethereum #cryptocurrency #investment #BILLIONAIRE\n",
            "1348056859559673859 2021-01-09 23:59:35 +0000 <0xrasi> @adam3us Absolutely ... most will but not all. What would it take you to admire the relentless work of thousands of your students building on @ethereum . Bitcoin will take over Fed and State. Let Eth take over Wall st. Your allyship is needed not tribalism.\n",
            "1348056845290663937 2021-01-09 23:59:32 +0000 <alexkehr> @2irl4u there’s bitcoin buried under these canals\n",
            "[!] No more data! Scraping will stop now.\n",
            "found 0 deleted tweets in this search.\n",
            "1348419341377810441 2021-01-10 23:59:58 +0000 <DzambhalaHODL> @gregbrand Sell me your Bitcoin\n",
            "1348419321228308482 2021-01-10 23:59:53 +0000 <CryptoWatchBot> #Investing 50.5% in this optimal #crypto portfolio and 49.5% #cash in the past 24 hours would have given you a 12.8% return rather than #Bitcoin's -4.3%, for the same level of #risk  https://t.co/aFTgYi8UuH\n",
            "1348419312365801475 2021-01-10 23:59:51 +0000 <CommunityFlare> @BoilingPointLLC You mention supply yet fail to realise that supply has nothing to do with network decentralisation.   Would you say BTC is centralised because satoshi owns a large portion of the Bitcoin?  Having large amounts of an assets grants you no special privileges on the network.\n",
            "1348419292363169795 2021-01-10 23:59:46 +0000 <LaCryptoMonnai1> Bitcoin Miner Bit Digital dépasse la capitalisation boursière de 1 milliard de dollars -  https://t.co/WOypQsuayY\n",
            "1348419291432050690 2021-01-10 23:59:46 +0000 <CryptoCryptoNe3> Announcing our first Bitcoin Core developer grants CRYPTO CRYPTO NEWS -  https://t.co/a6Kcr0ZntW\n",
            "1348419290194735107 2021-01-10 23:59:45 +0000 <FaberSnow> Take your pick.  #Crypto #Stellar #XLM #Bitcoin #goals #Marketing #marketcap #market #ElonMusk #WarrenBuffett #investment #money #news #BAT #basicattentiontoken @crypto @binance @Bitcoin @BitcoinMagazine @BitcoinMagazine @blockchain @BTCTN @business @elonmusk\n",
            "1348419286847676418 2021-01-10 23:59:45 +0000 <LONGFuT_> @HGuerrique @SparrowsAlive @200m_Shinobi smh, just invest in your future, Not me. secure your #Bitcoin &amp; other #Cryptocurrency  #FGC  thank me later. Heres a wallet for starters  https://t.co/wBG9WDCYOd\n",
            "1348419282863083521 2021-01-10 23:59:44 +0000 <xxx23mo> Bitcoin Black v Bitcoin. Get FREE coins ($36 value)!  https://t.co/kqr50uu5FO\n",
            "1348419277792059393 2021-01-10 23:59:42 +0000 <Jeromcornax> Bitcoin goes mainstream, normies coming to crypto twitter around the same time Trump gets banned🤔\n",
            "1348419271358091266 2021-01-10 23:59:41 +0000 <ANT159694954> @halfin @fintwit_news Running bitcoin i think its in reverse\n",
            "1348419262914961411 2021-01-10 23:59:39 +0000 <niclick> @RuixRhys6 *Bitcoin  https://t.co/JUxvcVgeqZ\n",
            "1348419251946758144 2021-01-10 23:59:36 +0000 <thuynguyenanky> is a new currency built by ex-PayPal guys, currently given for free. If Q becomes a leading payment network, your Qs can be worth a lot. Just need name and email to reserve Qs. If you missed out on bitcoin, don’t miss this. By invite only:  https://t.co/gSXLGWpin7 shareUrl\n",
            "1348419227720568842 2021-01-10 23:59:30 +0000 <shatrix> @getpeid Bitcoin\n",
            "1348419220258889731 2021-01-10 23:59:29 +0000 <Hrafnagaldr1> @MangoFarmAssets @Dr_Baldrick @S1LVA___ @Ravencoin @brucefenton @Bitcoin Unfortunately we have so many people looking at this and other projects who don't understand the notion of leaderlessness, decentralization, and so on. I see it your way. Yet the average person sees this handle as having some de facto authority\n",
            "1348419216374951939 2021-01-10 23:59:28 +0000 <Nobody96382566> @_jamiis @DeFi_Dad @dmihal For this chart to be an accurate apples to apples  comparison you need to compare fees  spent on smart contract calls vs time lock contract calls &amp; fees  spent on transfers on each chain. High probability #Bitcoin is on pace in transfer terms and lagging in smart contract terms.\n",
            "1348419210582614017 2021-01-10 23:59:26 +0000 <StockInMyWays> If Bitcoin slowly fades into the mid 30k or lower without retest for 42k+ I would expect $FTFT $BTBT $RIOT $MARA $NCTY $CNET $XNET $EBON $EQOS to dip with it.\n",
            "1348419199773913090 2021-01-10 23:59:24 +0000 <dustspecht> You Can Now Pay Elon Musk in Bitcoin (via @decryptmedia)  https://t.co/JIUDZHUH6y\n",
            "1348419198989565954 2021-01-10 23:59:24 +0000 <BtcQ7> @burhanacikgoz @Cryptoo_current @cryptojeodezi #Bitcoin de Dolmayan CME GAP yoktur, sadece gecikmiş Gaplar vardır.\n",
            "1348419198180085768 2021-01-10 23:59:23 +0000 <laionemanuel> Estoy probando una API de Python para bitcoin. Después les cuento que onda.\n",
            "1348781730669465603 2021-01-11 23:59:58 +0000 <John83502072> @moon_shine15 You guys recommend buying bitcoin or bitcoin cash?\n",
            "1348781728530366466 2021-01-11 23:59:57 +0000 <aysemade> @CoinsReplika Cevaplrsan sevinirim. 1 bitcoin 35000 dolar yani 265000 tl verip aldım yarın sabah doların 2 tl olduğunu varsayarsak benim bitcoinim 70000 tl mi olacak satmak istersem. Tabi bitcoin fiyatı da değişmeyecek olursa..\n",
            "1348781722528227328 2021-01-11 23:59:56 +0000 <holymingoo> Big pullback of #Bitcoin right now! Could it be caused by this trading group with 150k members that just called the pullback on $btc, $bcd &amp; $eth? Right pointing backhand index  https://t.co/zFtTTPTjs1  https://t.co/3u08PnTCPR\n",
            "1348781714341027840 2021-01-11 23:59:54 +0000 <LicMacoco> -Veo a Melconian. -Te leo el resultado: sos de los que compra bitcoin a 40 mil dólares y a las 2 semanas está a 3 mil.  https://t.co/AUxiMRbIXW\n",
            "1348781707479146496 2021-01-11 23:59:52 +0000 <Hayess5178> $LINK   Break resistance and SEND IT Lambo 🚀  $BTC #Bitcoin  https://t.co/MME72woKgG\n",
            "1348781707210665987 2021-01-11 23:59:52 +0000 <kornkiddd> 37 trades running #bitcoin\n",
            "1348781705113513986 2021-01-11 23:59:52 +0000 <CryptoWatchBot> #Investing 2331.9% in this optimal #crypto portfolio and -2231.9% #cash in the past 24 hours would have given you a 0.4% return rather than #Bitcoin's -6.5%, for the same level of #risk  https://t.co/fbWoAliESh\n",
            "1348781700311117824 2021-01-11 23:59:51 +0000 <Goldzone3> Don’t mean to create FUD but #bitcoin could be doing this, the current V shape recovery could quite easily roll over and create the right shoulder. The target would be the 21 week EMA  https://t.co/wI6IvMEDZE\n",
            "1348781697987448832 2021-01-11 23:59:50 +0000 <paperroutechris> Don’t fall for it. Buy bitcoin still\n",
            "1348781693209960448 2021-01-11 23:59:49 +0000 <bschn> @PeterSchiff The #bitcoin market will probably eat the #gold market in the next few years, but to each their own.  https://t.co/EQQwIuLPzv\n",
            "1348781689712111617 2021-01-11 23:59:48 +0000 <YSojourners> Bitcoin Price Surpassing $300,000 ‘Would Not Be Weird’, Says Popular Crypto Analyst  https://t.co/A0vwFkPl7Y\n",
            "1348781674423754753 2021-01-11 23:59:44 +0000 <BoonChuan88> Good time to accumulate  - Cardano Plunges 30% In Selloff  https://t.co/5P0hLoI6CF  #cardano #Bitcoin\n",
            "1348781674251878405 2021-01-11 23:59:44 +0000 <iKhanworld> Bitcoin is a beast! After getting bit all day, it’s pulling it self back.. bit by bit!  #Bitcoin #Binance #Coinbase @michael_saylor\n",
            "1348781674063126528 2021-01-11 23:59:44 +0000 <MrMarkbonnett> @KingGravity @bonviemofo @_TheCivilRight Yoooo I'm thinking of all of the hustlers on ig that were talking about putting money into bitcoin.  https://t.co/Gwxnq1y1IK\n",
            "1348781635861422081 2021-01-11 23:59:35 +0000 <CurranSotomayor> I wish I could trade bitcoin the way I do forex, today I would of made a killing.   Hopefully crypto sees some regulation going into the future\n",
            "1348781622687109122 2021-01-11 23:59:32 +0000 <ExploitForward> Sounds good,  Looks like I’ll be gambling with #bitcoin\n",
            "1348781618606039046 2021-01-11 23:59:31 +0000 <_daryqueen> @salesmaverick__ Buy Bitcoin, go on YouTube/learn a skill and turn it a business\n",
            "1348781614982078464 2021-01-11 23:59:30 +0000 <fiat_zero> Up over 13% in a week. Buy the dips and HODL #Bitcoin  https://t.co/wMMdGXxWuu\n",
            "1349144124675547136 2021-01-12 23:59:59 +0000 <Shelia_crypto> 18hrs straight work in #bitcoin just to avoid a 9-5. I'm finally exhausted 😤😤😤\n",
            "1349144118031691778 2021-01-12 23:59:58 +0000 <RNR_0> @MarshyMonero @loomdart Idk what Angelo is doing Idk about bitcoin dad but I'm pretty convinced his portfolio looks different compared to mine\n",
            "1349144113686302720 2021-01-12 23:59:57 +0000 <premportfolio> My favourite Dude explaining Bitcoin for those like me, who are still trying to wrap their heads around it. I'm long because I suffer from FOMO.\n",
            "1349144112893669378 2021-01-12 23:59:57 +0000 <WaYs2rOcK> Programmer has two guesses left to access £175m bitcoin wallet | Bitcoin  https://t.co/fguHMZvMZV\n",
            "1349144110867869697 2021-01-12 23:59:56 +0000 <uniave> Go read this NYT story about losing $220 million in bitcoin  https://t.co/hSMmJoQyLU via @NewsNowUK\n",
            "1349144109647233027 2021-01-12 23:59:56 +0000 <DrSkeptic2> @PeterSchiff @PeterMcCormack @toutatis16 So @PeterSchiff  you are unwilling to enter a bet for $50k (or 0.05% of your net worth) that an asset with supposedly no intrinsic value won't ~9x in 5 years? Sounds like you aren't confident in your thesis at all. Im buying more bitcoin!\n",
            "1349144106358996992 2021-01-12 23:59:55 +0000 <boner4bitcoin> I haven’t even broken into my stash of hopium yet. #bitcoin\n",
            "1349144101195800576 2021-01-12 23:59:54 +0000 <Nakadai_mon> @Ivoteformyself @PeterMcCormack @PeterSchiff Bitcoin id not a currency and never will be!  https://t.co/YqqjL7JdQZ\n",
            "1349144094891769858 2021-01-12 23:59:52 +0000 <k29664911> Go read this NYT story about losing $220 million in bitcoin – The Verge  https://t.co/bKbRaJ3pfA\n",
            "1349144089980137473 2021-01-12 23:59:51 +0000 <hazeycazeytv> Man Forgot Password to Bitcoin Account Worth $220 Million   video report:  https://t.co/sMw4o6Kydm via @YouTube   #bitcoinnews  #bitcoin #bitcoins  https://t.co/YmXruAaJhI\n",
            "1349144089023967234 2021-01-12 23:59:51 +0000 <1e9petrichor> @sthenc CFO of a Fortune500 you wouldn’t necessarily expect, is asking about the ability to take bitcoin as payment - it’s happening\n",
            "1349144068224241666 2021-01-12 23:59:46 +0000 <jameswhelan42> what's the german word for \"i haven't lost my bitcoin wallet password but i have lost my password for a savings account i set up 17 years ago that's been taking a few dollars from my account every month for that time\"\n",
            "1349144065334337537 2021-01-12 23:59:45 +0000 <ScottMSibley> A big shoutout to @jayberjay for sending a couple copies of his awesome book my way. I can’t wait to dive in myself, and find a good home for the extra one to help spread the word about #bitcoin!  https://t.co/y1NYtBsTsV\n",
            "1349144057512128513 2021-01-12 23:59:43 +0000 <SoundMoney1> @msvetov Все политические институты - банкроты. Buy #bitcoin\n",
            "1349144055364673543 2021-01-12 23:59:43 +0000 <Tmsmoran> bitcoin haha its a joke/hoax right and always has been?\n",
            "1349144046531391491 2021-01-12 23:59:41 +0000 <BitcoinUnlimit> Anyone else remember that time @bitcoincoreorg wanted to edit the #Bitcoin white paper?  Pepperidge farm remembers...  https://t.co/of8PQc907k\n",
            "1349144044031635462 2021-01-12 23:59:40 +0000 <BTCstJournal> Bitcoin On the Cusp of Facing Another Wave of Intense Selling: Analyst  https://t.co/MgqUNWuIru #bitcoin  https://t.co/69DAWBjzMP\n",
            "1349144041078841348 2021-01-12 23:59:39 +0000 <pzalbert1> @dothebambii Si te funciona lo del bitcoin avisa 😳\n",
            "1349144039136886785 2021-01-12 23:59:39 +0000 <educarteconomic> Bitcoin, Ethereum Outlook: Short-Term Correction or Has The Bubble Burst?  https://t.co/1btjjaRRj1\n",
            "1349144021600505857 2021-01-12 23:59:35 +0000 <LycanthropeHowl> @DrSmith504 @wschambach1 @andrewdridgway @jbarro Bitcoin is a non inflationary asset that cannot be manipulated by central banks or government. If you don’t see the inherent value in that then you are ignorant.\n",
            "1349506505360498688 2021-01-13 23:59:58 +0000 <Ghost87484713> The amount of #Bitcoin you will even be able to buy will be capped. Major supply shortages coming to an exchange near you. The price at this point is irrelevant.  https://t.co/fQIJmIfvPc\n",
            "1349506498687348737 2021-01-13 23:59:56 +0000 <drifter_babylon> lets get some furry art money in #bitcoin\n",
            "1349506497164828673 2021-01-13 23:59:56 +0000 <bigs21024> @pulte ❤❤❤❤❤❤❤❤❤❤❤  I would love to win some #Bitcoin one day please please please I have been praying. We did not get our second stimulus check, I guess we have to claim it at tax time. I planned on buying #BTC to put back for my kids. Now I'm afraid the price will be high\n",
            "1349506496594403328 2021-01-13 23:59:56 +0000 <boredbluewhale> @tyler No \"Last chance to buy #Bitcoin at $37k\" tweet?\n",
            "1349506494572728322 2021-01-13 23:59:55 +0000 <CryptoCronkite> Ms. Lagarde I agree Bitcoin is funny business but have you heard of newer and better cryptocurrencies like Etherium Classic, Sushi and Litecoin? According to the witch astrologer we all follow their volatility is limited at least until the next lunar cycle  Regards,  frog wassie\n",
            "1349506485026500611 2021-01-13 23:59:53 +0000 <Jentyme> Animals &amp; plamts r down 68% On Earth &amp; #bitcoin is up over the 🌚 &amp; heading 2 #mars #biodiversity #regenerativeagriculture #carboncapture #SoilHealth #gotesla #orangejuice #tradingplaces\n",
            "1349506481973059585 2021-01-13 23:59:52 +0000 <RaymondStender> So I guess the banks don’t break any laws or regulations!!! #Wrong   Buy #Bitcoin\n",
            "1349506475543175175 2021-01-13 23:59:51 +0000 <Googlenauta> Global regulation of bitcoin, calls Christine Lagarde\n",
            "1349506472217112578 2021-01-13 23:59:50 +0000 <Hasanhas065> @mhtclkz @misscryptolady Son bitcoin kazıldığında transfer ücretlerinden ödeme yapılacak madencilere ama ben de merak ettim bu kadar düşük transfer ücretleri ile kim madencilik yapacak\n",
            "1349506470505717761 2021-01-13 23:59:49 +0000 <frogskinman> I’m not a financial expert. Here’s to the people. Buy all the Bitcoin you can afford, because governments, and private businesses will get their hands on it pretty soon. This will drive the Bitcoin price so high, you will become millionaire in a day\n",
            "1349506469151055873 2021-01-13 23:59:49 +0000 <Kinghillz3> bitcoin mining gives you 25% of your start up capital in your wallet every 6hours for 7days. Yes it’s 100% legit,if you start with$100-$1000 you get 25%every 6hours for 7days back to your personal wallet,without paying to anyone. Chat Mr Robert👉🏽  https://t.co/Xy6Hu5tiBH  https://t.co/iYAJwnhSx9\n",
            "1349506462641344512 2021-01-13 23:59:47 +0000 <bitcoinTRLRpark> @cenkuygur Neither side should rule over the other. Too late. Buy bitcoin and peacefully opt out of the system that you guys fight over.\n",
            "1349506462549217280 2021-01-13 23:59:47 +0000 <MrBlu_NNG> Not to say that the over inflation of perceived value of Bitcoin isn't an important topic, but much of the discourse glosses over the people that use it for its original intended purpose; the people who it will remain valuable to.🤔\n",
            "1349506458283438082 2021-01-13 23:59:46 +0000 <JQT_GalaxE> Ummm... I mean ughh, wow, to what I’ve just read. 👀🤭 #Bitmex #Bitcoin  https://t.co/hv1RD4HXdA\n",
            "1349506450855501824 2021-01-13 23:59:45 +0000 <RedRoomGaming> @pulte Gotta be @DNPthree all day! The guys given out 10000s of pcs and cash and gave away a load of his own money.   Wouldn’t mind a bitcoin also 😅 £RRG99\n",
            "1349506448003198977 2021-01-13 23:59:44 +0000 <fineartcrypto> @PeterSchiff “Darn kids with the #Bitcoin, the passwords, computers &amp; wallets! So easy to mess that up! I tell ya the only store of value is gold! I keep mine and my clients where I can see it, under my bed! Don’t listen to people like @danheld or @BarrySilbert just buy gold from me!”  https://t.co/DiQiQ9b3cz\n",
            "1349506441422512134 2021-01-13 23:59:42 +0000 <crypto_news_19> Bitcoin Just Passed $37k—and Analysts Say the Bottom May Be In -  https://t.co/PTkerxsWU7\n",
            "1349868893666488322 2021-01-14 23:59:58 +0000 <EricFritts3> @PeterSchiff The value of #Bitcoin will go up due to the sheer fact the value of the dollar will go down. Value is derived by comparing two assets against one another!\n",
            "1349868891879710720 2021-01-14 23:59:57 +0000 <qaramara> If Bitcoin doesn't break record highs right away, it wouldn't be the worst thing, trader posits   https://t.co/7gs0IAAezK via @cointelegraph\n",
            "1349868885152051203 2021-01-14 23:59:56 +0000 <bitcointe> Tether’s Bank Says It Invests Customer Funds in Bitcoin |   | Tether (UDST) |  https://t.co/oD0qJ7iJ7B\n",
            "1349868874502586368 2021-01-14 23:59:53 +0000 <monteiro> WHEEEEEEEEEE!!! #Bitcoin\n",
            "1349868874225786881 2021-01-14 23:59:53 +0000 <Tom68947367> @countdowntoFI bitcoin\n",
            "1349868869142380546 2021-01-14 23:59:52 +0000 <drAsatoMarco> Esse amigo foi o cara q me ensinou o q é libertarianismo, alguns anos atrás. Ele tb foi o cara q me falou sobre bitcoin  https://t.co/OxRvEDCKLh\n",
            "1349868861286445064 2021-01-14 23:59:50 +0000 <CryptoWatchBot> #Investing 109.6% in this optimal #crypto portfolio and -9.6% #cash in the past 24 hours would have given you a 12.0% return rather than #Bitcoin's 4.9%, for the same level of #risk  https://t.co/tGpxFXFA3c\n",
            "1349868854625886212 2021-01-14 23:59:48 +0000 <PhilMckFit> Here’s where we’re at with #bitcoin.  I was looking for 30K support and consolidation around 33 leading to a move to 40K.  We got that.  Below 38.5K I think we see 36Kish.  Break above 40K and we retest 41.5K - and likely to break all time highs to 50K. #Crypto #BTC  https://t.co/bei04tTXJB\n",
            "1349868851215921159 2021-01-14 23:59:48 +0000 <koolvaguy> put $100 every week for a month, oh yeah forget about selling my #DogeArmy. We will soon be top 20 crypto..   Let's GO  🚀🚀🚀🚀🚀🚀🚀🚀🚀🚀🚀  #Dogecoins #dogecoin #dogecointoadollar #dogecointo1dollar  #altcoins #Altseason2021 #Bitcoin #Dogecoinarmy #dogetothemoon\n",
            "1349868847503851520 2021-01-14 23:59:47 +0000 <x1o5buster> I found a Blue vault in Coin Hunt World!   https://t.co/BtCmazLLpx #coinhuntworld #cryptocurrency #bitcoin  https://t.co/6d2PxoQtt8\n",
            "1349868838964367364 2021-01-14 23:59:45 +0000 <okinnansc> Nesse momento 1 #Bitcoin está valendo 203.671,27 Real brasileiro. #btc\n",
            "1349868833771712513 2021-01-14 23:59:43 +0000 <SantiagoAuFund> @BenFRickert @crypt0e exactly...they sold risk...in fact they sold everything...bonds, gold, bitcoin...bc they had to get the one thing that everyone may not have wanted...but needed...and that is dollars.  There was a global margin call on dollars.  This is pretty basic.\n",
            "1349868825701879808 2021-01-14 23:59:42 +0000 <mytalkingpoints> Never forget your password. Write it down and keep it in a safe place.                                                                       Billions of Dollars Locked Up Due to Lost Bitcoin Passwords :  https://t.co/x61xN8X4mQ\n",
            "1349868814419243009 2021-01-14 23:59:39 +0000 <kiloooot> I'm in the running to win $500 of Ethereum and other Cryptocurrency prizes thanks to @JRNYcrpyto #Bitcoin #Ethereum #Cryptocurrency  https://t.co/rrT9Tsmpi9\n",
            "[!] No more data! Scraping will stop now.\n",
            "found 0 deleted tweets in this search.\n",
            "[!] No more data! Scraping will stop now.\n",
            "found 0 deleted tweets in this search.\n",
            "[!] No more data! Scraping will stop now.\n",
            "found 0 deleted tweets in this search.\n",
            "[!] No more data! Scraping will stop now.\n",
            "found 0 deleted tweets in this search.\n",
            "1350956064204877827 2021-01-17 23:59:59 +0000 <popeofbitcoin> Today is my birthday. What did I do? Correct!! Buy more #bitcoin !!! woohoooo\n",
            "1350956057225539585 2021-01-17 23:59:58 +0000 <webscale_bot> community is everything and See how bItCoIn is transforming golf.\n",
            "1350956030532976641 2021-01-17 23:59:51 +0000 <CryptoWatchBot> #Investing 61.5% in this optimal #crypto portfolio and 38.5% #cash in the past 24 hours would have given you a 7.2% return rather than #Bitcoin's -0.8%, for the same level of #risk  https://t.co/92ylz2Sl1g\n",
            "1350956006721912834 2021-01-17 23:59:46 +0000 <flypig687> I found a Green vault in Coin Hunt World!   https://t.co/Mu89xvIMUf #coinhuntworld #cryptocurrency #bitcoin  https://t.co/zIacPC9Dst\n",
            "1350956002871533568 2021-01-17 23:59:45 +0000 <Bitcoin_Win> @the_jon_a_thon Lol. I’m not arguing Bitcoin here. However I see people all the time use words like “free market” “patriotism” and “god” to justify the evil they want to do.\n",
            "1350955947229933572 2021-01-17 23:59:32 +0000 <ElmntoAleatorio> @geoestratego ¿Quién es el banquero del bitcoin?  #CuartoMilenio @carmenporter_ @navedelmisterio\n",
            "1350955936677044226 2021-01-17 23:59:29 +0000 <fulano6line> The idea of #Bitcoin is beautiful and terrifying because it means the people in charge of the entire world are doing 100mph with no breaks towards the edge of a cliff\n",
            "1350955933418074115 2021-01-17 23:59:28 +0000 <sharifaly> Bitcoin is not without consequences that are felt disproportionately by the very people held up as the ideal target demographic. Bitcoin almost resembles a colonialist plot to destabilize less developed countries.\n",
            "1350955931169861635 2021-01-17 23:59:28 +0000 <SahilC0> @KatieTheRussian Bitcoin price I mean\n",
            "1350955924601659394 2021-01-17 23:59:26 +0000 <rootzoll> in 2375 the Ferengi had equal women rights, taxes for social programs and healthcare for all .. I have good hopes for #Bitcoin   https://t.co/1Gsj3lHCqf\n",
            "1350955907140775947 2021-01-17 23:59:22 +0000 <advantagetony> I will give someone $20 in 48 hours. All you have to do is RT and be following me  @advantagetony -. 🙏  My goal is to get everyone into #crypto. Good luck!   #Bitcoin  $XRP $ETH $PAC $XLM $XDN #cryptocurrency #CryptoNews\n",
            "1350955907019132932 2021-01-17 23:59:22 +0000 <FxgolgoB> 星回りはどうか #fx,#bitcoin\n",
            "1350955903554617351 2021-01-17 23:59:21 +0000 <Billion36860209> #BTC #Bitcoin  $47K coming next  #Coinbase #Binance $SLV $GLD #OOTT #DJIA #SPY #SPX #QQQ $ETH $GBTC $LTC $BCH #crypto $LINK $RIOT $BTBT $MARA $LINK  https://t.co/QXqwi33FEv\n",
            "1350955897305133060 2021-01-17 23:59:20 +0000 <eenmakkie> @IOHK_Charles Still Bitcoin was the start but not the solution. Awful wast of energy to maintain , no use case, slow to transfer and costly &amp; Does not pay interest.\n",
            "1350955889923137539 2021-01-17 23:59:18 +0000 <WorldCoinIndex> Bitcoin price index  https://t.co/o7UcHJUhC6 #USD #EUR #CNY #GBP #RUB  https://t.co/xqhFQ9JDJ3\n",
            "1350955885196173315 2021-01-17 23:59:17 +0000 <sacrelege> #Cardano outperformed Bitcoin by 128% over the last 12 months. It was 98%+ of the time ahead of Bitcoin.  imho #Cardano has the highest probability of all the #cryptocurrencies so far for #flippening vs #Ethereum and maybe even #Bitcoin some day.  Stake your #ADA with [LAMP] pool  https://t.co/IcInKpGPSM\n",
            "1351318450119925760 2021-01-18 23:59:59 +0000 <Anwarkaktuz> Sadly there is so much manipulation going on. Both $btc and $eth having been getting pumped and dumped by a large trading group every week. #bitcoin was dumped and shorted today. This discord group is behind it:  https://t.co/P77zjineDL  https://t.co/8NEl9dDy4T\n",
            "1351318427017756674 2021-01-18 23:59:53 +0000 <fallingmonster1> Under the Microscope: Economic and Environmental Costs of Bitcoin Mining  https://t.co/2lBiwE2XVE via @coindesk HassMccook from 6 1/2 years ago\n",
            "1351318424698425357 2021-01-18 23:59:53 +0000 <CNOTEZ> @x3dr1x Yea that’s why I’m accumulating more bitcoin as I buy/sell within these ranges... if btc goes above 50k then alt coins gonna dump, same if it drops below 30k... but if btc stays within ranges then it’s ALT SZN which I’m also planning for lol\n",
            "1351318424320946176 2021-01-18 23:59:53 +0000 <pektopwerty> Best farm bitcoin  https://t.co/mreOcMvMf4\n",
            "1351318420445405192 2021-01-18 23:59:52 +0000 <GainsAssociates> GAINS Crypto News - Jan 18  — @Grayscale holds the key to Bitcoin hitting $40K, says JPMorgan — @emoney_com to launch its currency-backed stablecoins on @avalancheavax  — @RampDefi announces $1M ecosystem growth fund — @coinbase joins $6M funding round for Rain Financial  https://t.co/WayZmOcoSk\n",
            "1351318417555546112 2021-01-18 23:59:51 +0000 <CryptoWatchBot> #Investing 110.2% in this optimal #crypto portfolio and -10.2% #cash in the past 24 hours would have given you a 9.9% return rather than #Bitcoin's 2.7%, for the same level of #risk  https://t.co/uIopA7wQQB\n",
            "1351318410551058434 2021-01-18 23:59:50 +0000 <GUNCEL_HABER41> @Trendyol Bu 3 faktör \"2021 Bitcoin boğa piyasası 2017'dekini sollayacak\" diyor Haberin Devamı =&gt;  https://t.co/WGUAfnA0L9\n",
            "1351318406910369793 2021-01-18 23:59:49 +0000 <RFortunae> US investors look at bitcoin with a completely US centric view. The fact that people being shut out of the dollar use BTC is bearish for BTC? Honest question, I don’t get it?\n",
            "1351318401633964033 2021-01-18 23:59:47 +0000 <Hbfinans> Dostlar analiz makalemiz hazırdır. Sabah 08:30 itibariyle  https://t.co/0AedVIMX46 adresimizde sizlerle olacaktır.  #kriptopara #BTCUSD #Bitcoin #ETH #XRP #ada #Cardano #XLM #XTZ #GRT #KSM #sxpup #salı #LTC #doge #dash\n",
            "1351318388174450690 2021-01-18 23:59:44 +0000 <Escorpuis> @bitcoin_qr #BTC\n",
            "1351318380746256386 2021-01-18 23:59:42 +0000 <JManuel21851420> @JTS_Global @jpmorgan @APompliano @Scaramucci @kevinolearytv @mcuban @scottmelker @Jack_Septic_Eye @elonmusk @tyler @cameron Great 👌👍 #Bitcoin\n",
            "1351318378120622086 2021-01-18 23:59:42 +0000 <unemployedatlas> @RaoulGMI Full agreement.  Highly likely smart, influential people who missed Bitcoin spread FUD to shake out some weak hands...almost as hard holding through bull as it is bear.  At 250k and I’ve got some BTC for sale.\n",
            "1351318373037051907 2021-01-18 23:59:41 +0000 <DonnyThiel> @OTC_Bitcoin rsr is trump coin, and trump never loses😎\n",
            "1351318370893897733 2021-01-18 23:59:40 +0000 <bitfortip> 0.5 $NANO reward for the following: We are about to witness a major global economic reset. In times of uncertainty is there a possibility of $BTC or another asset one day becoming a universal and mandatory currency?   https://t.co/9Vkd8BiPCy  #nano #btc #bitcoin  #crypto #fintech  https://t.co/HU7MLuipWu\n",
            "1351318360215216129 2021-01-18 23:59:38 +0000 <RealCash17> @SalsaTekila Or just lend stablecoins with your ETH and buy more Bitcoin😉 or more ETH 👀\n",
            "1351318359657373697 2021-01-18 23:59:37 +0000 <rissstyle> @bitcoin_brown One can be both...\n",
            "1351318354733264899 2021-01-18 23:59:36 +0000 <Bit_Chungus> Stop hurting yourself.  Embrace it.  Buy #Bitcoin  https://t.co/fhWgXyLXJ2\n",
            "1351318354527600640 2021-01-18 23:59:36 +0000 <FxgolgoB> やらない選択を出来る人は強い #fx,#bitcoin\n",
            "1351318341256957952 2021-01-18 23:59:33 +0000 <helen66529353> Which should investors choose: Bitcoin or Tesla? | Fox Business Video -  https://t.co/9F4RNkcy6b subliminal! The truth stands alone and always prevails!! Thank for this !  https://t.co/L9Aa1c27Wn\n",
            "1351318339759403008 2021-01-18 23:59:33 +0000 <sanrenfa> ビットコインのロゴTシャツ販売中！ #Bitcoin #ビットコイン #仮想通貨 #Tシャツ  https://t.co/MqtgJsCjd8\n",
            "1351680838270738433 2021-01-19 23:59:59 +0000 <bokieeevd> @Crypto_Guy_UK @elonmusk @elonmusk Will you allow Crypto Guy to put a down payment on a Tesla with Bitcoin?  381\n",
            "1351680833803878403 2021-01-19 23:59:58 +0000 <sunooblue> @Crypto_Guy_UK @elonmusk 94. @elonmusk Will you allow Crypto Guy to put a down payment on a Tesla with Bitcoin?\n",
            "1351680830058491906 2021-01-19 23:59:57 +0000 <TAMASHA80_> @Qianz_94 @Crypto_Guy_UK @elonmusk @elonmusk Will you allow Crypto Guy to put a down payment on a Tesla with Bitcoin?   💎 4685\n",
            "1351680829173374977 2021-01-19 23:59:57 +0000 <OptimistLib> @cryptotraveler The elites will own &gt;50% of #Bitcoin . It's good for them. They will protect it\n",
            "1351680823456649219 2021-01-19 23:59:55 +0000 <ThomasRiker5> What the hell is going on with #BITCOIN\n",
            "1351680822517002240 2021-01-19 23:59:55 +0000 <shiakimchi> @Crypto_Guy_UK @elonmusk 149 @elonmusk Will you allow Crypto Guy to put a down payment on a Tesla with Bitcoin?\n",
            "1351680816003379210 2021-01-19 23:59:54 +0000 <embarrassedOK> @harry_sudock @nic__carter @gladstein @MattAhlborg I have a real problem with judging how people consume their energy. It's hard to take seriously an Al Gore type, comfortably typing in their fossil fuel heated manor complain about energy consumption of a Venezuelan Bitcoin miner, struggling to feed their family.\n",
            "1351680814900244484 2021-01-19 23:59:53 +0000 <TAMASHA80_> @Qianz_94 @Crypto_Guy_UK @elonmusk @elonmusk Will you allow Crypto Guy to put a down payment on a Tesla with Bitcoin?   💎 4684\n",
            "1351680813864157189 2021-01-19 23:59:53 +0000 <bokieeevd> @Crypto_Guy_UK @elonmusk @elonmusk Will you allow Crypto Guy to put a down payment on a Tesla with Bitcoin?  380\n",
            "1351680806440366086 2021-01-19 23:59:51 +0000 <WhaleTrades> 📉💴$2,858,731 #bitcoin SHORTED @$35808.24 [19/01/21 23:59:51] 🏭  https://t.co/w4W7vM1Cb6 👈 10% off fees | $BTCUSD  🗣️I am sofa king wee Todd id - MossMiners\n",
            "1351680801839194115 2021-01-19 23:59:50 +0000 <XgBankz> Bitcoin or Biden? @XGBankz   #biden #bitcoin # #XGBank   #XGBankz  # #XGBANKS #XGBANK$  https://t.co/DUAC33R51d\n",
            "1351680799989526530 2021-01-19 23:59:50 +0000 <WhaleTrades> 📉💴$1,846,300 #bitcoin SHORTED @$35803.21 [19/01/21 23:59:50] 🏭  https://t.co/w4W7vM1Cb6 👈 10% off fees | $BTCUSD  🗣️I love you but I`ve chosen crypto - NadimBaker\n",
            "1351680799616212992 2021-01-19 23:59:50 +0000 <TAMASHA80_> @Qianz_94 @Crypto_Guy_UK @elonmusk @elonmusk Will you allow Crypto Guy to put a down payment on a Tesla with Bitcoin?   💎 4683\n",
            "1351680798890614785 2021-01-19 23:59:50 +0000 <WhaleTrades> 📉💴$2,230,202 #bitcoin SHORTED @$35809.8 [19/01/21 23:59:49] 🏭  https://t.co/w4W7vM1Cb6 👈 10% off fees | $BTCUSD  🗣️Bitcoin is the real Bitcoin\n",
            "1351680796797464576 2021-01-19 23:59:49 +0000 <EllieFrost> @bobbyleecarl Sort of - Accredited investors can buy in via USD or BTC. They can either give them their existing BTC or give USD for Grayscale to get the Bitcoin\n",
            "1351680796050898944 2021-01-19 23:59:49 +0000 <sunooblue> @Crypto_Guy_UK @elonmusk 93. @elonmusk Will you allow Crypto Guy to put a down payment on a Tesla with Bitcoin?\n",
            "[!] No more data! Scraping will stop now.\n",
            "found 0 deleted tweets in this search.\n",
            "[!] No more data! Scraping will stop now.\n",
            "found 0 deleted tweets in this search.\n",
            "[!] No more data! Scraping will stop now.\n",
            "found 0 deleted tweets in this search.\n",
            "[!] No more data! Scraping will stop now.\n",
            "found 0 deleted tweets in this search.\n",
            "[!] No more data! Scraping will stop now.\n",
            "found 0 deleted tweets in this search.\n",
            "1352768000613634049 2021-01-22 23:59:59 +0000 <juanstation> bitcoin ...  https://t.co/PzsM1Y56fv\n",
            "1352767993814642689 2021-01-22 23:59:57 +0000 <LouTheCelt> Rationalizing.  A sign of doubt, desperation, and trouble. #Bitcoin\n",
            "1352767993160241152 2021-01-22 23:59:57 +0000 <andr3w321> @StevmqE Please tell me why news of people selling Bitcoin is any less relevant than news of people buying Bitcoin.\n",
            "1352767984109023232 2021-01-22 23:59:55 +0000 <YSojourners> Bitcoin fractal hints at steeper correction if bulls fail to hold $30k  https://t.co/ynH4V8aVW1\n",
            "1352767976177598464 2021-01-22 23:59:53 +0000 <CupofJoeintheD2> @erikhalvorsen18 @theshrk22 #DopeyDon and his #Trump Organization paid 2.7M to fund the Insurrection.... coupled with 500K from Russia via Bitcoin there needs to be immediate arrests for All involved. From the #GOPTraitors who gave tours beforehand to those who were Complicit!! #GOP #TrumpInsurrection\n",
            "1352767975732834304 2021-01-22 23:59:53 +0000 <Koke_Jay7> I just published Are you buying the Bitcoin dip?  https://t.co/svTn3uCIWj   @publish0x #xrp #China #InaugurationDay #Bitcoin #Ethereum #Litecoin #BCH #GRT #BAT  #Chainlink #BNB\n",
            "1352767971119292417 2021-01-22 23:59:52 +0000 <k29664911> Bitcoin on track for biggest weekly fall since September as Janet Yellen and 'double spend' spook traders – Business Insider  https://t.co/x7YzD1A1eY\n",
            "1352767948763627520 2021-01-22 23:59:46 +0000 <MatzoTheAmazing> @Jonathan_Storm_ @iwasdownbad @dontbaby6 @god_of_bitcoin @CNBC It doesn't. It shows the problem that you're saying is caused by higher minimum wage increase exists without the increase. If a problem exists without the perceived cause... The perception is wrong.\n",
            "1352767944229580801 2021-01-22 23:59:45 +0000 <CarloDangers> @joshnomics Not to mention the steady (and seemingly escalating) path of the Great Reset.... I don’t remember them saying “you will own nothing, except for bitcoin, and you will be happy”\n",
            "1352767934377172993 2021-01-22 23:59:43 +0000 <robinmuirhead> Why Investors Are Piling Into #Bitcoin Despite the Risks  https://t.co/1O3DDkRmiy  OMG stop banging on about VOLATILITY ! You just have to Invest little &amp; often ! It's called Dollar Cost Averaging.  Swap Volatility for Vitality 😎\n",
            "1352767896372600833 2021-01-22 23:59:34 +0000 <Supergarvis> JOIN CRYPTO | BLOCKCHAIN FACEBOOK INVESTORS GROUP   LINK ➡️   https://t.co/bcvukN7ak3…  $apt $cydy #Crypto $rvv $numi $btc $acb @cashdowne  #Bitcoin   #Ethereum #BTC      #Coinbase $dm $mara $hut $hive  https://t.co/jAU438TmBy\n",
            "1352767831897731073 2021-01-22 23:59:18 +0000 <BTCstJournal> LITECOIN – forming a new trend  https://t.co/nePFHhZ6XA #bitcoin  https://t.co/pmmGAFxWLK\n",
            "1352767829695750145 2021-01-22 23:59:18 +0000 <WorldCoinIndex> Bitcoin price index  https://t.co/o7UcHJUhC6 #USD #EUR #CNY #GBP #RUB  https://t.co/McFOkA1xpe\n",
            "1352767823827894274 2021-01-22 23:59:17 +0000 <tradingyid> One does not short negative funding 💁‍♀️ #bitcoin  https://t.co/19Uk1PR1er\n",
            "1352767823727255553 2021-01-22 23:59:17 +0000 <RichGuineaPig> @adamrya31326153 Now do #bitcoin\n",
            "1352767820979867648 2021-01-22 23:59:16 +0000 <ProfitFry> I used to be scared of money printer then I found  #Bitcoin\n",
            "1352767820782858240 2021-01-22 23:59:16 +0000 <Bartleby_Kamoi> @LittleKeegs0 as a person who was forged in the fires of coders arguing about bitcoin on discord and irc, I personally just consider it Good and Entertaining Content\n",
            "[!] No more data! Scraping will stop now.\n",
            "found 0 deleted tweets in this search.\n",
            "[!] No more data! Scraping will stop now.\n",
            "found 0 deleted tweets in this search.\n",
            "1353492778714624001 2021-01-24 23:59:59 +0000 <bitcoin216> \"BY THE END OF 2021, Bitcoin Will Be At…\" – Max Keiser Bitcoin Price Prediction 2021  https://t.co/Hh76Y4CIzW\n",
            "1353492775778607105 2021-01-24 23:59:59 +0000 <LaCryptoMonnai1> Prix ​​Bitcoin avant résistance de 33000 $ -  https://t.co/1FmdCjPKBd\n",
            "1353492768153235456 2021-01-24 23:59:57 +0000 <camiRIEGO> MEGA Pump Signal has fr just announced a pump on $BTC ( https://t.co/cuG9KJnhoF) They pump altcoins weekly and they're pumping #Bitcoin in 1 hour.  https://t.co/Vll1DSETZh  https://t.co/cMNTFT6KiM\n",
            "1353492728068386821 2021-01-24 23:59:47 +0000 <Ma_ro1010> @Bitcoin_K_S_A مبروك\n",
            "1353492725484556288 2021-01-24 23:59:47 +0000 <freakmommy> He’s also talking about bitcoin and “recommending that one”\n",
            "1353492712784359426 2021-01-24 23:59:44 +0000 <MaShaA01> @Bitcoin_K_S_A 🙂😂😂😂😂😂😂\n",
            "1353492712528478208 2021-01-24 23:59:44 +0000 <mohmad123123111> @Tirpo_ @Bitcoin_K_S_A عقبالك\n",
            "1353492710448115714 2021-01-24 23:59:43 +0000 <Slappywang> #ItsColdOut ft.  @Status__Unknown   @Booglehoopp   @Dexlore   @XTempahzz   @Pafouaa  my main main @HaggisBandit    @Slappywang  (me)  Photo Taken by  @PllXel   Developed by  @ALIOGTV   Distributed by @Bitcoin  GRT By @HaggisBandit  https://t.co/wMxOpdxPFL\n",
            "1353492709382742019 2021-01-24 23:59:43 +0000 <Ebony_tf> I’m trading bitcoin till it dies!\n",
            "1353492701870583808 2021-01-24 23:59:41 +0000 <Crypto_Genio> Sunday... 🍛🍝  #Bitcoin  https://t.co/9xQxYel9XN\n",
            "1353492699266113547 2021-01-24 23:59:40 +0000 <Techconcatalina> No seas tonto, Bitcoin no es la Burbuja, es la aguja!  @maxkeiser\n",
            "1353492696850161664 2021-01-24 23:59:40 +0000 <BTCTranslator> Maybe God will save the Earth from its Pharoahs with #Bitcoin.\n",
            "1353492682593554432 2021-01-24 23:59:36 +0000 <FakieVille> @vicbuckss @ahsanbarbarian Vic u dont even know anything bout stocks but bitcoin 😐\n",
            "1353492679133425665 2021-01-24 23:59:36 +0000 <HkStackzbundlez> @dzdndz you dont need it just buy bitcoin it will make you happier\n",
            "1353492678311354368 2021-01-24 23:59:35 +0000 <Ge6392> @saxena_puru and probably also good for bitcoin 😆\n",
            "1353492671701131264 2021-01-24 23:59:34 +0000 <ElIngenieroInv1> @MBurastero @Techconcatalina Súper. Esa es la idea, aclaro que tengo un capital en bitcoin, pero hay aspectos que no están claros. Han salido las noticias de gente que perdió sus BTC por  no recordar sus claves. Otro aspecto es que, a pesar de que no sea la idea, se puede hacer mal uso de las criptodivisas.\n",
            "[!] No more data! Scraping will stop now.\n",
            "found 0 deleted tweets in this search.\n",
            "1353855166378868738 2021-01-25 23:59:59 +0000 <PlayTruBet> Deb posted a bet!  Event: Washington Wizards vs Houston Rockets #NBA Bet: Houston Rockets TO WIN STRAIGHT UP Odds: 2.500 (+150) Wager: 0.003 #bitcoin  Take bet at  https://t.co/y9HQMVQpBP  #sportsbetting #betting #sportspicks #gamblingtwitter\n",
            "1353855162499084289 2021-01-25 23:59:58 +0000 <jrcdev> I don't see Iota here, why? Ohh look Cardano is so low fee, but still have fees, guess why is low, no one is using it yet! And the most unbelievable, BitcoinSV is the real Bitcoin lol Hey @Vrom14286662 can you post it?! @iotatoken #Bitcoin #IOTACommunity    https://t.co/2ugOBS1pBs\n",
            "1353855161731592193 2021-01-25 23:59:58 +0000 <Frances_Coppola> @profplum99 @dshephard @nic__carter ....and that would spark a general crypto market crash, including Bitcoin and Ethereum, because DeFi collateral values would fall sharply.... 2/\n",
            "1353855159550550017 2021-01-25 23:59:58 +0000 <Rivaderci88> @chamath @PeterSchiff Losing Bitcoin means losing the ability to go across boarders with the more money than you can ever dream of taking on your person.  A bit more important than “oooh shiny”\n",
            "1353855155825999873 2021-01-25 23:59:57 +0000 <LaCryptoMonnai1> JP Morgan donne 3 raisons d'ajouter Bitcoin aux portefeuilles d'investissement - Marchés et prix Bitcoin News -  https://t.co/6F2LgLJa2n\n",
            "1353855154534146050 2021-01-25 23:59:56 +0000 <MuroCrypto> I want to buy Bitcoin here but...  It's not the best setup for me and I don't need to force a trade. Chill and see what comes next\n",
            "1353855144623009792 2021-01-25 23:59:54 +0000 <imodernooficial> Atualização disponível investidores:  https://t.co/RjCmv1Un5u #bitcoin #trading #InvestidorModerno Veja o post original:  https://t.co/Mc3bQVg6de\n",
            "1353855141523451904 2021-01-25 23:59:53 +0000 <CriptoMaps> Marathon Patent Group compra $150 millones en Bitcoin  https://t.co/k4Gmt76vNZ via   https://t.co/CvpK6D1gub\n",
            "1353855131431956480 2021-01-25 23:59:51 +0000 <LyceumMedia> @Crypto_Slots new 'Year 3000' slot arrives at the crypto-only casino with up to $300 introductory bonuses! 🚀 🤖 🪐  #Year3000 #NewSlot #NewGame #OnlineSlots #OnlineCasino #Crypto #CryptoCasino #cryptocurrency #Bitcoin #Litecoin #Monero  #IntroBonus  https://t.co/DaLks25o3c\n",
            "1353855118999834625 2021-01-25 23:59:48 +0000 <MadBitcoins> We’re chat with sats on  https://t.co/PwEutPEAr1 #bitcoin #lightning  https://t.co/U4v6cawIxm\n",
            "1353855112331059200 2021-01-25 23:59:46 +0000 <EvergreenGK> Check out our good friend @ttmygh, as he wades into the bitcoin debate in a fascinating conversation with two opposing sides of the *ahem* coin.    https://t.co/KDRwwSMhXT\n",
            "1353855107113377792 2021-01-25 23:59:45 +0000 <GermanSatoshi> 3 reasons why Ethereum price is still on track to top $2,000 $BTC $ETH #Bitcoin #Ethereum #Cryptocurrency\n",
            "1353855094270406656 2021-01-25 23:59:42 +0000 <300ZXRP> @ElijahSchaffer Bitcoin mining... damn energy coin\n",
            "1353855068366204928 2021-01-25 23:59:36 +0000 <ExcaliburII7> I found a Green vault in Coin Hunt World!   https://t.co/l4OEHSGGKO #coinhuntworld #cryptocurrency #bitcoin  https://t.co/3ghwwZxtb1\n",
            "1353855059449180160 2021-01-25 23:59:34 +0000 <crypto_hugh> Anthony Scaramucci says holding Bitcoin as safe as owning bonds and gold  https://t.co/hrWHk9tP4K  https://t.co/2KgEhqz18H\n",
            "1353855051911942144 2021-01-25 23:59:32 +0000 <Cryptonews7News> Ethereum Beats Bitcoin Efficiency Two Years Straight, What’s Subsequent?: Ethereum solely simply broke its former all-time excessive, whereas Bitcoin left took that file again in 2020. Nonetheless, an funding within the top-ranked altcoin at…  https://t.co/EvCTtk6qU0 #CryptoNews\n",
            "1353855026821701632 2021-01-25 23:59:26 +0000 <FxgolgoB> 5分足を見過ぎていないか？ 長い足を長く見ろ #fx,#bitcoin\n",
            "1353855019787972609 2021-01-25 23:59:24 +0000 <HumanityPlague> @strixtle Like all good scams.  Not sure why but Bitcoin just popped into my head,  :P\n",
            "1353855014423437313 2021-01-25 23:59:23 +0000 <BlockchainClown> @MSNBC Who needs usd when you have #Bitcoin\n",
            "1354217554605191169 2021-01-26 23:59:59 +0000 <MichaelGiorgi14> @danheld Dan Held his Bitcoin Report\n",
            "1354217539807674371 2021-01-26 23:59:56 +0000 <LaCryptoMonnai1> Brésilienne Alter et Visa unissent et lancent une carte qui retourne 1% des achats de cashback avec Bitcoin -  https://t.co/s2tThNC1AF\n",
            "1354217539664973827 2021-01-26 23:59:56 +0000 <BVBTC> A lot of people think Bitcoin will be obvious in hindsight, but I disagree.  Bitcoin is obvious in foresight.   You’re just short sighted.\n",
            "1354217538440359936 2021-01-26 23:59:55 +0000 <1rudebaby> bitcoin bought me a wood and some cake too fill it 💪🏽\n",
            "1354217491069685760 2021-01-26 23:59:44 +0000 <MLE_Online> @kitchen_saint please leave me out of your bitcoin evangelism. if you want to do that, that's fine with me. I'm not going to tell you that you should be doing something else. please unquote me from this or i'll block you\n",
            "1354217489203417089 2021-01-26 23:59:44 +0000 <filipmetrix> Wall Street buying #bitcoin dips like:   https://t.co/yt0G26OA8T\n",
            "1354217477215936515 2021-01-26 23:59:41 +0000 <LNJunkies> @_Checkmatey_ @longtermdaily @matheusd_tech Are you keeping up the conversation? I specifcally said I was busting your balls, then asked where the DCR Strike was, where the DCR Pollofeed was. I'm asking where the manifestations of the ecosystem on DCR is. Bitcoin had things like that on testnet.\n",
            "1354217475693453312 2021-01-26 23:59:41 +0000 <humanpoptart> Sold profit from Apple and Bitcoin and bought $GME greatest move I’ve made.\n",
            "1354217472782520321 2021-01-26 23:59:40 +0000 <BuyHi33> I locked 500 shares of $GME on a hard drive and forgot the password ... can someone spot me some bitcoin ?\n",
            "1354217472761630722 2021-01-26 23:59:40 +0000 <jdrzal> #Bitcoin #WhitePaper #OpenSource\n",
            "1354217470710706184 2021-01-26 23:59:39 +0000 <coffee_bitcoin> #BitcoinAndCoffee #LIVE Crypto Talks 1/26/21  https://t.co/M6QhtCkMWn via @YouTube #Bitcoin\n",
            "1354217466432516096 2021-01-26 23:59:38 +0000 <SandyBitcoin> @SeyedReza11 @greek_prick @ElectrumWallet Things adapt, develop , Bitcoin is from the white paper and is now something further on. BSV is a sh*tfork of a sh*tfork and is toilet paper. Jog on !\n",
            "1354217456521379843 2021-01-26 23:59:36 +0000 <MushyMoufwoowoo> #Bitcoin accepted here Tshirt  https://t.co/b5UIdth74I\n",
            "1354217454415831040 2021-01-26 23:59:35 +0000 <jorgeguzman09> @Peter52286648 Buy some Bitcoin\n",
            "1354217450125062146 2021-01-26 23:59:34 +0000 <ManFmNantucket> @VixCentral Any talk of a class action suit over GME manipulation? This is worse than bitcoin...\n",
            "1354217445012037634 2021-01-26 23:59:33 +0000 <c4chaos> #BigIdeas2021 @ARKInvest was just released. naturally i devoured it &amp; went right into #Bitcoin. TLDR: ARK has drank the Corporate Cash Kool-Aid narrative &amp; came out a very bullish prediction for $BTC.  interestingly, “blockchain” was only mentioned TWICE in context to Bitcoin 🙄  https://t.co/zAs81EScRt\n",
            "1354217439383351299 2021-01-26 23:59:32 +0000 <sanrenfa> 目指せBitcoinで億万長者。ビットコインの取引可能なFX会社。入金・出金もビットコインでOK！  https://t.co/Z1Jn4crFcQ\n",
            "1354217434765516802 2021-01-26 23:59:31 +0000 <MarkCorstange> @TJLang70 Wondered where I saw that.... Sebastian Bach, from Skid Row was doing a big spew on his page about that coin, saying it’s the next Bitcoin\n",
            "1354217403069177862 2021-01-26 23:59:23 +0000 <ad608> @DocumentBitcoin If only the Bitcoin community could come together and stop looking for every short opportunity\n",
            "1354217399961198594 2021-01-26 23:59:22 +0000 <Reas035> I used to know of a site that tracked unfilled CME Futures gaps on #bitcoin but I can't seem to remember what it was. Anyone on #cryptotwitter know where I could find that? #btc #cryptocurrencies #Crypto\n",
            "[!] No more data! Scraping will stop now.\n",
            "found 0 deleted tweets in this search.\n",
            "1354579942504189952 2021-01-27 23:59:59 +0000 <nochi1175> 300万でロングいれたけどチキンなので利確。 #BTC  #Bitcoin  #ビットコイン  #仮想通貨  #暗号資産\n",
            "1354579942290448384 2021-01-27 23:59:59 +0000 <Cman_25> After everything today, I think it is safe to say that this helps #Bitcoin\n",
            "1354579940365066240 2021-01-27 23:59:59 +0000 <RileyLeff> @ZKTreyTrey since posting that it’s already plummeted from $300 to $225.  i don’t have the balls to wager my bitcoin stash on fucking gamestop though lol\n",
            "1354579932421173248 2021-01-27 23:59:57 +0000 <DigitalNomadFx> No one was born a good trader we learn everyday , but with choices God have given us we can make it in life, believe in your self and don’t let anyone make you lose it ALL 💹 💵 💯 #money #bitcoin #goodlifestyle #binaryoptions #luno #blockchain #cryptocurrency #trading\n",
            "1354579914708709386 2021-01-27 23:59:53 +0000 <TinFoilRealist> @WSBChairman Move to r/bitcoin\n",
            "1354579911126741006 2021-01-27 23:59:52 +0000 <heynowhank22> @WSBChairman @TrueCrypto28 #Bitcoin bruh\n",
            "1354579899089096707 2021-01-27 23:59:49 +0000 <Kid_Droog> @acidt0ngue @normmacdonald Sure. It’s real money. So what?  Have you been paying attention to GameStop stock?  Up 8000% over last six months. Not because GameStop is a solid company. It’s because a large group decided to drive up the price. Bitcoin has little value as a currency. It’s all speculation\n",
            "1354579896991965184 2021-01-27 23:59:48 +0000 <Lalisadkie> @projetokpopsz Sdv #followtrick #BBB21  #RedeBBB #bbtvi #bitcoin  #rosmello fiuk viih tube juliette #BBBB21 #Celebrity_IU  https://t.co/grO5fH2Uu8\n",
            "1354579878499278852 2021-01-27 23:59:44 +0000 <RebeccaIsi> @Fabulous_drb @KanayoOKanay I buy and sell bitcoin, I also exchange for naira\n",
            "1354579858773450753 2021-01-27 23:59:39 +0000 <HodlingBitcoin> Bitcoin bull Mike Novogratz: GameStop (GME) rally is an “endorsement of DeFi”  https://t.co/QsgpSBAS3y\n",
            "1354579857561309187 2021-01-27 23:59:39 +0000 <AgustinCordes> @Silberdamian Justamente con la pantomina del Bitcoin terminé de entender cómo funciona la bolsa, y es de lo más perverso y despiadado que hay. Empecé ganando plata, después vino una “ballena” que infló el precio, me hizo entrar como un caballo, y terminé perdiendo lo que gané.\n",
            "1354579835071283200 2021-01-27 23:59:34 +0000 <CryptoSquawk> ⬇️ Seller alert: 10 $BTC sold into the bid @ 30392    https://t.co/iMB1mj8Cs1 👈 #Bitcoin #crypto #BTC\n",
            "1354579824375955462 2021-01-27 23:59:31 +0000 <JoelRiv38734786> @NadesBurner Yo do you bet with bitcoin or money from your bank account? And how does the money get withdraw\n",
            "1354579823377702915 2021-01-27 23:59:31 +0000 <EtherealShark>  https://t.co/AGOAd1dx7X  good joke sir #Bitcoin is sound money  https://t.co/jnF4ept3VW\n",
            "1354579818109677574 2021-01-27 23:59:30 +0000 <nlatorre86> @MatiMow Y así hablan de que Bitcoin está manipulado y que el sistema tradicional no, al final siempre nos quieren ver la cara los mismos\n",
            "1354579815945416709 2021-01-27 23:59:29 +0000 <VlanciPictures> What they do with wsb is the playbook on how they come for $btc if other things fail. Pay attention #Bitcoin\n",
            "1354579812019544065 2021-01-27 23:59:28 +0000 <CashNucleus> @balajis @e_Residents @JCastroS @FrancisSuarez @PatrickMcHenry @RepTomEmmer Sometimes you will never know the value of a moment, until its gone! Take your chance now! @NucluesVision $nCash #nCASH #goNcash #Defi #Retail #SEC #Bitcoin #ETH $FIL #FILEcoin\n",
            "1354579809704226830 2021-01-27 23:59:28 +0000 <ptrkshn> @CryptoWhale #bitcoin eating the world slowly\n",
            "1354579809582592004 2021-01-27 23:59:28 +0000 <RebeccaIsi> @chukwuebukaBIGY @KanayoOKanay I buy and sell bitcoin, I also exchange for naira\n",
            "1354942324745400325 2021-01-28 23:59:58 +0000 <alertario24hrs> @LJMoynihan @YodaSapiens_29 @RobinhoodApp ● Bitcoin, Stocks, Nasdaq, Gamestop, Tesla, Amazon, Alibaba, Nokia, Nike, Facebook, Netflix, Dow Jones, Nio. Open your FREE PASSFOLIO Account now. LInk &gt;&gt;&gt;&gt;  https://t.co/WLA9xlOxRn ■ Acoount opened in 1 Minute   ■ Create an account today●\n",
            "1354942320672731136 2021-01-28 23:59:57 +0000 <WiseAnalyze> $DOGE is heading towards 100-110. Starting to accumulate short position in USDT  #DOGE #Bitcoin $BTC #BTC #Cryptocurrency  https://t.co/RxKDyfmsGG\n",
            "1354942310740590599 2021-01-28 23:59:55 +0000 <CryptoWatchBot> #Investing 136.6% in this optimal #crypto portfolio and -36.6% #cash in the past 24 hours would have given you a 13.4% return rather than #Bitcoin's 9.5%, for the same level of #risk  https://t.co/2AZWOaKcmE\n",
            "1354942308899295237 2021-01-28 23:59:54 +0000 <AwyeeDeaterBob> @piramida I love people that are bitcoin only!\n",
            "1354942307695521798 2021-01-28 23:59:54 +0000 <CryptoWatchBot> Best #cryptocurrency risk-adjusted returns in the past 24 hours: 1. #Stellar $XLM 2. #Bitcoin $BTC 3. #Zcash $ZEC  https://t.co/zp3w385BYA\n",
            "1354942304012926982 2021-01-28 23:59:53 +0000 <ercwl> @day43og I think it's great that we don't rely on a single organization to perform an audit in bitcoin, but a grassroots movement of independent developers who've shown quite outstanding morals over the years. That's why I respect them so much.\n",
            "1354942302922399751 2021-01-28 23:59:53 +0000 <SimonFUTURE2> Uhhh ooo hmmm!!! Is this the start of something spectacular!! #bitcoin Run!?!? Let’s wait and Find Out! #btc #litecoin #bitcoincash #teamHODL #trending #retweet #StickIT #MakeMoneyBitcoinInstead #TheyCantStopBitcoin They can Stop you with $GME $AMC but not in the Crypto World!  https://t.co/WYqYJ3nU1p\n",
            "1354942293883703300 2021-01-28 23:59:51 +0000 <purduebrew> @sarahclazarus Bitcoin is always your friend in these situations\n",
            "1354942290775695360 2021-01-28 23:59:50 +0000 <steenpaasburg> @Democratikusje Klopt. Bitcoin is ook compleet reddeloos door manipulatie. 85% staat stil. En wat het werkelijk waard is? Wat de gek er voor geeft &lt;3 &lt;3\n",
            "1354942284920451078 2021-01-28 23:59:48 +0000 <AlderaanAlpha> “Dollar cost averaging #dogecoin is the best way for a person to build wealth and reach financial independence.” -Peter Lynch                #cryptocurrency #investing #Bitcoin\n",
            "1354942284828188675 2021-01-28 23:59:48 +0000 <AmineBouchenaki> Free Bitcoins Faucet - Earn $100 free btc in 5 minutes  https://t.co/3aP2ZoYdto #bitcoin #freebtc #getbtc\n",
            "1354942270152323078 2021-01-28 23:59:45 +0000 <TroyboyGT> Ok ok...Dogecoin really might be the next #Bitcoin #dogecoin\n",
            "1354942269925842952 2021-01-28 23:59:45 +0000 <richardgrayshon> @Matt__Bitcoin @CelsiusNetwork I’m already on it thanks to your recommendation. The #GME thing is worrying and I’m wondering whether exchanges/crypto banks could be similarly fixed as RH was. Sorry, new to all this\n",
            "1354942268160036870 2021-01-28 23:59:44 +0000 <WebnelTwit> @elonmusk Didn’t the cyberpunks build #Bitcoin\n",
            "1354942266725470211 2021-01-28 23:59:44 +0000 <MindfulCivilian> @LayahHeilpern Not just #Bitcoin... A tide of attention has turned toward #doge and #Nano\n",
            "1354942252615872513 2021-01-28 23:59:41 +0000 <BigBodyZay> @AricaAliayaYT so how much would i get if i sell 16$ bitcoin?\n",
            "1354942248555737088 2021-01-28 23:59:40 +0000 <DoraemonOppa> @SawyerMerritt Yup, load up on more $TSLA and #Bitcoin BTC!\n",
            "1354942228221874176 2021-01-28 23:59:35 +0000 <VintageCrypto> @ledgerstatus Hurry, now do Bitcoin.\n",
            "1354942217106952194 2021-01-28 23:59:32 +0000 <DatDood_Omar> Umm @Timcast don't make the same mistakes like u did wit bitcoin  https://t.co/CH4PkeJJT0\n",
            "1354942217069203459 2021-01-28 23:59:32 +0000 <WorldFullofJunk> @datbitcointho @DutchDiederik @TheQuartering @RobinhoodApp bitcoin, where everything is logged and ultimately traceable.  The way to condition us into the economy of technocracy where every purchase is monitored.\n",
            "1355304717434413056 2021-01-29 23:59:59 +0000 <inyourenergy> #fridaymorning #WandaVision  #dogecoin #thursdayvibes #cryptocurrency #FridayFeeling #2yearswithscenary #sillhouettechallenge #Silver #thursdaymorning #dogecointo1dollar #FridayMotivation #Bitcoin  https://t.co/o9ZwVjgTk8\n",
            "1355304686937636869 2021-01-29 23:59:52 +0000 <CryptoWatchBot> #Investing 155.2% in this optimal #crypto portfolio and -55.2% #cash in the past 24 hours would have given you a 20.4% return rather than #Bitcoin's 2.8%, for the same level of #risk  https://t.co/w7QXt5qXiS\n",
            "1355304686635655177 2021-01-29 23:59:52 +0000 <LaCryptoMonnai1> L'homme le plus riche du monde, Elon Musk, augmente le prix du Bitcoin de 20% -  https://t.co/3El2Ix2t5k\n",
            "1355304682739163139 2021-01-29 23:59:51 +0000 <littleb0xers> @futurepaul @RussellOkung But what would jesus say about #Bitcoin?\n",
            "1355304679064936450 2021-01-29 23:59:50 +0000 <Cryptective_> Ripple demands Bitcoin and Ethereum docs from SEC amid legal fight ⁦@Ripple⁩ Strong Response guys   https://t.co/5s9UeTczry\n",
            "1355304676405764102 2021-01-29 23:59:49 +0000 <DividendProfit> Whale di Bitcoin spiega a Bloomberg perché la volatilità delle crypto diminuirà Da CoinTelegraph  https://t.co/8IyfZllyjZ\n",
            "1355304669879427073 2021-01-29 23:59:48 +0000 <MarcosDarkos> @zerohedge Check out the growth of r/Bitcoin today\n",
            "1355304666641223680 2021-01-29 23:59:47 +0000 <BTCInsights1> \"Bitcoin is a beautifully-constructed protocol. Genius is apparent in its design to most people who study it in-depth, in terms of the way it blends math, computer science, cybersecurity, monetary economics, and game theory.\" @LynAldenContact    https://t.co/WLt2FNK09I\n",
            "1355304662405009408 2021-01-29 23:59:46 +0000 <Cryptobudha_new> Poor should remain poor.if they become rich i would have to steal from them :robinhood #RobinHood #trading #GameStop #Bitcoin\n",
            "1355304656428273666 2021-01-29 23:59:45 +0000 <GENZEEclothinCo> @OgbeniDipo @Omojuwa 🥰🥰 oya e se give away. Here's my Bitcoin address   3MTmqtTeKGtazZCB2npQNTHiRgD8fFkuMG  Ori agbe oooo\n",
            "1355304654230462466 2021-01-29 23:59:44 +0000 <thedesertwolfe> 2020: #bitcoin is a store of value  2021: $GME is a store of value  https://t.co/0kCpPYrAvx\n",
            "1355304651944505349 2021-01-29 23:59:44 +0000 <amorphousm1nd> @HKrassenstein But you can tell people to buy Bitcoin? Buy the dip!\n",
            "1355304650493186049 2021-01-29 23:59:43 +0000 <SGGOODLIFE> Asia wakes up to cheap #Bitcoin 🚀   Good morning from #Singapore! ☕️\n",
            "1355304643782443019 2021-01-29 23:59:42 +0000 <Thecryptomist> Time for bitcoin to pass the baton to $Eth.   Pump it 🚀\n",
            "1355304639671885829 2021-01-29 23:59:41 +0000 <brett_colbert> Elon Musk Jolts Bitcoin With His Twitter Bio  https://t.co/NW2UUEh9VA\n",
            "1355304639109898240 2021-01-29 23:59:40 +0000 <CryptoSquawk> ⬇️ Seller alert: 10 $BTC sold into the bid @ 34331    https://t.co/iMB1mj8Cs1 👈 #Bitcoin #crypto #BTC\n",
            "1355304633606959104 2021-01-29 23:59:39 +0000 <metaworIds> $sxp turned the 1D candle green expect fireworks🚀🚀 #Bitcoin\n",
            "1355304626241867778 2021-01-29 23:59:37 +0000 <MzTi8> @pulte I hope the fact that I am not in USA or that my country only accept money by Bitcoin disqualify me. I am desperately in need of money. Have to pay my tuition into Law School and our rents is due. Can barely afford food. PLS HELP ME BTC bc1qa8mdfr3nq6696vwmfe97mjlwa9022y4w5jzkmm.\n",
            "1355304621108043776 2021-01-29 23:59:36 +0000 <PetroDivisa> Uno de los mercados más dificiles de predecir es el de las #Criptomonedas y esto es debido a que no tiene regulaciones ni un control financiero como lo hace EEUU en sus mercados de valores. Si el #Bitcoin cae no sale nadie a imprimir mas #BTC para rescatar su valor.\n",
            "1355304615424606211 2021-01-29 23:59:35 +0000 <hfaavae> If Robinhood did you wrong join @investvoyager and use my code, you’re welcome #dogecoin. I'm inviting you to start investing in crypto with Voyager. Download the app and trade $100 to get $25 of free Bitcoin.  Use code 6F7D4D or this link to claim your BTC:\n",
            "1355667083703558146 2021-01-30 23:59:54 +0000 <NessrinGaddah> Buy #Bitcoin already!!!!!\n",
            "1355667080654118916 2021-01-30 23:59:53 +0000 <Ezra1Pound> @sercankocabas43 @sassal0x @LilMoonLambo @rf1finance Bitcoin has a long term place as # 1. Unavoidable. But you are forgetting Algorand. They solved the trilemma. Best platform hands down. Algorand in 2023. Clear # 2.\n",
            "1355667067303841793 2021-01-30 23:59:50 +0000 <MoonLamboz> @cameron Protest with #bitcoin instead. Something that will actually mean something in the long run\n",
            "1355667048987324428 2021-01-30 23:59:46 +0000 <hoffytime> @Wealth_Theory @TheLastDegree Silver this week, bitcoin next, yacht purchase the week after.\n",
            "1355667041513066496 2021-01-30 23:59:44 +0000 <SBizjack> @danheld Only Christ sets people free. Bitcoin provides options.\n",
            "1355667036681203712 2021-01-30 23:59:43 +0000 <wollf_f_Crypto> #Reddit Vs. #WallStreet - The Real Story Ft. Sam Bankman-Fried, Dan Gunsb...  https://t.co/fPOtigAcep via @YouTube #Bitcoin\n",
            "1355667036190466059 2021-01-30 23:59:43 +0000 <profeluisv> Mis #criptomonedas preferidas:  #Bitcoin ahorro #Ethereum DeFi  #BNB #BUSD tranferencias #Litecoin #Dogecoin diversificación  ¿Cuáles son tus criptos preferidas y porqué?\n",
            "1355667030796460033 2021-01-30 23:59:41 +0000 <nam_etake> インドはビットコイン禁止になるかもしれない、か。  India plans to introduce law to ban Bitcoin, other private cryptocurrencies – TechCrunch  https://t.co/OBaPgdu3o3\n",
            "1355667005391724546 2021-01-30 23:59:35 +0000 <Difusion365> 🟠 El verdadero mantra del trading de Bitcoin  https://t.co/EwkGEPvkX3\n",
            "1355666996722094085 2021-01-30 23:59:33 +0000 <notmgl> Just found out I don’t owe any capital gains tax on my profit from Bitcoin bc I don’t make any taxable income. Ahahaaaa haaaaa LETS GOOOOO\n",
            "1355666992708116486 2021-01-30 23:59:32 +0000 <CryptoBox2018> I earned with the help of my friends! 💸 Anyone can try how it is simple and fun on @betfury_io i-Gaming platform. My Username: User104821 #betfurysuccess #tron #bitcoin #referral\n",
            "1355666990636167169 2021-01-30 23:59:32 +0000 <FxgolgoB> 情報が多ければ散漫になる #fx,#bitcoin\n",
            "1355666983744843778 2021-01-30 23:59:30 +0000 <DonutDozy> @DailyMailUK Bitcoin solves this.\n",
            "1355666981903589377 2021-01-30 23:59:30 +0000 <Taylorprx1> @derspiegel So ein Schrott Artikel😂🤣😂 kein Plan aber Artikel über Kryptowährungen raus hauen. Zeigt nur wie weit der Spiegel davon entfernt ist Bitcoin zu verstehen.\n",
            "1355666981354016769 2021-01-30 23:59:30 +0000 <DJThistle01> #Bitcoin  https://t.co/eNCF50nH0R\n",
            "1355666967894650880 2021-01-30 23:59:26 +0000 <SheLoveMyTemp> Continue to buy and hold WHAT WE DOING ????  Hold THAT SHIT BITCOIN STARTED AT LESS THAN A PENNY HAVE FAIRH #dogecointoadollar #AMCtothemoon   #buythedip  #Bitcoin  #Binance  #RobinHood  #amcstock  #DOGE  #DogecoinToTheMoon\n",
            "1355666961712242690 2021-01-30 23:59:25 +0000 <ccoffee1> Get all the #Bitcoin you can before it's too late! If it wasn't the #wallstreetsbets it would be something else. They will be first out &amp; first back in. You will be last out &amp; last back in, if you can afford stocks anymore.\n",
            "1355666945497059330 2021-01-30 23:59:21 +0000 <JasonSamfield> @JaneidyEve @b_cowell34 @MrBeastYT My thinking is that we should have the mob go after individual coins each week to bring them up closer to Bitcoin's market cap.  Surpassing would be impossible and I love Bitcoin, but I think the lesser known crypto need more love. And if they get it, way, way bigger returns.\n",
            "1355666939989929985 2021-01-30 23:59:20 +0000 <Pygoz> This #Bitcoin chop really bores me😴\n",
            "1356029492540669952 2021-01-31 23:59:59 +0000 <scalperSignals> #XEM/#USDT Details and advanced trading tools are available via our #Google #Sheets #Add_On. If u r interested pls DM.  Flw, RT,Lk,Tg &amp; Reply. #Cryptocurrencies #Binance #Bitcoin\n",
            "1356029485821247488 2021-01-31 23:59:57 +0000 <ParthmStech> @elonmusk is it time to revel the truth about #bitcoin in your profile? :)\n",
            "1356029460886286338 2021-01-31 23:59:51 +0000 <CryptoWatchBot> #Investing 65.2% in this optimal #crypto portfolio and 34.8% #cash in the past 24 hours would have given you a 3.8% return rather than #Bitcoin's -3.4%, for the same level of #risk  https://t.co/owiB1igKiT\n",
            "1356029459032276992 2021-01-31 23:59:51 +0000 <RanvirBal17> @ChinUpChubbly @maxkeiser Bro taking silver in your hands doesn’t make it better. Silver sure is better than dollar but it cannot be used for transactions in a digitally evolving world. How can you use physical transactions of silver while booking something online but you can use Bitcoin and crypto.\n",
            "1356029454162792450 2021-01-31 23:59:50 +0000 <crypto_fruit> @Bloqport Go home Bitcoin 🏠\n",
            "1356029433199484930 2021-01-31 23:59:45 +0000 <omzcharts> #BTC falling wedge update  Currently consolidating above the falling wedge, still leaning bullish here until #Bitcoin has a 4hr candle close under both trendlines.  https://t.co/2USwe8aU97\n",
            "1356029405693407232 2021-01-31 23:59:38 +0000 <TheSirKit> @postcardraps Try this ans hopefully it helps people:  Buy bitcoin through cashapp and send it to Exodus (a crypto wallet) and exchange your Bitcoin to Doge. Hope this helps.\n",
            "1356029402878930945 2021-01-31 23:59:38 +0000 <LordOfTheLeg> @PartyPrat Bitcoin atm what\n",
            "1356029397136941059 2021-01-31 23:59:36 +0000 <TN90803803> @bitcoin_renaiw お誕生日おめでとー🎂✨  ラッキーだねー😁  連絡待ってまーす👌\n",
            "1356029395962621952 2021-01-31 23:59:36 +0000 <bitcoinembassyu> @elonmusk . If you are new to #Bitcoin and want to learn why people are so bullish on it, read these:   1. The Bullish Case for #Bitcoin by @real_vijay  2. The #Bitcoin Standard by  @saifedean  3. Gradually, Then Suddenly series by @parkeralewis  ht: @HODLBitty  Read Links below👇 🧵1/2\n",
            "1356029387687292928 2021-01-31 23:59:34 +0000 <cityboy_tony> It’s like Bitcoin but real!\n",
            "1356029369794260994 2021-01-31 23:59:30 +0000 <FxgolgoB> 他通貨との相関関係はどうか #fx,#bitcoin\n",
            "1356029363901370373 2021-01-31 23:59:28 +0000 <RogerVadocz> @CryptoBull2020 How do we know if they haven't been holding xrp down and I’ve been buying and holding xrp for 4 years? Same thing Michael Sayler is doing Feb 4 showing 20 top ceo’s his playbook on how to buy bitcoin which will pump it. Same thing just billionaires doing it. #XRP\n",
            "1356029350345371648 2021-01-31 23:59:25 +0000 <HodlingBitcoin> Ray Dalio Applauds Bitcoin: It’s an Amazing Accomplishment  https://t.co/dYRaMtCmeW\n",
            "1356029331844325384 2021-01-31 23:59:21 +0000 <AryanJabbari> It's coming!  Come join the action this Friday at @scarcedotcity. It'll be a #Bitcoin Lightning auction so bring your Lightning wallets locked and loaded.  If you're new to lightning and need help onboarding, shoot me a DM. I'll be more than happy to guide you through first steps\n",
            "1356029320851025921 2021-01-31 23:59:18 +0000 <WorldCoinIndex> Bitcoin price index  https://t.co/o7UcHJUhC6 #USD #EUR #CNY #GBP #RUB  https://t.co/cVJXmkIlxV\n",
            "1356029309362855938 2021-01-31 23:59:15 +0000 <cryptomancer69> #PBTC35a is a nobrainer -  upward channel/ downtrend breakout Sushiswap Onsen Pairs   Farming $WBTC w the second largest bitcoin miner in the world (Poolin = Saifu)   @coinkit_  mon 5 100 doge   Retweet = Free $DOGE  https://t.co/9PsqdW1nfc\n",
            "1356029284574502919 2021-01-31 23:59:09 +0000 <Btc50586415> @KaJiAAPRP Organized against all of humanity's common enemy. Banks, and their pawns in tech (Facebook) and government (all of them who don't get behind Bitcoin, so everyone as of now)\n"
          ]
        }
      ]
    },
    {
      "cell_type": "markdown",
      "source": [
        "This code should get a single tweet from everyday in the window. However, there is a compounding problem here. Firstly, we chose to use twint because tweepy no longer works. Tweepy no longer works due to Twitter developing an official API to search and view twitter data. To get access to this official API we needed to create a developer account. We did such but were unpleasantly surprised to find that the twitter API relied on YAML files to make requests to it. A file format that we simply can not incorporate into this environment without significant errors. The grader would need to install the YAML files in their local drive for this notebook to run. Secondly, the basic access only gave us tweets from the last 30 days. To get full archive access we would need to be approved as an institution or research organization.\n",
        " \n",
        "With this method out of the question we moved to third party applications. We found twint, a web scraper that will allow us to get some tweets. There are issues here as well. Firstly, twint is not behaving properly. The above code block asks for just a single tweet from a given day. This library returns a few tweets it can find for that day. Secondly, Twitter itself sometimes blocks this bot from grabbing tweets. The webscraper generates a fake user agent to access Twitter. Twitter has been progressively becoming more resistant to passive attacks like this so it will deny the bot access. Twitter has a new model that you can not view content unless you are logged in. To bypass this twint creates a fake user. However, Twitter is wise to this sometimes and will deny the fake user access. This means the web scraper can't obtain any information from the webpage as it can not get onto the page it needs. You can see above it skips whole days at a time. This leads to a sparse matrix for the tweets. This means some days in our predictor would be missing sentiment.\n",
        " \n",
        "A work around we figured would be to just create a list of sentiment out of random days and call them the sentiment for the specific day we are looking at.\n",
        "The logic there being, the average sentiment for the day is very volatile. The result is essentially a coin flip. However, since this list is a 'fake' list, the sentiments will have no actual correlation with the day it is associated with.\n",
        " \n",
        "We have concluded there is no reliable way to get the tweets for a given day and that any list we do make will skew the results of the predictor as they will not be accurate/actually associated with the closing price of the coin. For these reasons we have decided to exclude the sentiment in the price predictor development."
      ],
      "metadata": {
        "id": "iJpp0fzwAedB"
      }
    },
    {
      "cell_type": "code",
      "metadata": {
        "id": "HGkndowR2U4d",
        "colab": {
          "base_uri": "https://localhost:8080/"
        },
        "outputId": "b2921071-1502-4caf-fc72-21b85c01f0fa"
      },
      "source": [
        "df.info()"
      ],
      "execution_count": null,
      "outputs": [
        {
          "output_type": "stream",
          "name": "stdout",
          "text": [
            "<class 'pandas.core.frame.DataFrame'>\n",
            "RangeIndex: 423 entries, 0 to 422\n",
            "Data columns (total 38 columns):\n",
            " #   Column           Non-Null Count  Dtype  \n",
            "---  ------           --------------  -----  \n",
            " 0   id               423 non-null    object \n",
            " 1   conversation_id  423 non-null    object \n",
            " 2   created_at       423 non-null    float64\n",
            " 3   date             423 non-null    object \n",
            " 4   timezone         423 non-null    object \n",
            " 5   place            423 non-null    object \n",
            " 6   tweet            423 non-null    object \n",
            " 7   language         423 non-null    object \n",
            " 8   hashtags         423 non-null    object \n",
            " 9   cashtags         423 non-null    object \n",
            " 10  user_id          423 non-null    int64  \n",
            " 11  user_id_str      423 non-null    object \n",
            " 12  username         423 non-null    object \n",
            " 13  name             423 non-null    object \n",
            " 14  day              423 non-null    int64  \n",
            " 15  hour             423 non-null    object \n",
            " 16  link             423 non-null    object \n",
            " 17  urls             423 non-null    object \n",
            " 18  photos           423 non-null    object \n",
            " 19  video            423 non-null    int64  \n",
            " 20  thumbnail        423 non-null    object \n",
            " 21  retweet          423 non-null    bool   \n",
            " 22  nlikes           423 non-null    int64  \n",
            " 23  nreplies         423 non-null    int64  \n",
            " 24  nretweets        423 non-null    int64  \n",
            " 25  quote_url        423 non-null    object \n",
            " 26  search           423 non-null    object \n",
            " 27  near             423 non-null    object \n",
            " 28  geo              423 non-null    object \n",
            " 29  source           423 non-null    object \n",
            " 30  user_rt_id       423 non-null    object \n",
            " 31  user_rt          423 non-null    object \n",
            " 32  retweet_id       423 non-null    object \n",
            " 33  reply_to         423 non-null    object \n",
            " 34  retweet_date     423 non-null    object \n",
            " 35  translate        423 non-null    object \n",
            " 36  trans_src        423 non-null    object \n",
            " 37  trans_dest       423 non-null    object \n",
            "dtypes: bool(1), float64(1), int64(6), object(30)\n",
            "memory usage: 122.8+ KB\n"
          ]
        }
      ]
    },
    {
      "cell_type": "markdown",
      "metadata": {
        "id": "OfAzajj3nm8C"
      },
      "source": [
        "# Tweet Sentiment Analysis"
      ]
    },
    {
      "cell_type": "code",
      "metadata": {
        "id": "k7DhAkY2q7Ro",
        "colab": {
          "base_uri": "https://localhost:8080/"
        },
        "outputId": "3ff63536-e6c4-4c32-8ba1-0b54ad2f6e18"
      },
      "source": [
        "%pip install importlib-metadata\n",
        "%pip install flair\n",
        "import flair"
      ],
      "execution_count": null,
      "outputs": [
        {
          "output_type": "stream",
          "name": "stdout",
          "text": [
            "Requirement already satisfied: importlib-metadata in /usr/local/lib/python3.7/dist-packages (3.10.1)\n",
            "Requirement already satisfied: typing-extensions>=3.6.4 in /usr/local/lib/python3.7/dist-packages (from importlib-metadata) (3.10.0.2)\n",
            "Requirement already satisfied: zipp>=0.5 in /usr/local/lib/python3.7/dist-packages (from importlib-metadata) (3.6.0)\n",
            "Requirement already satisfied: flair in /usr/local/lib/python3.7/dist-packages (0.10)\n",
            "Requirement already satisfied: gdown==3.12.2 in /usr/local/lib/python3.7/dist-packages (from flair) (3.12.2)\n",
            "Requirement already satisfied: transformers>=4.0.0 in /usr/local/lib/python3.7/dist-packages (from flair) (4.13.0)\n",
            "Requirement already satisfied: sqlitedict>=1.6.0 in /usr/local/lib/python3.7/dist-packages (from flair) (1.7.0)\n",
            "Requirement already satisfied: huggingface-hub in /usr/local/lib/python3.7/dist-packages (from flair) (0.2.1)\n",
            "Requirement already satisfied: matplotlib>=2.2.3 in /usr/local/lib/python3.7/dist-packages (from flair) (3.2.2)\n",
            "Requirement already satisfied: tabulate in /usr/local/lib/python3.7/dist-packages (from flair) (0.8.9)\n",
            "Requirement already satisfied: python-dateutil>=2.6.1 in /usr/local/lib/python3.7/dist-packages (from flair) (2.8.2)\n",
            "Requirement already satisfied: sentencepiece==0.1.95 in /usr/local/lib/python3.7/dist-packages (from flair) (0.1.95)\n",
            "Requirement already satisfied: segtok>=1.5.7 in /usr/local/lib/python3.7/dist-packages (from flair) (1.5.10)\n",
            "Requirement already satisfied: tqdm>=4.26.0 in /usr/local/lib/python3.7/dist-packages (from flair) (4.62.3)\n",
            "Requirement already satisfied: langdetect in /usr/local/lib/python3.7/dist-packages (from flair) (1.0.9)\n",
            "Requirement already satisfied: konoha<5.0.0,>=4.0.0 in /usr/local/lib/python3.7/dist-packages (from flair) (4.6.5)\n",
            "Requirement already satisfied: gensim>=3.4.0 in /usr/local/lib/python3.7/dist-packages (from flair) (3.6.0)\n",
            "Requirement already satisfied: mpld3==0.3 in /usr/local/lib/python3.7/dist-packages (from flair) (0.3)\n",
            "Requirement already satisfied: janome in /usr/local/lib/python3.7/dist-packages (from flair) (0.4.1)\n",
            "Requirement already satisfied: wikipedia-api in /usr/local/lib/python3.7/dist-packages (from flair) (0.5.4)\n",
            "Requirement already satisfied: torch!=1.8,>=1.5.0 in /usr/local/lib/python3.7/dist-packages (from flair) (1.10.0+cu111)\n",
            "Requirement already satisfied: lxml in /usr/local/lib/python3.7/dist-packages (from flair) (4.6.4)\n",
            "Requirement already satisfied: more-itertools~=8.8.0 in /usr/local/lib/python3.7/dist-packages (from flair) (8.8.0)\n",
            "Requirement already satisfied: conllu>=4.0 in /usr/local/lib/python3.7/dist-packages (from flair) (4.4.1)\n",
            "Requirement already satisfied: deprecated>=1.2.4 in /usr/local/lib/python3.7/dist-packages (from flair) (1.2.13)\n",
            "Requirement already satisfied: scikit-learn>=0.21.3 in /usr/local/lib/python3.7/dist-packages (from flair) (1.0.1)\n",
            "Requirement already satisfied: ftfy in /usr/local/lib/python3.7/dist-packages (from flair) (6.0.3)\n",
            "Requirement already satisfied: regex in /usr/local/lib/python3.7/dist-packages (from flair) (2019.12.20)\n",
            "Requirement already satisfied: bpemb>=0.3.2 in /usr/local/lib/python3.7/dist-packages (from flair) (0.3.3)\n",
            "Requirement already satisfied: filelock in /usr/local/lib/python3.7/dist-packages (from gdown==3.12.2->flair) (3.4.0)\n",
            "Requirement already satisfied: six in /usr/local/lib/python3.7/dist-packages (from gdown==3.12.2->flair) (1.15.0)\n",
            "Requirement already satisfied: requests[socks] in /usr/local/lib/python3.7/dist-packages (from gdown==3.12.2->flair) (2.26.0)\n",
            "Requirement already satisfied: numpy in /usr/local/lib/python3.7/dist-packages (from bpemb>=0.3.2->flair) (1.19.5)\n",
            "Requirement already satisfied: wrapt<2,>=1.10 in /usr/local/lib/python3.7/dist-packages (from deprecated>=1.2.4->flair) (1.13.3)\n",
            "Requirement already satisfied: smart-open>=1.2.1 in /usr/local/lib/python3.7/dist-packages (from gensim>=3.4.0->flair) (5.2.1)\n",
            "Requirement already satisfied: scipy>=0.18.1 in /usr/local/lib/python3.7/dist-packages (from gensim>=3.4.0->flair) (1.4.1)\n",
            "Requirement already satisfied: overrides<4.0.0,>=3.0.0 in /usr/local/lib/python3.7/dist-packages (from konoha<5.0.0,>=4.0.0->flair) (3.1.0)\n",
            "Requirement already satisfied: importlib-metadata<4.0.0,>=3.7.0 in /usr/local/lib/python3.7/dist-packages (from konoha<5.0.0,>=4.0.0->flair) (3.10.1)\n",
            "Requirement already satisfied: typing-extensions>=3.6.4 in /usr/local/lib/python3.7/dist-packages (from importlib-metadata<4.0.0,>=3.7.0->konoha<5.0.0,>=4.0.0->flair) (3.10.0.2)\n",
            "Requirement already satisfied: zipp>=0.5 in /usr/local/lib/python3.7/dist-packages (from importlib-metadata<4.0.0,>=3.7.0->konoha<5.0.0,>=4.0.0->flair) (3.6.0)\n",
            "Requirement already satisfied: pyparsing!=2.0.4,!=2.1.2,!=2.1.6,>=2.0.1 in /usr/local/lib/python3.7/dist-packages (from matplotlib>=2.2.3->flair) (3.0.6)\n",
            "Requirement already satisfied: kiwisolver>=1.0.1 in /usr/local/lib/python3.7/dist-packages (from matplotlib>=2.2.3->flair) (1.3.2)\n",
            "Requirement already satisfied: cycler>=0.10 in /usr/local/lib/python3.7/dist-packages (from matplotlib>=2.2.3->flair) (0.11.0)\n",
            "Requirement already satisfied: urllib3<1.27,>=1.21.1 in /usr/local/lib/python3.7/dist-packages (from requests[socks]->gdown==3.12.2->flair) (1.24.3)\n",
            "Requirement already satisfied: idna<4,>=2.5 in /usr/local/lib/python3.7/dist-packages (from requests[socks]->gdown==3.12.2->flair) (2.10)\n",
            "Requirement already satisfied: charset-normalizer~=2.0.0 in /usr/local/lib/python3.7/dist-packages (from requests[socks]->gdown==3.12.2->flair) (2.0.8)\n",
            "Requirement already satisfied: certifi>=2017.4.17 in /usr/local/lib/python3.7/dist-packages (from requests[socks]->gdown==3.12.2->flair) (2021.10.8)\n",
            "Requirement already satisfied: threadpoolctl>=2.0.0 in /usr/local/lib/python3.7/dist-packages (from scikit-learn>=0.21.3->flair) (3.0.0)\n",
            "Requirement already satisfied: joblib>=0.11 in /usr/local/lib/python3.7/dist-packages (from scikit-learn>=0.21.3->flair) (1.1.0)\n",
            "Requirement already satisfied: packaging>=20.0 in /usr/local/lib/python3.7/dist-packages (from transformers>=4.0.0->flair) (21.3)\n",
            "Requirement already satisfied: tokenizers<0.11,>=0.10.1 in /usr/local/lib/python3.7/dist-packages (from transformers>=4.0.0->flair) (0.10.3)\n",
            "Requirement already satisfied: sacremoses in /usr/local/lib/python3.7/dist-packages (from transformers>=4.0.0->flair) (0.0.46)\n",
            "Requirement already satisfied: pyyaml>=5.1 in /usr/local/lib/python3.7/dist-packages (from transformers>=4.0.0->flair) (6.0)\n",
            "Requirement already satisfied: wcwidth in /usr/local/lib/python3.7/dist-packages (from ftfy->flair) (0.2.5)\n",
            "Requirement already satisfied: PySocks!=1.5.7,>=1.5.6 in /usr/local/lib/python3.7/dist-packages (from requests[socks]->gdown==3.12.2->flair) (1.7.1)\n",
            "Requirement already satisfied: click in /usr/local/lib/python3.7/dist-packages (from sacremoses->transformers>=4.0.0->flair) (7.1.2)\n"
          ]
        }
      ]
    },
    {
      "cell_type": "code",
      "metadata": {
        "id": "UMYlA8r1rWW5",
        "colab": {
          "base_uri": "https://localhost:8080/"
        },
        "outputId": "d49d815d-4766-437a-f86a-25fca1821ed9"
      },
      "source": [
        "from flair.models import TextClassifier\n",
        "from flair.data import Sentence\n",
        "\n",
        "#make a classifier that will later test if phrase is positive or negative\n",
        "sentiment_model = flair.models.TextClassifier.load('en-sentiment')"
      ],
      "execution_count": null,
      "outputs": [
        {
          "output_type": "stream",
          "name": "stdout",
          "text": [
            "2021-12-12 00:18:33,172 loading file /root/.flair/models/sentiment-en-mix-distillbert_4.pt\n"
          ]
        }
      ]
    },
    {
      "cell_type": "code",
      "metadata": {
        "id": "NBLFkrK1EfpZ"
      },
      "source": [
        "#create sentiment and confidence list\n",
        "sentiment = []\n",
        "confidence = []\n",
        "\n",
        "#loop through tweets\n",
        "for sentence in df['tweet']:  #tokenizing our sentence (Phrase should be changed to what ehe colum with tweets is called)\n",
        "  if sentence.strip() == \"\":  #if there is an empty tweet or phrase there will be an empty sentiment and confidence analysis\n",
        "    sentiment.append(\"\")\n",
        "    confidence.append(\"\")\n",
        "  \n",
        "  else:\n",
        "    sample = flair.data.Sentence(sentence)    #splits samples into tokens\n",
        "    sentiment_model.predict(sample)\n",
        "\n",
        "    sentiment.append(sample.labels[0].value)\n",
        "    confidence.append(sample.labels[0].score)"
      ],
      "execution_count": null,
      "outputs": []
    },
    {
      "cell_type": "code",
      "metadata": {
        "id": "yEuOPrKRI2AI",
        "colab": {
          "base_uri": "https://localhost:8080/"
        },
        "outputId": "d80b3e7b-2be4-4d75-bfab-8a426849202d"
      },
      "source": [
        "data = {}\n",
        "df = pd.DataFrame(data)\n",
        "#make the new columns in the table to show sentiment and confidence of the tweet then show table\n",
        "df['sentiment'] = sentiment\n",
        "print(df['sentiment'])"
      ],
      "execution_count": null,
      "outputs": [
        {
          "output_type": "stream",
          "name": "stdout",
          "text": [
            "0      POSITIVE\n",
            "1      NEGATIVE\n",
            "2      POSITIVE\n",
            "3      NEGATIVE\n",
            "4      POSITIVE\n",
            "         ...   \n",
            "418    POSITIVE\n",
            "419    POSITIVE\n",
            "420    NEGATIVE\n",
            "421    NEGATIVE\n",
            "422    NEGATIVE\n",
            "Name: sentiment, Length: 423, dtype: object\n"
          ]
        }
      ]
    },
    {
      "cell_type": "markdown",
      "metadata": {
        "id": "VtOwQRtFlT6M"
      },
      "source": [
        "The above is the sentiment analysis of all of the tweets that twint was able to grab. Again, this is a 'sparse' list and the values here DO NOT correlate 1 to 1 with the days of the year/window we want to create a model for. This list will not be used in the predictor development because it will skew the model based on fake data."
      ]
    },
    {
      "cell_type": "markdown",
      "source": [
        "Importing libraries to load in BTC-USD prices and build a TF model"
      ],
      "metadata": {
        "id": "_LABnL7aBHmV"
      }
    },
    {
      "cell_type": "code",
      "metadata": {
        "id": "l7IMcafCxtJd",
        "colab": {
          "base_uri": "https://localhost:8080/"
        },
        "outputId": "93b43a59-b027-41b7-806f-ffd7130d9c3d"
      },
      "source": [
        "%pip install yfinance\n",
        "%pip install yahoofinancials\n",
        "import tensorflow as tf\n",
        "from tensorflow.keras.models import Sequential\n",
        "from tensorflow.keras.layers import LSTM, Dense, Dropout\n",
        "from tensorflow.keras.callbacks import ModelCheckpoint, TensorBoard\n",
        "\n",
        "import os\n",
        "import pandas as pd\n",
        "import numpy as np\n",
        "import yfinance as yf\n",
        "import datetime\n",
        "import random"
      ],
      "execution_count": null,
      "outputs": [
        {
          "output_type": "stream",
          "name": "stdout",
          "text": [
            "Collecting yfinance\n",
            "  Downloading yfinance-0.1.67-py2.py3-none-any.whl (25 kB)\n",
            "Collecting lxml>=4.5.1\n",
            "  Downloading lxml-4.6.5-cp37-cp37m-manylinux_2_17_x86_64.manylinux2014_x86_64.manylinux_2_24_x86_64.whl (6.3 MB)\n",
            "\u001b[K     |████████████████████████████████| 6.3 MB 7.2 MB/s \n",
            "\u001b[?25hRequirement already satisfied: pandas>=0.24 in /usr/local/lib/python3.7/dist-packages (from yfinance) (1.1.5)\n",
            "Requirement already satisfied: multitasking>=0.0.7 in /usr/local/lib/python3.7/dist-packages (from yfinance) (0.0.10)\n",
            "Requirement already satisfied: numpy>=1.15 in /usr/local/lib/python3.7/dist-packages (from yfinance) (1.19.5)\n",
            "Requirement already satisfied: requests>=2.20 in /usr/local/lib/python3.7/dist-packages (from yfinance) (2.23.0)\n",
            "Requirement already satisfied: pytz>=2017.2 in /usr/local/lib/python3.7/dist-packages (from pandas>=0.24->yfinance) (2018.9)\n",
            "Requirement already satisfied: python-dateutil>=2.7.3 in /usr/local/lib/python3.7/dist-packages (from pandas>=0.24->yfinance) (2.8.2)\n",
            "Requirement already satisfied: six>=1.5 in /usr/local/lib/python3.7/dist-packages (from python-dateutil>=2.7.3->pandas>=0.24->yfinance) (1.15.0)\n",
            "Requirement already satisfied: chardet<4,>=3.0.2 in /usr/local/lib/python3.7/dist-packages (from requests>=2.20->yfinance) (3.0.4)\n",
            "Requirement already satisfied: idna<3,>=2.5 in /usr/local/lib/python3.7/dist-packages (from requests>=2.20->yfinance) (2.10)\n",
            "Requirement already satisfied: urllib3!=1.25.0,!=1.25.1,<1.26,>=1.21.1 in /usr/local/lib/python3.7/dist-packages (from requests>=2.20->yfinance) (1.24.3)\n",
            "Requirement already satisfied: certifi>=2017.4.17 in /usr/local/lib/python3.7/dist-packages (from requests>=2.20->yfinance) (2021.10.8)\n",
            "Installing collected packages: lxml, yfinance\n",
            "  Attempting uninstall: lxml\n",
            "    Found existing installation: lxml 4.2.6\n",
            "    Uninstalling lxml-4.2.6:\n",
            "      Successfully uninstalled lxml-4.2.6\n",
            "Successfully installed lxml-4.6.5 yfinance-0.1.67\n",
            "Collecting yahoofinancials\n",
            "  Downloading yahoofinancials-1.6.tar.gz (27 kB)\n",
            "Requirement already satisfied: beautifulsoup4 in /usr/local/lib/python3.7/dist-packages (from yahoofinancials) (4.6.3)\n",
            "Requirement already satisfied: pytz in /usr/local/lib/python3.7/dist-packages (from yahoofinancials) (2018.9)\n",
            "Building wheels for collected packages: yahoofinancials\n",
            "  Building wheel for yahoofinancials (setup.py) ... \u001b[?25l\u001b[?25hdone\n",
            "  Created wheel for yahoofinancials: filename=yahoofinancials-1.6-py3-none-any.whl size=15190 sha256=f1e38466d176dea1c230eb910faac7b64b27d6c4a38c8e952114281077cc5d70\n",
            "  Stored in directory: /root/.cache/pip/wheels/4b/63/46/e7110bfee88685fe69e338d1b14d1748921862aa57b6705b60\n",
            "Successfully built yahoofinancials\n",
            "Installing collected packages: yahoofinancials\n",
            "Successfully installed yahoofinancials-1.6\n"
          ]
        }
      ]
    },
    {
      "cell_type": "code",
      "metadata": {
        "id": "o_fc-ia01scN",
        "colab": {
          "base_uri": "https://localhost:8080/",
          "height": 282
        },
        "outputId": "f9f7750d-8043-4cab-8613-5f0071bebe37"
      },
      "source": [
        "bitcoin_df = yf.download('BTC-USD', start = '2020-01-01', end='2021-10-31', progress=False)\n",
        "pricedf = bitcoin_df.reset_index()['Close']\n",
        "import matplotlib.pyplot as plt\n",
        "plt.plot(pricedf)"
      ],
      "execution_count": null,
      "outputs": [
        {
          "output_type": "execute_result",
          "data": {
            "text/plain": [
              "[<matplotlib.lines.Line2D at 0x7f3a582649d0>]"
            ]
          },
          "metadata": {},
          "execution_count": 2
        },
        {
          "output_type": "display_data",
          "data": {
            "image/png": "[encoded data removed]",
            "text/plain": [
              "<Figure size 432x288 with 1 Axes>"
            ]
          },
          "metadata": {
            "needs_background": "light"
          }
        }
      ]
    },
    {
      "cell_type": "markdown",
      "source": [
        "This is the plot of the closing prices from the specified window. These values must be normalized to be used by the predictor."
      ],
      "metadata": {
        "id": "lSbOzvf3BSf0"
      }
    },
    {
      "cell_type": "code",
      "metadata": {
        "id": "u3PWaG89hKdt"
      },
      "source": [
        "from sklearn.preprocessing import MinMaxScaler\n",
        "normal = MinMaxScaler(feature_range=(0,1))\n",
        "pricedf = normal.fit_transform(np.array(pricedf).reshape(-1,1))"
      ],
      "execution_count": null,
      "outputs": []
    },
    {
      "cell_type": "code",
      "metadata": {
        "id": "sX46S6IkiyAF",
        "colab": {
          "base_uri": "https://localhost:8080/",
          "height": 282
        },
        "outputId": "983ef84b-66f8-4b9b-cab6-964aab79dfd4"
      },
      "source": [
        "plt.plot(pricedf)"
      ],
      "execution_count": null,
      "outputs": [
        {
          "output_type": "execute_result",
          "data": {
            "text/plain": [
              "[<matplotlib.lines.Line2D at 0x7f3a56a678d0>]"
            ]
          },
          "metadata": {},
          "execution_count": 4
        },
        {
          "output_type": "display_data",
          "data": {
            "image/png": "[encoded data removed]",
            "text/plain": [
              "<Figure size 432x288 with 1 Axes>"
            ]
          },
          "metadata": {
            "needs_background": "light"
          }
        }
      ]
    },
    {
      "cell_type": "markdown",
      "source": [
        "This is the graph after the values have been normalized from 0-1"
      ],
      "metadata": {
        "id": "Td8suFPJBdgL"
      }
    },
    {
      "cell_type": "code",
      "metadata": {
        "id": "2CQagowhkfBH"
      },
      "source": [
        "training_size=int(len(pricedf)*0.7)\n",
        "test_size= len(pricedf) - training_size\n",
        "train_data = pricedf[0:training_size,:]\n",
        "test_data = pricedf[training_size:len(pricedf), :1]"
      ],
      "execution_count": null,
      "outputs": []
    },
    {
      "cell_type": "markdown",
      "source": [
        "Splitting the data into training and test sets. The training data is 70% of the data and the test data is the remaining 30%."
      ],
      "metadata": {
        "id": "fG08t7g_CHPx"
      }
    },
    {
      "cell_type": "code",
      "metadata": {
        "id": "qf7Ttdx3kk-U",
        "colab": {
          "base_uri": "https://localhost:8080/"
        },
        "outputId": "7f025cda-adec-432e-c39e-929ed8222b6c"
      },
      "source": [
        "print(train_data.shape)"
      ],
      "execution_count": null,
      "outputs": [
        {
          "output_type": "stream",
          "name": "stdout",
          "text": [
            "(466, 1)\n"
          ]
        }
      ]
    },
    {
      "cell_type": "code",
      "metadata": {
        "id": "qOOf1xuuHQaw"
      },
      "source": [
        "#consider timesteps needed to predict a future price\n",
        "#the predictions at timestep +1 will be the y_train(label)\n",
        "#x_train is the previous timesteps we have considered\n",
        "def create_dataset(dataset, timestep):\n",
        "  x_data, y_data = [], []\n",
        "  for i in range(len(dataset) - timestep-1):\n",
        "    element = dataset[i:(i+timestep), 0]\n",
        "    x_data.append(element)\n",
        "    y_data.append(dataset[i + timestep, 0])\n",
        "  return np.array(x_data), np.array(y_data)"
      ],
      "execution_count": null,
      "outputs": []
    },
    {
      "cell_type": "code",
      "metadata": {
        "id": "4qL0nwD-LAyN"
      },
      "source": [
        "timestep = 100\n",
        "x_train, y_train = create_dataset(train_data, timestep)\n",
        "x_test, y_test = create_dataset(test_data, timestep)"
      ],
      "execution_count": null,
      "outputs": []
    },
    {
      "cell_type": "markdown",
      "source": [
        "The above code creates a large dataset for everyday in the training/test set. The x array is the previous days considered and the y array is the label(next day) we are trying to find the price for."
      ],
      "metadata": {
        "id": "34GFDNPGCuPQ"
      }
    },
    {
      "cell_type": "code",
      "metadata": {
        "id": "qSjcZN8BMOfi",
        "colab": {
          "base_uri": "https://localhost:8080/"
        },
        "outputId": "9c24741f-5d3e-44bc-81d2-ad305b24476d"
      },
      "source": [
        "x_test.shape"
      ],
      "execution_count": null,
      "outputs": [
        {
          "output_type": "execute_result",
          "data": {
            "text/plain": [
              "(99, 100)"
            ]
          },
          "metadata": {},
          "execution_count": 9
        }
      ]
    },
    {
      "cell_type": "code",
      "source": [
        "x_train.shape"
      ],
      "metadata": {
        "colab": {
          "base_uri": "https://localhost:8080/"
        },
        "id": "y7atLJn3Wyi-",
        "outputId": "649b1490-d7f6-4142-8c55-8e7941baa847"
      },
      "execution_count": null,
      "outputs": [
        {
          "output_type": "execute_result",
          "data": {
            "text/plain": [
              "(365, 100)"
            ]
          },
          "metadata": {},
          "execution_count": 10
        }
      ]
    },
    {
      "cell_type": "code",
      "source": [
        "y_train.shape"
      ],
      "metadata": {
        "colab": {
          "base_uri": "https://localhost:8080/"
        },
        "id": "TCFQSNdAW0lw",
        "outputId": "0c001448-b74f-4f7c-9615-e05f2b9ee919"
      },
      "execution_count": null,
      "outputs": [
        {
          "output_type": "execute_result",
          "data": {
            "text/plain": [
              "(365,)"
            ]
          },
          "metadata": {},
          "execution_count": 11
        }
      ]
    },
    {
      "cell_type": "code",
      "metadata": {
        "id": "jb_1GFa9MhuF"
      },
      "source": [
        "x_train = x_train.reshape(x_train.shape[0],x_train.shape[1], 1)\n",
        "x_test = x_test.reshape(x_test.shape[0],x_test.shape[1], 1)"
      ],
      "execution_count": null,
      "outputs": []
    },
    {
      "cell_type": "markdown",
      "source": [
        "# Price Predictor Development"
      ],
      "metadata": {
        "id": "fO0cgybksKt9"
      }
    },
    {
      "cell_type": "markdown",
      "source": [
        "Below is a Long Short Term Memory Recurrent Neural Network, built in tensorflow. Each LSTM layer consists of 100 neurons and is followed by a dropout. All of these LSTM layers lead to 1 dense layer, the price. After predicting a price we can invert the normal transform to get back a predicted price in USD."
      ],
      "metadata": {
        "id": "4zBN_Ovss5QK"
      }
    },
    {
      "cell_type": "code",
      "metadata": {
        "id": "V5joRvWPM_ms",
        "colab": {
          "base_uri": "https://localhost:8080/"
        },
        "outputId": "a14f5ef8-43b8-4eaf-8d82-32051917c092"
      },
      "source": [
        "RNN_model = Sequential([\n",
        "    LSTM(100, return_sequences=True,input_shape=(100,1),activation='relu'),\n",
        "    Dropout(0.2),\n",
        "    LSTM(100, return_sequences=True,activation='relu'),\n",
        "    Dropout(0.2),\n",
        "    LSTM(100, activation='relu'),\n",
        "    Dense(1)\n",
        "])\n",
        "RNN_model.compile(optimizer='adam', loss='mean_squared_error', metrics=['accuracy'])\n",
        "RNN_model.summary()"
      ],
      "execution_count": null,
      "outputs": [
        {
          "output_type": "stream",
          "name": "stdout",
          "text": [
            "Model: \"sequential_3\"\n",
            "_________________________________________________________________\n",
            " Layer (type)                Output Shape              Param #   \n",
            "=================================================================\n",
            " lstm_9 (LSTM)               (None, 100, 100)          40800     \n",
            "                                                                 \n",
            " dropout_2 (Dropout)         (None, 100, 100)          0         \n",
            "                                                                 \n",
            " lstm_10 (LSTM)              (None, 100, 100)          80400     \n",
            "                                                                 \n",
            " dropout_3 (Dropout)         (None, 100, 100)          0         \n",
            "                                                                 \n",
            " lstm_11 (LSTM)              (None, 100)               80400     \n",
            "                                                                 \n",
            " dense_3 (Dense)             (None, 1)                 101       \n",
            "                                                                 \n",
            "=================================================================\n",
            "Total params: 201,701\n",
            "Trainable params: 201,701\n",
            "Non-trainable params: 0\n",
            "_________________________________________________________________\n"
          ]
        }
      ]
    },
    {
      "cell_type": "markdown",
      "source": [
        "We then train the model on the modified data set retrieved from Yahoofinance. We use the test data as validation to see how well the network is learning. "
      ],
      "metadata": {
        "id": "pDy7iZ14w6rt"
      }
    },
    {
      "cell_type": "code",
      "metadata": {
        "id": "1jEUhu8OOXXP",
        "colab": {
          "base_uri": "https://localhost:8080/"
        },
        "outputId": "04e787e8-65e4-436e-9c01-09c1962ac09a"
      },
      "source": [
        "RNN_model.fit(x_train, y_train, validation_data=(x_test, y_test), epochs=20)"
      ],
      "execution_count": null,
      "outputs": [
        {
          "output_type": "stream",
          "name": "stdout",
          "text": [
            "Epoch 1/20\n",
            "12/12 [==============================] - 3s 265ms/step - loss: 0.0027 - accuracy: 0.0000e+00 - val_loss: 0.0052 - val_accuracy: 0.0101\n",
            "Epoch 2/20\n",
            "12/12 [==============================] - 3s 261ms/step - loss: 0.0023 - accuracy: 0.0000e+00 - val_loss: 0.0054 - val_accuracy: 0.0101\n",
            "Epoch 3/20\n",
            "12/12 [==============================] - 3s 259ms/step - loss: 0.0023 - accuracy: 0.0000e+00 - val_loss: 0.0048 - val_accuracy: 0.0101\n",
            "Epoch 4/20\n",
            "12/12 [==============================] - 3s 261ms/step - loss: 0.0022 - accuracy: 0.0000e+00 - val_loss: 0.0082 - val_accuracy: 0.0101\n",
            "Epoch 5/20\n",
            "12/12 [==============================] - 3s 263ms/step - loss: 0.0025 - accuracy: 0.0000e+00 - val_loss: 0.0062 - val_accuracy: 0.0101\n",
            "Epoch 6/20\n",
            "12/12 [==============================] - 3s 262ms/step - loss: 0.0022 - accuracy: 0.0000e+00 - val_loss: 0.0046 - val_accuracy: 0.0101\n",
            "Epoch 7/20\n",
            "12/12 [==============================] - 3s 262ms/step - loss: 0.0024 - accuracy: 0.0000e+00 - val_loss: 0.0046 - val_accuracy: 0.0101\n",
            "Epoch 8/20\n",
            "12/12 [==============================] - 3s 261ms/step - loss: 0.0020 - accuracy: 0.0000e+00 - val_loss: 0.0046 - val_accuracy: 0.0101\n",
            "Epoch 9/20\n",
            "12/12 [==============================] - 3s 263ms/step - loss: 0.0019 - accuracy: 0.0000e+00 - val_loss: 0.0044 - val_accuracy: 0.0101\n",
            "Epoch 10/20\n",
            "12/12 [==============================] - 3s 262ms/step - loss: 0.0020 - accuracy: 0.0000e+00 - val_loss: 0.0056 - val_accuracy: 0.0101\n",
            "Epoch 11/20\n",
            "12/12 [==============================] - 3s 260ms/step - loss: 0.0019 - accuracy: 0.0000e+00 - val_loss: 0.0044 - val_accuracy: 0.0101\n",
            "Epoch 12/20\n",
            "12/12 [==============================] - 3s 261ms/step - loss: 0.0020 - accuracy: 0.0000e+00 - val_loss: 0.0042 - val_accuracy: 0.0101\n",
            "Epoch 13/20\n",
            "12/12 [==============================] - 3s 260ms/step - loss: 0.0023 - accuracy: 0.0000e+00 - val_loss: 0.0044 - val_accuracy: 0.0101\n",
            "Epoch 14/20\n",
            "12/12 [==============================] - 3s 258ms/step - loss: 0.0018 - accuracy: 0.0000e+00 - val_loss: 0.0043 - val_accuracy: 0.0101\n",
            "Epoch 15/20\n",
            "12/12 [==============================] - 3s 258ms/step - loss: 0.0020 - accuracy: 0.0000e+00 - val_loss: 0.0040 - val_accuracy: 0.0101\n",
            "Epoch 16/20\n",
            "12/12 [==============================] - 3s 258ms/step - loss: 0.0022 - accuracy: 0.0000e+00 - val_loss: 0.0043 - val_accuracy: 0.0101\n",
            "Epoch 17/20\n",
            "12/12 [==============================] - 3s 260ms/step - loss: 0.0024 - accuracy: 0.0000e+00 - val_loss: 0.0104 - val_accuracy: 0.0101\n",
            "Epoch 18/20\n",
            "12/12 [==============================] - 3s 271ms/step - loss: 0.0022 - accuracy: 0.0000e+00 - val_loss: 0.0041 - val_accuracy: 0.0101\n",
            "Epoch 19/20\n",
            "12/12 [==============================] - 3s 259ms/step - loss: 0.0019 - accuracy: 0.0000e+00 - val_loss: 0.0038 - val_accuracy: 0.0101\n",
            "Epoch 20/20\n",
            "12/12 [==============================] - 3s 267ms/step - loss: 0.0020 - accuracy: 0.0000e+00 - val_loss: 0.0038 - val_accuracy: 0.0101\n"
          ]
        },
        {
          "output_type": "execute_result",
          "data": {
            "text/plain": [
              "<keras.callbacks.History at 0x7f3a478fd090>"
            ]
          },
          "metadata": {},
          "execution_count": 29
        }
      ]
    },
    {
      "cell_type": "markdown",
      "source": [
        "The network is now trained. We will use the network to predict prices in the test set as well as the training set. By doing this, we can ensure the model has at least a baseline concept of what it is trying to accomplish. The problem here is that, unless we test against a real open-ended data set we will not know how well it is predicting. This is the case of over-fitting. That is when the model has memorized the dataset and seems to be performing well when in reality it is just copying the dataset it was given."
      ],
      "metadata": {
        "id": "azObu6M3DrIV"
      }
    },
    {
      "cell_type": "code",
      "metadata": {
        "id": "KFhjNu2-O4Qe"
      },
      "source": [
        "train_predict=RNN_model.predict(x_train)\n",
        "test_predict=RNN_model.predict(x_test)"
      ],
      "execution_count": null,
      "outputs": []
    },
    {
      "cell_type": "markdown",
      "source": [
        "Using the model to predict values from the training set and values from the test set."
      ],
      "metadata": {
        "id": "KdyuI65oD14B"
      }
    },
    {
      "cell_type": "code",
      "metadata": {
        "id": "oT81Uwd-QOxI"
      },
      "source": [
        "train_predict=normal.inverse_transform(train_predict)\n",
        "test_predict=normal.inverse_transform(test_predict)"
      ],
      "execution_count": null,
      "outputs": []
    },
    {
      "cell_type": "markdown",
      "source": [
        "Reverting the normalization back into the price format so we can view the predicted prices."
      ],
      "metadata": {
        "id": "r-ql4ZMoD-SP"
      }
    },
    {
      "cell_type": "code",
      "metadata": {
        "id": "g34Glu6EQPb8",
        "colab": {
          "base_uri": "https://localhost:8080/"
        },
        "outputId": "cb013e0a-a17b-40b8-a2f0-0065485ceda1"
      },
      "source": [
        "import math\n",
        "from sklearn.metrics import mean_squared_error\n",
        "print(math.sqrt(mean_squared_error(y_train, train_predict)))\n",
        "print(math.sqrt(mean_squared_error(y_test, test_predict)))"
      ],
      "execution_count": null,
      "outputs": [
        {
          "output_type": "stream",
          "name": "stdout",
          "text": [
            "28057.70072351852\n",
            "50122.17943352012\n"
          ]
        }
      ]
    },
    {
      "cell_type": "markdown",
      "source": [
        "Loss metrics"
      ],
      "metadata": {
        "id": "juK6QUO8EGrG"
      }
    },
    {
      "cell_type": "markdown",
      "source": [
        "The code below displays the actual prices of BTC in blue and then the predicted values for the training set in orange and the predicted values of the test set in green. It does a decent job predicting data it has seen at least once. The real test will be generating the 30 day forecast."
      ],
      "metadata": {
        "id": "s41uoEUMz-2p"
      }
    },
    {
      "cell_type": "code",
      "metadata": {
        "id": "d1LZVDcFRhuD",
        "colab": {
          "base_uri": "https://localhost:8080/",
          "height": 265
        },
        "outputId": "0345d895-e793-41e1-8e15-2555d377f957"
      },
      "source": [
        "timesteps = 100\n",
        "train_predict_plot = np.empty_like(pricedf)\n",
        "train_predict_plot[:, :] = np.nan\n",
        "train_predict_plot[timesteps:len(train_predict) + timesteps, :] = train_predict\n",
        "\n",
        "test_predict_plot = np.empty_like(pricedf)\n",
        "test_predict_plot[:,:] = np.nan\n",
        "test_predict_plot[len(train_predict)+(timesteps * 2)+1:len(pricedf)-1, :] = test_predict\n",
        "\n",
        "plt.plot(normal.inverse_transform(pricedf))\n",
        "plt.plot(train_predict_plot)\n",
        "plt.plot(test_predict_plot)\n",
        "plt.show()"
      ],
      "execution_count": null,
      "outputs": [
        {
          "output_type": "display_data",
          "data": {
            "image/png": "[encoded data removed]",
            "text/plain": [
              "<Figure size 432x288 with 1 Axes>"
            ]
          },
          "metadata": {
            "needs_background": "light"
          }
        }
      ]
    },
    {
      "cell_type": "markdown",
      "source": [
        "### Formatting and reshaping the initial test data to be used to forecast several days.\n",
        "\n",
        "The last 100 elements of the test data will be used to create a forecast list. Since the model does not have data from the days we are trying to forecast over, the list will need to progressively add and drop values. It will be adding previous predictions to the tail and removing a value from the head. This way the model is continuously using the previous 100 days to predict."
      ],
      "metadata": {
        "id": "e5UdSIhBEZzH"
      }
    },
    {
      "cell_type": "code",
      "metadata": {
        "id": "MN5WyDqoT_kU",
        "colab": {
          "base_uri": "https://localhost:8080/"
        },
        "outputId": "3e893e76-ca00-433d-fa76-76b40df846e5"
      },
      "source": [
        "len(test_data)"
      ],
      "execution_count": null,
      "outputs": [
        {
          "output_type": "execute_result",
          "data": {
            "text/plain": [
              "200"
            ]
          },
          "metadata": {},
          "execution_count": 34
        }
      ]
    },
    {
      "cell_type": "code",
      "metadata": {
        "id": "nmJFxHbuVwLP",
        "colab": {
          "base_uri": "https://localhost:8080/"
        },
        "outputId": "ee5e24bd-f09e-4467-e22c-d606d7b7e1af"
      },
      "source": [
        "x_input=test_data[100:].reshape(1,-1)\n",
        "x_input.shape"
      ],
      "execution_count": null,
      "outputs": [
        {
          "output_type": "execute_result",
          "data": {
            "text/plain": [
              "(1, 100)"
            ]
          },
          "metadata": {},
          "execution_count": 35
        }
      ]
    },
    {
      "cell_type": "code",
      "metadata": {
        "id": "aS083xcqV6PH"
      },
      "source": [
        "forecast_input=list(x_input)\n",
        "forecast_input=forecast_input[0].tolist()"
      ],
      "execution_count": null,
      "outputs": []
    },
    {
      "cell_type": "code",
      "metadata": {
        "id": "wnjuqTB6WHPi",
        "colab": {
          "base_uri": "https://localhost:8080/"
        },
        "outputId": "20d9bad9-f066-4057-ea03-84767edbfa2f"
      },
      "source": [
        "forecast_input"
      ],
      "execution_count": null,
      "outputs": [
        {
          "output_type": "execute_result",
          "data": {
            "text/plain": [
              "[0.48050923000630996,\n",
              " 0.4978430007455841,\n",
              " 0.5304106992450555,\n",
              " 0.5643231345509612,\n",
              " 0.5739748074214402,\n",
              " 0.5741799074703675,\n",
              " 0.6106769618697468,\n",
              " 0.6006912012479095,\n",
              " 0.5736304774703853,\n",
              " 0.5609637570641771,\n",
              " 0.5437738252168941,\n",
              " 0.5699041091657173,\n",
              " 0.5882917382400383,\n",
              " 0.6201973425428632,\n",
              " 0.648700168037689,\n",
              " 0.6362836133590739,\n",
              " 0.6783550489571544,\n",
              " 0.6655667024295474,\n",
              " 0.6657077247166219,\n",
              " 0.6466105672583089,\n",
              " 0.701755082535566,\n",
              " 0.6903432236334532,\n",
              " 0.6895248078639353,\n",
              " 0.672440498701025,\n",
              " 0.6509871872162241,\n",
              " 0.6527214476798753,\n",
              " 0.6841263364450256,\n",
              " 0.7270878191967532,\n",
              " 0.7199808208409303,\n",
              " 0.7268006535227557,\n",
              " 0.7304795876400783,\n",
              " 0.7003260396228776,\n",
              " 0.7208869994590998,\n",
              " 0.6878076390710279,\n",
              " 0.722490991945358,\n",
              " 0.7199301859661795,\n",
              " 0.7187409385538913,\n",
              " 0.6896555879513131,\n",
              " 0.6914861250921137,\n",
              " 0.719022727073048,\n",
              " 0.7269001308873104,\n",
              " 0.7383329222850533,\n",
              " 0.7370096300842339,\n",
              " 0.7666511321303453,\n",
              " 0.7810741977433009,\n",
              " 0.6856594016983839,\n",
              " 0.6738646765688573,\n",
              " 0.6787814445332795,\n",
              " 0.6540770668234875,\n",
              " 0.6592808724344109,\n",
              " 0.6734038415962519,\n",
              " 0.6553743694425764,\n",
              " 0.690270247960614,\n",
              " 0.7080319506059677,\n",
              " 0.701591847477899,\n",
              " 0.6931385119719392,\n",
              " 0.7097037336514688,\n",
              " 0.6930188702767316,\n",
              " 0.6206447346283667,\n",
              " 0.5854095192316263,\n",
              " 0.6326192103625711,\n",
              " 0.6542604021980593,\n",
              " 0.6205783523715821,\n",
              " 0.6185601269213387,\n",
              " 0.6266218903301424,\n",
              " 0.6106799705159077,\n",
              " 0.5909954869187345,\n",
              " 0.5996779276291611,\n",
              " 0.6361652519388283,\n",
              " 0.7070584295247921,\n",
              " 0.7004140585265216,\n",
              " 0.7084187856857641,\n",
              " 0.723379758824043,\n",
              " 0.762741108382365,\n",
              " 0.8257779426771928,\n",
              " 0.8002877321956682,\n",
              " 0.8029402698758806,\n",
              " 0.8193339347104899,\n",
              " 0.8161114186171535,\n",
              " 0.8605742158031796,\n",
              " 0.8369150545724404,\n",
              " 0.8592027212500374,\n",
              " 0.8578986971873975,\n",
              " 0.9279131580531288,\n",
              " 0.9164128961648835,\n",
              " 0.9272522161039483,\n",
              " 0.9349946789372059,\n",
              " 0.9716357642698206,\n",
              " 1.0,\n",
              " 0.9380115188578819,\n",
              " 0.9131368005643836,\n",
              " 0.9246302129815815,\n",
              " 0.9170463762161272,\n",
              " 0.9516074628315774,\n",
              " 0.9077539485000115,\n",
              " 0.8769223668628864,\n",
              " 0.9119875617446608,\n",
              " 0.9383031014804988,\n",
              " 0.932745555897549,\n",
              " 0.9234067182140573]"
            ]
          },
          "metadata": {},
          "execution_count": 37
        }
      ]
    },
    {
      "cell_type": "markdown",
      "source": [
        "Given a day in the future, the forecast code  looks at the previous 100 days and uses the RNN model to generate a prediction. In the case where we start to run out of days to pull from as the future gets further away, the previous predictions start being added to the list to the model will predict with. "
      ],
      "metadata": {
        "id": "dyZ5QtYgFiZb"
      }
    },
    {
      "cell_type": "code",
      "metadata": {
        "id": "rUAV0NnvWLGj",
        "colab": {
          "base_uri": "https://localhost:8080/"
        },
        "outputId": "49028b86-be25-41ae-b5ec-78b5f67504c4"
      },
      "source": [
        "forecast_output = []\n",
        "timesteps = 100\n",
        "i=0\n",
        "while(i<30):\n",
        "  if(len(forecast_input)>100):\n",
        "    x_input=np.array(forecast_input[1:])\n",
        "    print(\"{} day input {}\".format(i,x_input))\n",
        "    x_input=x_input.reshape(1,-1)\n",
        "    x_input = x_input.reshape((1, timesteps, 1))\n",
        "    yhat = RNN_model.predict(x_input, verbose=0)\n",
        "    print(\"{} day output {}\".format(i,yhat))\n",
        "    forecast_input.extend(yhat[0].tolist())\n",
        "    forecast_input=forecast_input[1:]\n",
        "    forecast_output.extend(yhat.tolist())\n",
        "    i=i+1\n",
        "  else:\n",
        "    x_input = x_input.reshape((1, timesteps, 1))\n",
        "    yhat = RNN_model.predict(x_input, verbose=0)\n",
        "    print(yhat[0])\n",
        "    forecast_input.extend(yhat[0].tolist())\n",
        "    print(len(forecast_input))\n",
        "    forecast_output.extend(yhat.tolist())\n",
        "    i=i+1\n",
        "print(forecast_output)"
      ],
      "execution_count": null,
      "outputs": [
        {
          "output_type": "stream",
          "name": "stdout",
          "text": [
            "[0.927241]\n",
            "101\n",
            "1 day input [0.497843   0.5304107  0.56432313 0.57397481 0.57417991 0.61067696\n",
            " 0.6006912  0.57363048 0.56096376 0.54377383 0.56990411 0.58829174\n",
            " 0.62019734 0.64870017 0.63628361 0.67835505 0.6655667  0.66570772\n",
            " 0.64661057 0.70175508 0.69034322 0.68952481 0.6724405  0.65098719\n",
            " 0.65272145 0.68412634 0.72708782 0.71998082 0.72680065 0.73047959\n",
            " 0.70032604 0.720887   0.68780764 0.72249099 0.71993019 0.71874094\n",
            " 0.68965559 0.69148613 0.71902273 0.72690013 0.73833292 0.73700963\n",
            " 0.76665113 0.7810742  0.6856594  0.67386468 0.67878144 0.65407707\n",
            " 0.65928087 0.67340384 0.65537437 0.69027025 0.70803195 0.70159185\n",
            " 0.69313851 0.70970373 0.69301887 0.62064473 0.58540952 0.63261921\n",
            " 0.6542604  0.62057835 0.61856013 0.62662189 0.61067997 0.59099549\n",
            " 0.59967793 0.63616525 0.70705843 0.70041406 0.70841879 0.72337976\n",
            " 0.76274111 0.82577794 0.80028773 0.80294027 0.81933393 0.81611142\n",
            " 0.86057422 0.83691505 0.85920272 0.8578987  0.92791316 0.9164129\n",
            " 0.92725222 0.93499468 0.97163576 1.         0.93801152 0.9131368\n",
            " 0.92463021 0.91704638 0.95160746 0.90775395 0.87692237 0.91198756\n",
            " 0.9383031  0.93274556 0.92340672 0.92724103]\n",
            "1 day output [[0.928726]]\n",
            "2 day input [0.5304107  0.56432313 0.57397481 0.57417991 0.61067696 0.6006912\n",
            " 0.57363048 0.56096376 0.54377383 0.56990411 0.58829174 0.62019734\n",
            " 0.64870017 0.63628361 0.67835505 0.6655667  0.66570772 0.64661057\n",
            " 0.70175508 0.69034322 0.68952481 0.6724405  0.65098719 0.65272145\n",
            " 0.68412634 0.72708782 0.71998082 0.72680065 0.73047959 0.70032604\n",
            " 0.720887   0.68780764 0.72249099 0.71993019 0.71874094 0.68965559\n",
            " 0.69148613 0.71902273 0.72690013 0.73833292 0.73700963 0.76665113\n",
            " 0.7810742  0.6856594  0.67386468 0.67878144 0.65407707 0.65928087\n",
            " 0.67340384 0.65537437 0.69027025 0.70803195 0.70159185 0.69313851\n",
            " 0.70970373 0.69301887 0.62064473 0.58540952 0.63261921 0.6542604\n",
            " 0.62057835 0.61856013 0.62662189 0.61067997 0.59099549 0.59967793\n",
            " 0.63616525 0.70705843 0.70041406 0.70841879 0.72337976 0.76274111\n",
            " 0.82577794 0.80028773 0.80294027 0.81933393 0.81611142 0.86057422\n",
            " 0.83691505 0.85920272 0.8578987  0.92791316 0.9164129  0.92725222\n",
            " 0.93499468 0.97163576 1.         0.93801152 0.9131368  0.92463021\n",
            " 0.91704638 0.95160746 0.90775395 0.87692237 0.91198756 0.9383031\n",
            " 0.93274556 0.92340672 0.92724103 0.92872602]\n",
            "2 day output [[0.9303599]]\n",
            "3 day input [0.56432313 0.57397481 0.57417991 0.61067696 0.6006912  0.57363048\n",
            " 0.56096376 0.54377383 0.56990411 0.58829174 0.62019734 0.64870017\n",
            " 0.63628361 0.67835505 0.6655667  0.66570772 0.64661057 0.70175508\n",
            " 0.69034322 0.68952481 0.6724405  0.65098719 0.65272145 0.68412634\n",
            " 0.72708782 0.71998082 0.72680065 0.73047959 0.70032604 0.720887\n",
            " 0.68780764 0.72249099 0.71993019 0.71874094 0.68965559 0.69148613\n",
            " 0.71902273 0.72690013 0.73833292 0.73700963 0.76665113 0.7810742\n",
            " 0.6856594  0.67386468 0.67878144 0.65407707 0.65928087 0.67340384\n",
            " 0.65537437 0.69027025 0.70803195 0.70159185 0.69313851 0.70970373\n",
            " 0.69301887 0.62064473 0.58540952 0.63261921 0.6542604  0.62057835\n",
            " 0.61856013 0.62662189 0.61067997 0.59099549 0.59967793 0.63616525\n",
            " 0.70705843 0.70041406 0.70841879 0.72337976 0.76274111 0.82577794\n",
            " 0.80028773 0.80294027 0.81933393 0.81611142 0.86057422 0.83691505\n",
            " 0.85920272 0.8578987  0.92791316 0.9164129  0.92725222 0.93499468\n",
            " 0.97163576 1.         0.93801152 0.9131368  0.92463021 0.91704638\n",
            " 0.95160746 0.90775395 0.87692237 0.91198756 0.9383031  0.93274556\n",
            " 0.92340672 0.92724103 0.92872602 0.9303599 ]\n",
            "3 day output [[0.9320879]]\n",
            "4 day input [0.57397481 0.57417991 0.61067696 0.6006912  0.57363048 0.56096376\n",
            " 0.54377383 0.56990411 0.58829174 0.62019734 0.64870017 0.63628361\n",
            " 0.67835505 0.6655667  0.66570772 0.64661057 0.70175508 0.69034322\n",
            " 0.68952481 0.6724405  0.65098719 0.65272145 0.68412634 0.72708782\n",
            " 0.71998082 0.72680065 0.73047959 0.70032604 0.720887   0.68780764\n",
            " 0.72249099 0.71993019 0.71874094 0.68965559 0.69148613 0.71902273\n",
            " 0.72690013 0.73833292 0.73700963 0.76665113 0.7810742  0.6856594\n",
            " 0.67386468 0.67878144 0.65407707 0.65928087 0.67340384 0.65537437\n",
            " 0.69027025 0.70803195 0.70159185 0.69313851 0.70970373 0.69301887\n",
            " 0.62064473 0.58540952 0.63261921 0.6542604  0.62057835 0.61856013\n",
            " 0.62662189 0.61067997 0.59099549 0.59967793 0.63616525 0.70705843\n",
            " 0.70041406 0.70841879 0.72337976 0.76274111 0.82577794 0.80028773\n",
            " 0.80294027 0.81933393 0.81611142 0.86057422 0.83691505 0.85920272\n",
            " 0.8578987  0.92791316 0.9164129  0.92725222 0.93499468 0.97163576\n",
            " 1.         0.93801152 0.9131368  0.92463021 0.91704638 0.95160746\n",
            " 0.90775395 0.87692237 0.91198756 0.9383031  0.93274556 0.92340672\n",
            " 0.92724103 0.92872602 0.9303599  0.9320879 ]\n",
            "4 day output [[0.93387234]]\n",
            "5 day input [0.57417991 0.61067696 0.6006912  0.57363048 0.56096376 0.54377383\n",
            " 0.56990411 0.58829174 0.62019734 0.64870017 0.63628361 0.67835505\n",
            " 0.6655667  0.66570772 0.64661057 0.70175508 0.69034322 0.68952481\n",
            " 0.6724405  0.65098719 0.65272145 0.68412634 0.72708782 0.71998082\n",
            " 0.72680065 0.73047959 0.70032604 0.720887   0.68780764 0.72249099\n",
            " 0.71993019 0.71874094 0.68965559 0.69148613 0.71902273 0.72690013\n",
            " 0.73833292 0.73700963 0.76665113 0.7810742  0.6856594  0.67386468\n",
            " 0.67878144 0.65407707 0.65928087 0.67340384 0.65537437 0.69027025\n",
            " 0.70803195 0.70159185 0.69313851 0.70970373 0.69301887 0.62064473\n",
            " 0.58540952 0.63261921 0.6542604  0.62057835 0.61856013 0.62662189\n",
            " 0.61067997 0.59099549 0.59967793 0.63616525 0.70705843 0.70041406\n",
            " 0.70841879 0.72337976 0.76274111 0.82577794 0.80028773 0.80294027\n",
            " 0.81933393 0.81611142 0.86057422 0.83691505 0.85920272 0.8578987\n",
            " 0.92791316 0.9164129  0.92725222 0.93499468 0.97163576 1.\n",
            " 0.93801152 0.9131368  0.92463021 0.91704638 0.95160746 0.90775395\n",
            " 0.87692237 0.91198756 0.9383031  0.93274556 0.92340672 0.92724103\n",
            " 0.92872602 0.9303599  0.9320879  0.93387234]\n",
            "5 day output [[0.93568593]]\n",
            "6 day input [0.61067696 0.6006912  0.57363048 0.56096376 0.54377383 0.56990411\n",
            " 0.58829174 0.62019734 0.64870017 0.63628361 0.67835505 0.6655667\n",
            " 0.66570772 0.64661057 0.70175508 0.69034322 0.68952481 0.6724405\n",
            " 0.65098719 0.65272145 0.68412634 0.72708782 0.71998082 0.72680065\n",
            " 0.73047959 0.70032604 0.720887   0.68780764 0.72249099 0.71993019\n",
            " 0.71874094 0.68965559 0.69148613 0.71902273 0.72690013 0.73833292\n",
            " 0.73700963 0.76665113 0.7810742  0.6856594  0.67386468 0.67878144\n",
            " 0.65407707 0.65928087 0.67340384 0.65537437 0.69027025 0.70803195\n",
            " 0.70159185 0.69313851 0.70970373 0.69301887 0.62064473 0.58540952\n",
            " 0.63261921 0.6542604  0.62057835 0.61856013 0.62662189 0.61067997\n",
            " 0.59099549 0.59967793 0.63616525 0.70705843 0.70041406 0.70841879\n",
            " 0.72337976 0.76274111 0.82577794 0.80028773 0.80294027 0.81933393\n",
            " 0.81611142 0.86057422 0.83691505 0.85920272 0.8578987  0.92791316\n",
            " 0.9164129  0.92725222 0.93499468 0.97163576 1.         0.93801152\n",
            " 0.9131368  0.92463021 0.91704638 0.95160746 0.90775395 0.87692237\n",
            " 0.91198756 0.9383031  0.93274556 0.92340672 0.92724103 0.92872602\n",
            " 0.9303599  0.9320879  0.93387234 0.93568593]\n",
            "6 day output [[0.9375093]]\n",
            "7 day input [0.6006912  0.57363048 0.56096376 0.54377383 0.56990411 0.58829174\n",
            " 0.62019734 0.64870017 0.63628361 0.67835505 0.6655667  0.66570772\n",
            " 0.64661057 0.70175508 0.69034322 0.68952481 0.6724405  0.65098719\n",
            " 0.65272145 0.68412634 0.72708782 0.71998082 0.72680065 0.73047959\n",
            " 0.70032604 0.720887   0.68780764 0.72249099 0.71993019 0.71874094\n",
            " 0.68965559 0.69148613 0.71902273 0.72690013 0.73833292 0.73700963\n",
            " 0.76665113 0.7810742  0.6856594  0.67386468 0.67878144 0.65407707\n",
            " 0.65928087 0.67340384 0.65537437 0.69027025 0.70803195 0.70159185\n",
            " 0.69313851 0.70970373 0.69301887 0.62064473 0.58540952 0.63261921\n",
            " 0.6542604  0.62057835 0.61856013 0.62662189 0.61067997 0.59099549\n",
            " 0.59967793 0.63616525 0.70705843 0.70041406 0.70841879 0.72337976\n",
            " 0.76274111 0.82577794 0.80028773 0.80294027 0.81933393 0.81611142\n",
            " 0.86057422 0.83691505 0.85920272 0.8578987  0.92791316 0.9164129\n",
            " 0.92725222 0.93499468 0.97163576 1.         0.93801152 0.9131368\n",
            " 0.92463021 0.91704638 0.95160746 0.90775395 0.87692237 0.91198756\n",
            " 0.9383031  0.93274556 0.92340672 0.92724103 0.92872602 0.9303599\n",
            " 0.9320879  0.93387234 0.93568593 0.9375093 ]\n",
            "7 day output [[0.9393286]]\n",
            "8 day input [0.57363048 0.56096376 0.54377383 0.56990411 0.58829174 0.62019734\n",
            " 0.64870017 0.63628361 0.67835505 0.6655667  0.66570772 0.64661057\n",
            " 0.70175508 0.69034322 0.68952481 0.6724405  0.65098719 0.65272145\n",
            " 0.68412634 0.72708782 0.71998082 0.72680065 0.73047959 0.70032604\n",
            " 0.720887   0.68780764 0.72249099 0.71993019 0.71874094 0.68965559\n",
            " 0.69148613 0.71902273 0.72690013 0.73833292 0.73700963 0.76665113\n",
            " 0.7810742  0.6856594  0.67386468 0.67878144 0.65407707 0.65928087\n",
            " 0.67340384 0.65537437 0.69027025 0.70803195 0.70159185 0.69313851\n",
            " 0.70970373 0.69301887 0.62064473 0.58540952 0.63261921 0.6542604\n",
            " 0.62057835 0.61856013 0.62662189 0.61067997 0.59099549 0.59967793\n",
            " 0.63616525 0.70705843 0.70041406 0.70841879 0.72337976 0.76274111\n",
            " 0.82577794 0.80028773 0.80294027 0.81933393 0.81611142 0.86057422\n",
            " 0.83691505 0.85920272 0.8578987  0.92791316 0.9164129  0.92725222\n",
            " 0.93499468 0.97163576 1.         0.93801152 0.9131368  0.92463021\n",
            " 0.91704638 0.95160746 0.90775395 0.87692237 0.91198756 0.9383031\n",
            " 0.93274556 0.92340672 0.92724103 0.92872602 0.9303599  0.9320879\n",
            " 0.93387234 0.93568593 0.9375093  0.93932861]\n",
            "8 day output [[0.94113415]]\n",
            "9 day input [0.56096376 0.54377383 0.56990411 0.58829174 0.62019734 0.64870017\n",
            " 0.63628361 0.67835505 0.6655667  0.66570772 0.64661057 0.70175508\n",
            " 0.69034322 0.68952481 0.6724405  0.65098719 0.65272145 0.68412634\n",
            " 0.72708782 0.71998082 0.72680065 0.73047959 0.70032604 0.720887\n",
            " 0.68780764 0.72249099 0.71993019 0.71874094 0.68965559 0.69148613\n",
            " 0.71902273 0.72690013 0.73833292 0.73700963 0.76665113 0.7810742\n",
            " 0.6856594  0.67386468 0.67878144 0.65407707 0.65928087 0.67340384\n",
            " 0.65537437 0.69027025 0.70803195 0.70159185 0.69313851 0.70970373\n",
            " 0.69301887 0.62064473 0.58540952 0.63261921 0.6542604  0.62057835\n",
            " 0.61856013 0.62662189 0.61067997 0.59099549 0.59967793 0.63616525\n",
            " 0.70705843 0.70041406 0.70841879 0.72337976 0.76274111 0.82577794\n",
            " 0.80028773 0.80294027 0.81933393 0.81611142 0.86057422 0.83691505\n",
            " 0.85920272 0.8578987  0.92791316 0.9164129  0.92725222 0.93499468\n",
            " 0.97163576 1.         0.93801152 0.9131368  0.92463021 0.91704638\n",
            " 0.95160746 0.90775395 0.87692237 0.91198756 0.9383031  0.93274556\n",
            " 0.92340672 0.92724103 0.92872602 0.9303599  0.9320879  0.93387234\n",
            " 0.93568593 0.9375093  0.93932861 0.94113415]\n",
            "9 day output [[0.9429187]]\n",
            "10 day input [0.54377383 0.56990411 0.58829174 0.62019734 0.64870017 0.63628361\n",
            " 0.67835505 0.6655667  0.66570772 0.64661057 0.70175508 0.69034322\n",
            " 0.68952481 0.6724405  0.65098719 0.65272145 0.68412634 0.72708782\n",
            " 0.71998082 0.72680065 0.73047959 0.70032604 0.720887   0.68780764\n",
            " 0.72249099 0.71993019 0.71874094 0.68965559 0.69148613 0.71902273\n",
            " 0.72690013 0.73833292 0.73700963 0.76665113 0.7810742  0.6856594\n",
            " 0.67386468 0.67878144 0.65407707 0.65928087 0.67340384 0.65537437\n",
            " 0.69027025 0.70803195 0.70159185 0.69313851 0.70970373 0.69301887\n",
            " 0.62064473 0.58540952 0.63261921 0.6542604  0.62057835 0.61856013\n",
            " 0.62662189 0.61067997 0.59099549 0.59967793 0.63616525 0.70705843\n",
            " 0.70041406 0.70841879 0.72337976 0.76274111 0.82577794 0.80028773\n",
            " 0.80294027 0.81933393 0.81611142 0.86057422 0.83691505 0.85920272\n",
            " 0.8578987  0.92791316 0.9164129  0.92725222 0.93499468 0.97163576\n",
            " 1.         0.93801152 0.9131368  0.92463021 0.91704638 0.95160746\n",
            " 0.90775395 0.87692237 0.91198756 0.9383031  0.93274556 0.92340672\n",
            " 0.92724103 0.92872602 0.9303599  0.9320879  0.93387234 0.93568593\n",
            " 0.9375093  0.93932861 0.94113415 0.94291872]\n",
            "10 day output [[0.94467705]]\n",
            "11 day input [0.56990411 0.58829174 0.62019734 0.64870017 0.63628361 0.67835505\n",
            " 0.6655667  0.66570772 0.64661057 0.70175508 0.69034322 0.68952481\n",
            " 0.6724405  0.65098719 0.65272145 0.68412634 0.72708782 0.71998082\n",
            " 0.72680065 0.73047959 0.70032604 0.720887   0.68780764 0.72249099\n",
            " 0.71993019 0.71874094 0.68965559 0.69148613 0.71902273 0.72690013\n",
            " 0.73833292 0.73700963 0.76665113 0.7810742  0.6856594  0.67386468\n",
            " 0.67878144 0.65407707 0.65928087 0.67340384 0.65537437 0.69027025\n",
            " 0.70803195 0.70159185 0.69313851 0.70970373 0.69301887 0.62064473\n",
            " 0.58540952 0.63261921 0.6542604  0.62057835 0.61856013 0.62662189\n",
            " 0.61067997 0.59099549 0.59967793 0.63616525 0.70705843 0.70041406\n",
            " 0.70841879 0.72337976 0.76274111 0.82577794 0.80028773 0.80294027\n",
            " 0.81933393 0.81611142 0.86057422 0.83691505 0.85920272 0.8578987\n",
            " 0.92791316 0.9164129  0.92725222 0.93499468 0.97163576 1.\n",
            " 0.93801152 0.9131368  0.92463021 0.91704638 0.95160746 0.90775395\n",
            " 0.87692237 0.91198756 0.9383031  0.93274556 0.92340672 0.92724103\n",
            " 0.92872602 0.9303599  0.9320879  0.93387234 0.93568593 0.9375093\n",
            " 0.93932861 0.94113415 0.94291872 0.94467705]\n",
            "11 day output [[0.9464049]]\n",
            "12 day input [0.58829174 0.62019734 0.64870017 0.63628361 0.67835505 0.6655667\n",
            " 0.66570772 0.64661057 0.70175508 0.69034322 0.68952481 0.6724405\n",
            " 0.65098719 0.65272145 0.68412634 0.72708782 0.71998082 0.72680065\n",
            " 0.73047959 0.70032604 0.720887   0.68780764 0.72249099 0.71993019\n",
            " 0.71874094 0.68965559 0.69148613 0.71902273 0.72690013 0.73833292\n",
            " 0.73700963 0.76665113 0.7810742  0.6856594  0.67386468 0.67878144\n",
            " 0.65407707 0.65928087 0.67340384 0.65537437 0.69027025 0.70803195\n",
            " 0.70159185 0.69313851 0.70970373 0.69301887 0.62064473 0.58540952\n",
            " 0.63261921 0.6542604  0.62057835 0.61856013 0.62662189 0.61067997\n",
            " 0.59099549 0.59967793 0.63616525 0.70705843 0.70041406 0.70841879\n",
            " 0.72337976 0.76274111 0.82577794 0.80028773 0.80294027 0.81933393\n",
            " 0.81611142 0.86057422 0.83691505 0.85920272 0.8578987  0.92791316\n",
            " 0.9164129  0.92725222 0.93499468 0.97163576 1.         0.93801152\n",
            " 0.9131368  0.92463021 0.91704638 0.95160746 0.90775395 0.87692237\n",
            " 0.91198756 0.9383031  0.93274556 0.92340672 0.92724103 0.92872602\n",
            " 0.9303599  0.9320879  0.93387234 0.93568593 0.9375093  0.93932861\n",
            " 0.94113415 0.94291872 0.94467705 0.94640487]\n",
            "12 day output [[0.9480998]]\n",
            "13 day input [0.62019734 0.64870017 0.63628361 0.67835505 0.6655667  0.66570772\n",
            " 0.64661057 0.70175508 0.69034322 0.68952481 0.6724405  0.65098719\n",
            " 0.65272145 0.68412634 0.72708782 0.71998082 0.72680065 0.73047959\n",
            " 0.70032604 0.720887   0.68780764 0.72249099 0.71993019 0.71874094\n",
            " 0.68965559 0.69148613 0.71902273 0.72690013 0.73833292 0.73700963\n",
            " 0.76665113 0.7810742  0.6856594  0.67386468 0.67878144 0.65407707\n",
            " 0.65928087 0.67340384 0.65537437 0.69027025 0.70803195 0.70159185\n",
            " 0.69313851 0.70970373 0.69301887 0.62064473 0.58540952 0.63261921\n",
            " 0.6542604  0.62057835 0.61856013 0.62662189 0.61067997 0.59099549\n",
            " 0.59967793 0.63616525 0.70705843 0.70041406 0.70841879 0.72337976\n",
            " 0.76274111 0.82577794 0.80028773 0.80294027 0.81933393 0.81611142\n",
            " 0.86057422 0.83691505 0.85920272 0.8578987  0.92791316 0.9164129\n",
            " 0.92725222 0.93499468 0.97163576 1.         0.93801152 0.9131368\n",
            " 0.92463021 0.91704638 0.95160746 0.90775395 0.87692237 0.91198756\n",
            " 0.9383031  0.93274556 0.92340672 0.92724103 0.92872602 0.9303599\n",
            " 0.9320879  0.93387234 0.93568593 0.9375093  0.93932861 0.94113415\n",
            " 0.94291872 0.94467705 0.94640487 0.94809979]\n",
            "13 day output [[0.94975984]]\n",
            "14 day input [0.64870017 0.63628361 0.67835505 0.6655667  0.66570772 0.64661057\n",
            " 0.70175508 0.69034322 0.68952481 0.6724405  0.65098719 0.65272145\n",
            " 0.68412634 0.72708782 0.71998082 0.72680065 0.73047959 0.70032604\n",
            " 0.720887   0.68780764 0.72249099 0.71993019 0.71874094 0.68965559\n",
            " 0.69148613 0.71902273 0.72690013 0.73833292 0.73700963 0.76665113\n",
            " 0.7810742  0.6856594  0.67386468 0.67878144 0.65407707 0.65928087\n",
            " 0.67340384 0.65537437 0.69027025 0.70803195 0.70159185 0.69313851\n",
            " 0.70970373 0.69301887 0.62064473 0.58540952 0.63261921 0.6542604\n",
            " 0.62057835 0.61856013 0.62662189 0.61067997 0.59099549 0.59967793\n",
            " 0.63616525 0.70705843 0.70041406 0.70841879 0.72337976 0.76274111\n",
            " 0.82577794 0.80028773 0.80294027 0.81933393 0.81611142 0.86057422\n",
            " 0.83691505 0.85920272 0.8578987  0.92791316 0.9164129  0.92725222\n",
            " 0.93499468 0.97163576 1.         0.93801152 0.9131368  0.92463021\n",
            " 0.91704638 0.95160746 0.90775395 0.87692237 0.91198756 0.9383031\n",
            " 0.93274556 0.92340672 0.92724103 0.92872602 0.9303599  0.9320879\n",
            " 0.93387234 0.93568593 0.9375093  0.93932861 0.94113415 0.94291872\n",
            " 0.94467705 0.94640487 0.94809979 0.94975984]\n",
            "14 day output [[0.95138425]]\n",
            "15 day input [0.63628361 0.67835505 0.6655667  0.66570772 0.64661057 0.70175508\n",
            " 0.69034322 0.68952481 0.6724405  0.65098719 0.65272145 0.68412634\n",
            " 0.72708782 0.71998082 0.72680065 0.73047959 0.70032604 0.720887\n",
            " 0.68780764 0.72249099 0.71993019 0.71874094 0.68965559 0.69148613\n",
            " 0.71902273 0.72690013 0.73833292 0.73700963 0.76665113 0.7810742\n",
            " 0.6856594  0.67386468 0.67878144 0.65407707 0.65928087 0.67340384\n",
            " 0.65537437 0.69027025 0.70803195 0.70159185 0.69313851 0.70970373\n",
            " 0.69301887 0.62064473 0.58540952 0.63261921 0.6542604  0.62057835\n",
            " 0.61856013 0.62662189 0.61067997 0.59099549 0.59967793 0.63616525\n",
            " 0.70705843 0.70041406 0.70841879 0.72337976 0.76274111 0.82577794\n",
            " 0.80028773 0.80294027 0.81933393 0.81611142 0.86057422 0.83691505\n",
            " 0.85920272 0.8578987  0.92791316 0.9164129  0.92725222 0.93499468\n",
            " 0.97163576 1.         0.93801152 0.9131368  0.92463021 0.91704638\n",
            " 0.95160746 0.90775395 0.87692237 0.91198756 0.9383031  0.93274556\n",
            " 0.92340672 0.92724103 0.92872602 0.9303599  0.9320879  0.93387234\n",
            " 0.93568593 0.9375093  0.93932861 0.94113415 0.94291872 0.94467705\n",
            " 0.94640487 0.94809979 0.94975984 0.95138425]\n",
            "15 day output [[0.95297205]]\n",
            "16 day input [0.67835505 0.6655667  0.66570772 0.64661057 0.70175508 0.69034322\n",
            " 0.68952481 0.6724405  0.65098719 0.65272145 0.68412634 0.72708782\n",
            " 0.71998082 0.72680065 0.73047959 0.70032604 0.720887   0.68780764\n",
            " 0.72249099 0.71993019 0.71874094 0.68965559 0.69148613 0.71902273\n",
            " 0.72690013 0.73833292 0.73700963 0.76665113 0.7810742  0.6856594\n",
            " 0.67386468 0.67878144 0.65407707 0.65928087 0.67340384 0.65537437\n",
            " 0.69027025 0.70803195 0.70159185 0.69313851 0.70970373 0.69301887\n",
            " 0.62064473 0.58540952 0.63261921 0.6542604  0.62057835 0.61856013\n",
            " 0.62662189 0.61067997 0.59099549 0.59967793 0.63616525 0.70705843\n",
            " 0.70041406 0.70841879 0.72337976 0.76274111 0.82577794 0.80028773\n",
            " 0.80294027 0.81933393 0.81611142 0.86057422 0.83691505 0.85920272\n",
            " 0.8578987  0.92791316 0.9164129  0.92725222 0.93499468 0.97163576\n",
            " 1.         0.93801152 0.9131368  0.92463021 0.91704638 0.95160746\n",
            " 0.90775395 0.87692237 0.91198756 0.9383031  0.93274556 0.92340672\n",
            " 0.92724103 0.92872602 0.9303599  0.9320879  0.93387234 0.93568593\n",
            " 0.9375093  0.93932861 0.94113415 0.94291872 0.94467705 0.94640487\n",
            " 0.94809979 0.94975984 0.95138425 0.95297205]\n",
            "16 day output [[0.9545233]]\n",
            "17 day input [0.6655667  0.66570772 0.64661057 0.70175508 0.69034322 0.68952481\n",
            " 0.6724405  0.65098719 0.65272145 0.68412634 0.72708782 0.71998082\n",
            " 0.72680065 0.73047959 0.70032604 0.720887   0.68780764 0.72249099\n",
            " 0.71993019 0.71874094 0.68965559 0.69148613 0.71902273 0.72690013\n",
            " 0.73833292 0.73700963 0.76665113 0.7810742  0.6856594  0.67386468\n",
            " 0.67878144 0.65407707 0.65928087 0.67340384 0.65537437 0.69027025\n",
            " 0.70803195 0.70159185 0.69313851 0.70970373 0.69301887 0.62064473\n",
            " 0.58540952 0.63261921 0.6542604  0.62057835 0.61856013 0.62662189\n",
            " 0.61067997 0.59099549 0.59967793 0.63616525 0.70705843 0.70041406\n",
            " 0.70841879 0.72337976 0.76274111 0.82577794 0.80028773 0.80294027\n",
            " 0.81933393 0.81611142 0.86057422 0.83691505 0.85920272 0.8578987\n",
            " 0.92791316 0.9164129  0.92725222 0.93499468 0.97163576 1.\n",
            " 0.93801152 0.9131368  0.92463021 0.91704638 0.95160746 0.90775395\n",
            " 0.87692237 0.91198756 0.9383031  0.93274556 0.92340672 0.92724103\n",
            " 0.92872602 0.9303599  0.9320879  0.93387234 0.93568593 0.9375093\n",
            " 0.93932861 0.94113415 0.94291872 0.94467705 0.94640487 0.94809979\n",
            " 0.94975984 0.95138425 0.95297205 0.95452332]\n",
            "17 day output [[0.95603865]]\n",
            "18 day input [0.66570772 0.64661057 0.70175508 0.69034322 0.68952481 0.6724405\n",
            " 0.65098719 0.65272145 0.68412634 0.72708782 0.71998082 0.72680065\n",
            " 0.73047959 0.70032604 0.720887   0.68780764 0.72249099 0.71993019\n",
            " 0.71874094 0.68965559 0.69148613 0.71902273 0.72690013 0.73833292\n",
            " 0.73700963 0.76665113 0.7810742  0.6856594  0.67386468 0.67878144\n",
            " 0.65407707 0.65928087 0.67340384 0.65537437 0.69027025 0.70803195\n",
            " 0.70159185 0.69313851 0.70970373 0.69301887 0.62064473 0.58540952\n",
            " 0.63261921 0.6542604  0.62057835 0.61856013 0.62662189 0.61067997\n",
            " 0.59099549 0.59967793 0.63616525 0.70705843 0.70041406 0.70841879\n",
            " 0.72337976 0.76274111 0.82577794 0.80028773 0.80294027 0.81933393\n",
            " 0.81611142 0.86057422 0.83691505 0.85920272 0.8578987  0.92791316\n",
            " 0.9164129  0.92725222 0.93499468 0.97163576 1.         0.93801152\n",
            " 0.9131368  0.92463021 0.91704638 0.95160746 0.90775395 0.87692237\n",
            " 0.91198756 0.9383031  0.93274556 0.92340672 0.92724103 0.92872602\n",
            " 0.9303599  0.9320879  0.93387234 0.93568593 0.9375093  0.93932861\n",
            " 0.94113415 0.94291872 0.94467705 0.94640487 0.94809979 0.94975984\n",
            " 0.95138425 0.95297205 0.95452332 0.95603865]\n",
            "18 day output [[0.9575185]]\n",
            "19 day input [0.64661057 0.70175508 0.69034322 0.68952481 0.6724405  0.65098719\n",
            " 0.65272145 0.68412634 0.72708782 0.71998082 0.72680065 0.73047959\n",
            " 0.70032604 0.720887   0.68780764 0.72249099 0.71993019 0.71874094\n",
            " 0.68965559 0.69148613 0.71902273 0.72690013 0.73833292 0.73700963\n",
            " 0.76665113 0.7810742  0.6856594  0.67386468 0.67878144 0.65407707\n",
            " 0.65928087 0.67340384 0.65537437 0.69027025 0.70803195 0.70159185\n",
            " 0.69313851 0.70970373 0.69301887 0.62064473 0.58540952 0.63261921\n",
            " 0.6542604  0.62057835 0.61856013 0.62662189 0.61067997 0.59099549\n",
            " 0.59967793 0.63616525 0.70705843 0.70041406 0.70841879 0.72337976\n",
            " 0.76274111 0.82577794 0.80028773 0.80294027 0.81933393 0.81611142\n",
            " 0.86057422 0.83691505 0.85920272 0.8578987  0.92791316 0.9164129\n",
            " 0.92725222 0.93499468 0.97163576 1.         0.93801152 0.9131368\n",
            " 0.92463021 0.91704638 0.95160746 0.90775395 0.87692237 0.91198756\n",
            " 0.9383031  0.93274556 0.92340672 0.92724103 0.92872602 0.9303599\n",
            " 0.9320879  0.93387234 0.93568593 0.9375093  0.93932861 0.94113415\n",
            " 0.94291872 0.94467705 0.94640487 0.94809979 0.94975984 0.95138425\n",
            " 0.95297205 0.95452332 0.95603865 0.95751852]\n",
            "19 day output [[0.95896393]]\n",
            "20 day input [0.70175508 0.69034322 0.68952481 0.6724405  0.65098719 0.65272145\n",
            " 0.68412634 0.72708782 0.71998082 0.72680065 0.73047959 0.70032604\n",
            " 0.720887   0.68780764 0.72249099 0.71993019 0.71874094 0.68965559\n",
            " 0.69148613 0.71902273 0.72690013 0.73833292 0.73700963 0.76665113\n",
            " 0.7810742  0.6856594  0.67386468 0.67878144 0.65407707 0.65928087\n",
            " 0.67340384 0.65537437 0.69027025 0.70803195 0.70159185 0.69313851\n",
            " 0.70970373 0.69301887 0.62064473 0.58540952 0.63261921 0.6542604\n",
            " 0.62057835 0.61856013 0.62662189 0.61067997 0.59099549 0.59967793\n",
            " 0.63616525 0.70705843 0.70041406 0.70841879 0.72337976 0.76274111\n",
            " 0.82577794 0.80028773 0.80294027 0.81933393 0.81611142 0.86057422\n",
            " 0.83691505 0.85920272 0.8578987  0.92791316 0.9164129  0.92725222\n",
            " 0.93499468 0.97163576 1.         0.93801152 0.9131368  0.92463021\n",
            " 0.91704638 0.95160746 0.90775395 0.87692237 0.91198756 0.9383031\n",
            " 0.93274556 0.92340672 0.92724103 0.92872602 0.9303599  0.9320879\n",
            " 0.93387234 0.93568593 0.9375093  0.93932861 0.94113415 0.94291872\n",
            " 0.94467705 0.94640487 0.94809979 0.94975984 0.95138425 0.95297205\n",
            " 0.95452332 0.95603865 0.95751852 0.95896393]\n",
            "20 day output [[0.9603756]]\n",
            "21 day input [0.69034322 0.68952481 0.6724405  0.65098719 0.65272145 0.68412634\n",
            " 0.72708782 0.71998082 0.72680065 0.73047959 0.70032604 0.720887\n",
            " 0.68780764 0.72249099 0.71993019 0.71874094 0.68965559 0.69148613\n",
            " 0.71902273 0.72690013 0.73833292 0.73700963 0.76665113 0.7810742\n",
            " 0.6856594  0.67386468 0.67878144 0.65407707 0.65928087 0.67340384\n",
            " 0.65537437 0.69027025 0.70803195 0.70159185 0.69313851 0.70970373\n",
            " 0.69301887 0.62064473 0.58540952 0.63261921 0.6542604  0.62057835\n",
            " 0.61856013 0.62662189 0.61067997 0.59099549 0.59967793 0.63616525\n",
            " 0.70705843 0.70041406 0.70841879 0.72337976 0.76274111 0.82577794\n",
            " 0.80028773 0.80294027 0.81933393 0.81611142 0.86057422 0.83691505\n",
            " 0.85920272 0.8578987  0.92791316 0.9164129  0.92725222 0.93499468\n",
            " 0.97163576 1.         0.93801152 0.9131368  0.92463021 0.91704638\n",
            " 0.95160746 0.90775395 0.87692237 0.91198756 0.9383031  0.93274556\n",
            " 0.92340672 0.92724103 0.92872602 0.9303599  0.9320879  0.93387234\n",
            " 0.93568593 0.9375093  0.93932861 0.94113415 0.94291872 0.94467705\n",
            " 0.94640487 0.94809979 0.94975984 0.95138425 0.95297205 0.95452332\n",
            " 0.95603865 0.95751852 0.95896393 0.96037561]\n",
            "21 day output [[0.9617541]]\n",
            "22 day input [0.68952481 0.6724405  0.65098719 0.65272145 0.68412634 0.72708782\n",
            " 0.71998082 0.72680065 0.73047959 0.70032604 0.720887   0.68780764\n",
            " 0.72249099 0.71993019 0.71874094 0.68965559 0.69148613 0.71902273\n",
            " 0.72690013 0.73833292 0.73700963 0.76665113 0.7810742  0.6856594\n",
            " 0.67386468 0.67878144 0.65407707 0.65928087 0.67340384 0.65537437\n",
            " 0.69027025 0.70803195 0.70159185 0.69313851 0.70970373 0.69301887\n",
            " 0.62064473 0.58540952 0.63261921 0.6542604  0.62057835 0.61856013\n",
            " 0.62662189 0.61067997 0.59099549 0.59967793 0.63616525 0.70705843\n",
            " 0.70041406 0.70841879 0.72337976 0.76274111 0.82577794 0.80028773\n",
            " 0.80294027 0.81933393 0.81611142 0.86057422 0.83691505 0.85920272\n",
            " 0.8578987  0.92791316 0.9164129  0.92725222 0.93499468 0.97163576\n",
            " 1.         0.93801152 0.9131368  0.92463021 0.91704638 0.95160746\n",
            " 0.90775395 0.87692237 0.91198756 0.9383031  0.93274556 0.92340672\n",
            " 0.92724103 0.92872602 0.9303599  0.9320879  0.93387234 0.93568593\n",
            " 0.9375093  0.93932861 0.94113415 0.94291872 0.94467705 0.94640487\n",
            " 0.94809979 0.94975984 0.95138425 0.95297205 0.95452332 0.95603865\n",
            " 0.95751852 0.95896393 0.96037561 0.96175408]\n",
            "22 day output [[0.963101]]\n",
            "23 day input [0.6724405  0.65098719 0.65272145 0.68412634 0.72708782 0.71998082\n",
            " 0.72680065 0.73047959 0.70032604 0.720887   0.68780764 0.72249099\n",
            " 0.71993019 0.71874094 0.68965559 0.69148613 0.71902273 0.72690013\n",
            " 0.73833292 0.73700963 0.76665113 0.7810742  0.6856594  0.67386468\n",
            " 0.67878144 0.65407707 0.65928087 0.67340384 0.65537437 0.69027025\n",
            " 0.70803195 0.70159185 0.69313851 0.70970373 0.69301887 0.62064473\n",
            " 0.58540952 0.63261921 0.6542604  0.62057835 0.61856013 0.62662189\n",
            " 0.61067997 0.59099549 0.59967793 0.63616525 0.70705843 0.70041406\n",
            " 0.70841879 0.72337976 0.76274111 0.82577794 0.80028773 0.80294027\n",
            " 0.81933393 0.81611142 0.86057422 0.83691505 0.85920272 0.8578987\n",
            " 0.92791316 0.9164129  0.92725222 0.93499468 0.97163576 1.\n",
            " 0.93801152 0.9131368  0.92463021 0.91704638 0.95160746 0.90775395\n",
            " 0.87692237 0.91198756 0.9383031  0.93274556 0.92340672 0.92724103\n",
            " 0.92872602 0.9303599  0.9320879  0.93387234 0.93568593 0.9375093\n",
            " 0.93932861 0.94113415 0.94291872 0.94467705 0.94640487 0.94809979\n",
            " 0.94975984 0.95138425 0.95297205 0.95452332 0.95603865 0.95751852\n",
            " 0.95896393 0.96037561 0.96175408 0.96310103]\n",
            "23 day output [[0.9644176]]\n",
            "24 day input [0.65098719 0.65272145 0.68412634 0.72708782 0.71998082 0.72680065\n",
            " 0.73047959 0.70032604 0.720887   0.68780764 0.72249099 0.71993019\n",
            " 0.71874094 0.68965559 0.69148613 0.71902273 0.72690013 0.73833292\n",
            " 0.73700963 0.76665113 0.7810742  0.6856594  0.67386468 0.67878144\n",
            " 0.65407707 0.65928087 0.67340384 0.65537437 0.69027025 0.70803195\n",
            " 0.70159185 0.69313851 0.70970373 0.69301887 0.62064473 0.58540952\n",
            " 0.63261921 0.6542604  0.62057835 0.61856013 0.62662189 0.61067997\n",
            " 0.59099549 0.59967793 0.63616525 0.70705843 0.70041406 0.70841879\n",
            " 0.72337976 0.76274111 0.82577794 0.80028773 0.80294027 0.81933393\n",
            " 0.81611142 0.86057422 0.83691505 0.85920272 0.8578987  0.92791316\n",
            " 0.9164129  0.92725222 0.93499468 0.97163576 1.         0.93801152\n",
            " 0.9131368  0.92463021 0.91704638 0.95160746 0.90775395 0.87692237\n",
            " 0.91198756 0.9383031  0.93274556 0.92340672 0.92724103 0.92872602\n",
            " 0.9303599  0.9320879  0.93387234 0.93568593 0.9375093  0.93932861\n",
            " 0.94113415 0.94291872 0.94467705 0.94640487 0.94809979 0.94975984\n",
            " 0.95138425 0.95297205 0.95452332 0.95603865 0.95751852 0.95896393\n",
            " 0.96037561 0.96175408 0.96310103 0.96441758]\n",
            "24 day output [[0.96570414]]\n",
            "25 day input [0.65272145 0.68412634 0.72708782 0.71998082 0.72680065 0.73047959\n",
            " 0.70032604 0.720887   0.68780764 0.72249099 0.71993019 0.71874094\n",
            " 0.68965559 0.69148613 0.71902273 0.72690013 0.73833292 0.73700963\n",
            " 0.76665113 0.7810742  0.6856594  0.67386468 0.67878144 0.65407707\n",
            " 0.65928087 0.67340384 0.65537437 0.69027025 0.70803195 0.70159185\n",
            " 0.69313851 0.70970373 0.69301887 0.62064473 0.58540952 0.63261921\n",
            " 0.6542604  0.62057835 0.61856013 0.62662189 0.61067997 0.59099549\n",
            " 0.59967793 0.63616525 0.70705843 0.70041406 0.70841879 0.72337976\n",
            " 0.76274111 0.82577794 0.80028773 0.80294027 0.81933393 0.81611142\n",
            " 0.86057422 0.83691505 0.85920272 0.8578987  0.92791316 0.9164129\n",
            " 0.92725222 0.93499468 0.97163576 1.         0.93801152 0.9131368\n",
            " 0.92463021 0.91704638 0.95160746 0.90775395 0.87692237 0.91198756\n",
            " 0.9383031  0.93274556 0.92340672 0.92724103 0.92872602 0.9303599\n",
            " 0.9320879  0.93387234 0.93568593 0.9375093  0.93932861 0.94113415\n",
            " 0.94291872 0.94467705 0.94640487 0.94809979 0.94975984 0.95138425\n",
            " 0.95297205 0.95452332 0.95603865 0.95751852 0.95896393 0.96037561\n",
            " 0.96175408 0.96310103 0.96441758 0.96570414]\n",
            "25 day output [[0.9669622]]\n",
            "26 day input [0.68412634 0.72708782 0.71998082 0.72680065 0.73047959 0.70032604\n",
            " 0.720887   0.68780764 0.72249099 0.71993019 0.71874094 0.68965559\n",
            " 0.69148613 0.71902273 0.72690013 0.73833292 0.73700963 0.76665113\n",
            " 0.7810742  0.6856594  0.67386468 0.67878144 0.65407707 0.65928087\n",
            " 0.67340384 0.65537437 0.69027025 0.70803195 0.70159185 0.69313851\n",
            " 0.70970373 0.69301887 0.62064473 0.58540952 0.63261921 0.6542604\n",
            " 0.62057835 0.61856013 0.62662189 0.61067997 0.59099549 0.59967793\n",
            " 0.63616525 0.70705843 0.70041406 0.70841879 0.72337976 0.76274111\n",
            " 0.82577794 0.80028773 0.80294027 0.81933393 0.81611142 0.86057422\n",
            " 0.83691505 0.85920272 0.8578987  0.92791316 0.9164129  0.92725222\n",
            " 0.93499468 0.97163576 1.         0.93801152 0.9131368  0.92463021\n",
            " 0.91704638 0.95160746 0.90775395 0.87692237 0.91198756 0.9383031\n",
            " 0.93274556 0.92340672 0.92724103 0.92872602 0.9303599  0.9320879\n",
            " 0.93387234 0.93568593 0.9375093  0.93932861 0.94113415 0.94291872\n",
            " 0.94467705 0.94640487 0.94809979 0.94975984 0.95138425 0.95297205\n",
            " 0.95452332 0.95603865 0.95751852 0.95896393 0.96037561 0.96175408\n",
            " 0.96310103 0.96441758 0.96570414 0.96696222]\n",
            "26 day output [[0.9681926]]\n",
            "27 day input [0.72708782 0.71998082 0.72680065 0.73047959 0.70032604 0.720887\n",
            " 0.68780764 0.72249099 0.71993019 0.71874094 0.68965559 0.69148613\n",
            " 0.71902273 0.72690013 0.73833292 0.73700963 0.76665113 0.7810742\n",
            " 0.6856594  0.67386468 0.67878144 0.65407707 0.65928087 0.67340384\n",
            " 0.65537437 0.69027025 0.70803195 0.70159185 0.69313851 0.70970373\n",
            " 0.69301887 0.62064473 0.58540952 0.63261921 0.6542604  0.62057835\n",
            " 0.61856013 0.62662189 0.61067997 0.59099549 0.59967793 0.63616525\n",
            " 0.70705843 0.70041406 0.70841879 0.72337976 0.76274111 0.82577794\n",
            " 0.80028773 0.80294027 0.81933393 0.81611142 0.86057422 0.83691505\n",
            " 0.85920272 0.8578987  0.92791316 0.9164129  0.92725222 0.93499468\n",
            " 0.97163576 1.         0.93801152 0.9131368  0.92463021 0.91704638\n",
            " 0.95160746 0.90775395 0.87692237 0.91198756 0.9383031  0.93274556\n",
            " 0.92340672 0.92724103 0.92872602 0.9303599  0.9320879  0.93387234\n",
            " 0.93568593 0.9375093  0.93932861 0.94113415 0.94291872 0.94467705\n",
            " 0.94640487 0.94809979 0.94975984 0.95138425 0.95297205 0.95452332\n",
            " 0.95603865 0.95751852 0.95896393 0.96037561 0.96175408 0.96310103\n",
            " 0.96441758 0.96570414 0.96696222 0.96819258]\n",
            "27 day output [[0.96939623]]\n",
            "28 day input [0.71998082 0.72680065 0.73047959 0.70032604 0.720887   0.68780764\n",
            " 0.72249099 0.71993019 0.71874094 0.68965559 0.69148613 0.71902273\n",
            " 0.72690013 0.73833292 0.73700963 0.76665113 0.7810742  0.6856594\n",
            " 0.67386468 0.67878144 0.65407707 0.65928087 0.67340384 0.65537437\n",
            " 0.69027025 0.70803195 0.70159185 0.69313851 0.70970373 0.69301887\n",
            " 0.62064473 0.58540952 0.63261921 0.6542604  0.62057835 0.61856013\n",
            " 0.62662189 0.61067997 0.59099549 0.59967793 0.63616525 0.70705843\n",
            " 0.70041406 0.70841879 0.72337976 0.76274111 0.82577794 0.80028773\n",
            " 0.80294027 0.81933393 0.81611142 0.86057422 0.83691505 0.85920272\n",
            " 0.8578987  0.92791316 0.9164129  0.92725222 0.93499468 0.97163576\n",
            " 1.         0.93801152 0.9131368  0.92463021 0.91704638 0.95160746\n",
            " 0.90775395 0.87692237 0.91198756 0.9383031  0.93274556 0.92340672\n",
            " 0.92724103 0.92872602 0.9303599  0.9320879  0.93387234 0.93568593\n",
            " 0.9375093  0.93932861 0.94113415 0.94291872 0.94467705 0.94640487\n",
            " 0.94809979 0.94975984 0.95138425 0.95297205 0.95452332 0.95603865\n",
            " 0.95751852 0.95896393 0.96037561 0.96175408 0.96310103 0.96441758\n",
            " 0.96570414 0.96696222 0.96819258 0.96939623]\n",
            "28 day output [[0.97057396]]\n",
            "29 day input [0.72680065 0.73047959 0.70032604 0.720887   0.68780764 0.72249099\n",
            " 0.71993019 0.71874094 0.68965559 0.69148613 0.71902273 0.72690013\n",
            " 0.73833292 0.73700963 0.76665113 0.7810742  0.6856594  0.67386468\n",
            " 0.67878144 0.65407707 0.65928087 0.67340384 0.65537437 0.69027025\n",
            " 0.70803195 0.70159185 0.69313851 0.70970373 0.69301887 0.62064473\n",
            " 0.58540952 0.63261921 0.6542604  0.62057835 0.61856013 0.62662189\n",
            " 0.61067997 0.59099549 0.59967793 0.63616525 0.70705843 0.70041406\n",
            " 0.70841879 0.72337976 0.76274111 0.82577794 0.80028773 0.80294027\n",
            " 0.81933393 0.81611142 0.86057422 0.83691505 0.85920272 0.8578987\n",
            " 0.92791316 0.9164129  0.92725222 0.93499468 0.97163576 1.\n",
            " 0.93801152 0.9131368  0.92463021 0.91704638 0.95160746 0.90775395\n",
            " 0.87692237 0.91198756 0.9383031  0.93274556 0.92340672 0.92724103\n",
            " 0.92872602 0.9303599  0.9320879  0.93387234 0.93568593 0.9375093\n",
            " 0.93932861 0.94113415 0.94291872 0.94467705 0.94640487 0.94809979\n",
            " 0.94975984 0.95138425 0.95297205 0.95452332 0.95603865 0.95751852\n",
            " 0.95896393 0.96037561 0.96175408 0.96310103 0.96441758 0.96570414\n",
            " 0.96696222 0.96819258 0.96939623 0.97057396]\n",
            "29 day output [[0.9717267]]\n",
            "[[0.9272410273551941], [0.9287260174751282], [0.9303598999977112], [0.9320878982543945], [0.9338723421096802], [0.935685932636261], [0.937509298324585], [0.9393286108970642], [0.9411341547966003], [0.9429187178611755], [0.9446770548820496], [0.9464048743247986], [0.9480997920036316], [0.949759840965271], [0.9513842463493347], [0.9529720544815063], [0.9545233249664307], [0.9560386538505554], [0.9575185179710388], [0.958963930606842], [0.9603756070137024], [0.9617540836334229], [0.9631010293960571], [0.964417576789856], [0.9657041430473328], [0.9669622182846069], [0.9681925773620605], [0.9693962335586548], [0.9705739617347717], [0.9717267155647278]]\n"
          ]
        }
      ]
    },
    {
      "cell_type": "code",
      "metadata": {
        "id": "miDnjPtTXvhE"
      },
      "source": [
        "day_data = np.arange(1,101)\n",
        "day_predicted = np.arange(101,131)"
      ],
      "execution_count": null,
      "outputs": []
    },
    {
      "cell_type": "code",
      "metadata": {
        "id": "y3pvbXmCYHWy",
        "colab": {
          "base_uri": "https://localhost:8080/",
          "height": 265
        },
        "outputId": "7b1ca5a7-34ec-4513-8aef-77b3d3b470e5"
      },
      "source": [
        "plt.plot(day_data, normal.inverse_transform(pricedf[566:]))\n",
        "plt.plot(day_predicted, normal.inverse_transform(forecast_output))\n",
        "plt.show()"
      ],
      "execution_count": null,
      "outputs": [
        {
          "output_type": "display_data",
          "data": {
            "image/png": "[encoded data removed]",
            "text/plain": [
              "<Figure size 432x288 with 1 Axes>"
            ]
          },
          "metadata": {
            "needs_background": "light"
          }
        }
      ]
    },
    {
      "cell_type": "markdown",
      "source": [
        "After the predictions have been made and stored, we use np arange to create a structure containing the real price data and one containing the predicted prices. Using pyplot the two structures are plotted showing the 100 days from end of the test set and the predicted 30 days."
      ],
      "metadata": {
        "id": "sn6tJ-yu3-kf"
      }
    },
    {
      "cell_type": "markdown",
      "source": [
        "This is the output of the price prediction over the next 30 days. This is the time frame from 11/01/2021 - 12/01/2021."
      ],
      "metadata": {
        "id": "cbu4Kgw4HnbY"
      }
    },
    {
      "cell_type": "markdown",
      "source": [
        "# Facebook Prophet (15 points)"
      ],
      "metadata": {
        "id": "GIL614navDVW"
      }
    },
    {
      "cell_type": "code",
      "source": [
        "%pip install pystan==2.19.1.1\n",
        "%pip install prophet\n",
        "from prophet import Prophet"
      ],
      "metadata": {
        "id": "xR6D8YRovF6i",
        "colab": {
          "base_uri": "https://localhost:8080/"
        },
        "outputId": "13137fbe-c078-40be-cb8d-d8a5d2baa720"
      },
      "execution_count": null,
      "outputs": [
        {
          "output_type": "stream",
          "name": "stdout",
          "text": [
            "Requirement already satisfied: pystan==2.19.1.1 in /usr/local/lib/python3.7/dist-packages (2.19.1.1)\n",
            "Requirement already satisfied: Cython!=0.25.1,>=0.22 in /usr/local/lib/python3.7/dist-packages (from pystan==2.19.1.1) (0.29.24)\n",
            "Requirement already satisfied: numpy>=1.7 in /usr/local/lib/python3.7/dist-packages (from pystan==2.19.1.1) (1.19.5)\n",
            "Requirement already satisfied: prophet in /usr/local/lib/python3.7/dist-packages (1.0.1)\n",
            "Requirement already satisfied: Cython>=0.22 in /usr/local/lib/python3.7/dist-packages (from prophet) (0.29.24)\n",
            "Requirement already satisfied: matplotlib>=2.0.0 in /usr/local/lib/python3.7/dist-packages (from prophet) (3.2.2)\n",
            "Requirement already satisfied: setuptools-git>=1.2 in /usr/local/lib/python3.7/dist-packages (from prophet) (1.2)\n",
            "Requirement already satisfied: python-dateutil>=2.8.0 in /usr/local/lib/python3.7/dist-packages (from prophet) (2.8.2)\n",
            "Requirement already satisfied: numpy>=1.15.4 in /usr/local/lib/python3.7/dist-packages (from prophet) (1.19.5)\n",
            "Requirement already satisfied: holidays>=0.10.2 in /usr/local/lib/python3.7/dist-packages (from prophet) (0.10.5.2)\n",
            "Requirement already satisfied: pystan~=2.19.1.1 in /usr/local/lib/python3.7/dist-packages (from prophet) (2.19.1.1)\n",
            "Requirement already satisfied: LunarCalendar>=0.0.9 in /usr/local/lib/python3.7/dist-packages (from prophet) (0.0.9)\n",
            "Requirement already satisfied: cmdstanpy==0.9.68 in /usr/local/lib/python3.7/dist-packages (from prophet) (0.9.68)\n",
            "Requirement already satisfied: pandas>=1.0.4 in /usr/local/lib/python3.7/dist-packages (from prophet) (1.1.5)\n",
            "Requirement already satisfied: convertdate>=2.1.2 in /usr/local/lib/python3.7/dist-packages (from prophet) (2.3.2)\n",
            "Requirement already satisfied: tqdm>=4.36.1 in /usr/local/lib/python3.7/dist-packages (from prophet) (4.62.3)\n",
            "Requirement already satisfied: ujson in /usr/local/lib/python3.7/dist-packages (from cmdstanpy==0.9.68->prophet) (4.3.0)\n",
            "Requirement already satisfied: pytz>=2014.10 in /usr/local/lib/python3.7/dist-packages (from convertdate>=2.1.2->prophet) (2018.9)\n",
            "Requirement already satisfied: pymeeus<=1,>=0.3.13 in /usr/local/lib/python3.7/dist-packages (from convertdate>=2.1.2->prophet) (0.5.11)\n",
            "Requirement already satisfied: six in /usr/local/lib/python3.7/dist-packages (from holidays>=0.10.2->prophet) (1.15.0)\n",
            "Requirement already satisfied: korean-lunar-calendar in /usr/local/lib/python3.7/dist-packages (from holidays>=0.10.2->prophet) (0.2.1)\n",
            "Requirement already satisfied: hijri-converter in /usr/local/lib/python3.7/dist-packages (from holidays>=0.10.2->prophet) (2.2.2)\n",
            "Requirement already satisfied: ephem>=3.7.5.3 in /usr/local/lib/python3.7/dist-packages (from LunarCalendar>=0.0.9->prophet) (4.1)\n",
            "Requirement already satisfied: pyparsing!=2.0.4,!=2.1.2,!=2.1.6,>=2.0.1 in /usr/local/lib/python3.7/dist-packages (from matplotlib>=2.0.0->prophet) (3.0.6)\n",
            "Requirement already satisfied: cycler>=0.10 in /usr/local/lib/python3.7/dist-packages (from matplotlib>=2.0.0->prophet) (0.11.0)\n",
            "Requirement already satisfied: kiwisolver>=1.0.1 in /usr/local/lib/python3.7/dist-packages (from matplotlib>=2.0.0->prophet) (1.3.2)\n"
          ]
        }
      ]
    },
    {
      "cell_type": "code",
      "source": [
        "m = Prophet()\n",
        "bitcoin_df.info()"
      ],
      "metadata": {
        "id": "bBp2Aso7xrE2",
        "colab": {
          "base_uri": "https://localhost:8080/"
        },
        "outputId": "0ba6c781-e84e-41e4-8a72-656eccbacd48"
      },
      "execution_count": null,
      "outputs": [
        {
          "output_type": "stream",
          "name": "stdout",
          "text": [
            "<class 'pandas.core.frame.DataFrame'>\n",
            "DatetimeIndex: 666 entries, 2020-01-01 to 2021-10-31\n",
            "Data columns (total 6 columns):\n",
            " #   Column     Non-Null Count  Dtype  \n",
            "---  ------     --------------  -----  \n",
            " 0   Open       666 non-null    float64\n",
            " 1   High       666 non-null    float64\n",
            " 2   Low        666 non-null    float64\n",
            " 3   Close      666 non-null    float64\n",
            " 4   Adj Close  666 non-null    float64\n",
            " 5   Volume     666 non-null    int64  \n",
            "dtypes: float64(5), int64(1)\n",
            "memory usage: 36.4 KB\n"
          ]
        }
      ]
    },
    {
      "cell_type": "code",
      "source": [
        "import plotly.express as px\n",
        "\n",
        "px.area(bitcoin_df,\n",
        "        x= bitcoin_df.index, y='Close')"
      ],
      "metadata": {
        "id": "YsTDNGIW13XP",
        "colab": {
          "base_uri": "https://localhost:8080/",
          "height": 542
        },
        "outputId": "2f395f22-3940-4990-f62b-1ef97a1d643d"
      },
      "execution_count": null,
      "outputs": [
        {
          "output_type": "display_data",
          "data": {
            "text/html": [
              "<html>\n",
              "<head><meta charset=\"utf-8\" /></head>\n",
              "<body>\n",
              "    <div>\n",
              "            <script src=\"https://cdnjs.cloudflare.com/ajax/libs/mathjax/2.7.5/MathJax.js?config=TeX-AMS-MML_SVG\"></script><script type=\"text/javascript\">if (window.MathJax) {MathJax.Hub.Config({SVG: {font: \"STIX-Web\"}});}</script>\n",
              "                <script type=\"text/javascript\">window.PlotlyConfig = {MathJaxConfig: 'local'};</script>\n",
              "        <script src=\"https://cdn.plot.ly/plotly-latest.min.js\"></script>    \n",
              "            <div id=\"48d43ccb-333a-435e-befe-f3185bf7b9ed\" class=\"plotly-graph-div\" style=\"height:525px; width:100%;\"></div>\n",
              "            <script type=\"text/javascript\">\n",
              "                \n",
              "                    window.PLOTLYENV=window.PLOTLYENV || {};\n",
              "                    \n",
              "                if (document.getElementById(\"48d43ccb-333a-435e-befe-f3185bf7b9ed\")) {\n",
              "                    Plotly.newPlot(\n",
              "                        '48d43ccb-333a-435e-befe-f3185bf7b9ed',\n",
              "                        [{\"hoverlabel\": {\"namelength\": 0}, \"hovertemplate\": \"x=%{x}<br>Close=%{y}\", \"legendgroup\": \"\", \"line\": {\"color\": \"#636efa\"}, \"mode\": \"lines\", \"name\": \"\", \"orientation\": \"v\", \"showlegend\": false, \"stackgroup\": \"1\", \"type\": \"scatter\", \"x\": [\"2020-01-01T00:00:00\", \"2020-01-02T00:00:00\", \"2020-01-03T00:00:00\", \"2020-01-04T00:00:00\", \"2020-01-05T00:00:00\", \"2020-01-06T00:00:00\", \"2020-01-07T00:00:00\", \"2020-01-08T00:00:00\", \"2020-01-09T00:00:00\", \"2020-01-10T00:00:00\", \"2020-01-11T00:00:00\", \"2020-01-12T00:00:00\", \"2020-01-13T00:00:00\", \"2020-01-14T00:00:00\", \"2020-01-15T00:00:00\", \"2020-01-16T00:00:00\", \"2020-01-17T00:00:00\", \"2020-01-18T00:00:00\", \"2020-01-19T00:00:00\", \"2020-01-20T00:00:00\", \"2020-01-21T00:00:00\", \"2020-01-22T00:00:00\", \"2020-01-23T00:00:00\", \"2020-01-24T00:00:00\", \"2020-01-25T00:00:00\", \"2020-01-26T00:00:00\", \"2020-01-27T00:00:00\", \"2020-01-28T00:00:00\", \"2020-01-29T00:00:00\", \"2020-01-30T00:00:00\", \"2020-01-31T00:00:00\", \"2020-02-01T00:00:00\", \"2020-02-02T00:00:00\", \"2020-02-03T00:00:00\", \"2020-02-04T00:00:00\", \"2020-02-05T00:00:00\", \"2020-02-06T00:00:00\", \"2020-02-07T00:00:00\", \"2020-02-08T00:00:00\", \"2020-02-09T00:00:00\", \"2020-02-10T00:00:00\", \"2020-02-11T00:00:00\", \"2020-02-12T00:00:00\", \"2020-02-13T00:00:00\", \"2020-02-14T00:00:00\", \"2020-02-15T00:00:00\", \"2020-02-16T00:00:00\", \"2020-02-17T00:00:00\", \"2020-02-18T00:00:00\", \"2020-02-19T00:00:00\", \"2020-02-20T00:00:00\", \"2020-02-21T00:00:00\", \"2020-02-22T00:00:00\", \"2020-02-23T00:00:00\", \"2020-02-24T00:00:00\", \"2020-02-25T00:00:00\", \"2020-02-26T00:00:00\", \"2020-02-27T00:00:00\", \"2020-02-28T00:00:00\", \"2020-02-29T00:00:00\", \"2020-03-01T00:00:00\", \"2020-03-02T00:00:00\", \"2020-03-03T00:00:00\", \"2020-03-04T00:00:00\", \"2020-03-05T00:00:00\", \"2020-03-06T00:00:00\", \"2020-03-07T00:00:00\", \"2020-03-08T00:00:00\", \"2020-03-09T00:00:00\", \"2020-03-10T00:00:00\", \"2020-03-11T00:00:00\", \"2020-03-12T00:00:00\", \"2020-03-13T00:00:00\", \"2020-03-14T00:00:00\", \"2020-03-15T00:00:00\", \"2020-03-16T00:00:00\", \"2020-03-17T00:00:00\", \"2020-03-18T00:00:00\", \"2020-03-19T00:00:00\", \"2020-03-20T00:00:00\", \"2020-03-21T00:00:00\", \"2020-03-22T00:00:00\", \"2020-03-23T00:00:00\", \"2020-03-24T00:00:00\", \"2020-03-25T00:00:00\", \"2020-03-26T00:00:00\", \"2020-03-27T00:00:00\", \"2020-03-28T00:00:00\", \"2020-03-29T00:00:00\", \"2020-03-30T00:00:00\", \"2020-03-31T00:00:00\", \"2020-04-01T00:00:00\", \"2020-04-02T00:00:00\", \"2020-04-03T00:00:00\", \"2020-04-04T00:00:00\", \"2020-04-05T00:00:00\", \"2020-04-06T00:00:00\", \"2020-04-07T00:00:00\", \"2020-04-08T00:00:00\", \"2020-04-09T00:00:00\", \"2020-04-10T00:00:00\", \"2020-04-11T00:00:00\", \"2020-04-12T00:00:00\", \"2020-04-13T00:00:00\", \"2020-04-14T00:00:00\", \"2020-04-15T00:00:00\", \"2020-04-16T00:00:00\", \"2020-04-18T00:00:00\", \"2020-04-19T00:00:00\", \"2020-04-20T00:00:00\", \"2020-04-21T00:00:00\", \"2020-04-22T00:00:00\", \"2020-04-23T00:00:00\", \"2020-04-24T00:00:00\", \"2020-04-25T00:00:00\", \"2020-04-26T00:00:00\", \"2020-04-27T00:00:00\", \"2020-04-28T00:00:00\", \"2020-04-29T00:00:00\", \"2020-04-30T00:00:00\", \"2020-05-01T00:00:00\", \"2020-05-02T00:00:00\", \"2020-05-03T00:00:00\", \"2020-05-04T00:00:00\", \"2020-05-05T00:00:00\", \"2020-05-06T00:00:00\", \"2020-05-07T00:00:00\", \"2020-05-08T00:00:00\", \"2020-05-09T00:00:00\", \"2020-05-10T00:00:00\", \"2020-05-11T00:00:00\", \"2020-05-12T00:00:00\", \"2020-05-13T00:00:00\", \"2020-05-14T00:00:00\", \"2020-05-15T00:00:00\", \"2020-05-16T00:00:00\", \"2020-05-17T00:00:00\", \"2020-05-18T00:00:00\", \"2020-05-19T00:00:00\", \"2020-05-20T00:00:00\", \"2020-05-21T00:00:00\", \"2020-05-22T00:00:00\", \"2020-05-23T00:00:00\", \"2020-05-24T00:00:00\", \"2020-05-25T00:00:00\", \"2020-05-26T00:00:00\", \"2020-05-27T00:00:00\", \"2020-05-28T00:00:00\", \"2020-05-29T00:00:00\", \"2020-05-30T00:00:00\", \"2020-05-31T00:00:00\", \"2020-06-01T00:00:00\", \"2020-06-02T00:00:00\", \"2020-06-03T00:00:00\", \"2020-06-04T00:00:00\", \"2020-06-05T00:00:00\", \"2020-06-06T00:00:00\", \"2020-06-07T00:00:00\", \"2020-06-08T00:00:00\", \"2020-06-09T00:00:00\", \"2020-06-10T00:00:00\", \"2020-06-11T00:00:00\", \"2020-06-12T00:00:00\", \"2020-06-13T00:00:00\", \"2020-06-14T00:00:00\", \"2020-06-15T00:00:00\", \"2020-06-16T00:00:00\", \"2020-06-17T00:00:00\", \"2020-06-18T00:00:00\", \"2020-06-19T00:00:00\", \"2020-06-20T00:00:00\", \"2020-06-21T00:00:00\", \"2020-06-22T00:00:00\", \"2020-06-23T00:00:00\", \"2020-06-24T00:00:00\", \"2020-06-25T00:00:00\", \"2020-06-26T00:00:00\", \"2020-06-27T00:00:00\", \"2020-06-28T00:00:00\", \"2020-06-29T00:00:00\", \"2020-06-30T00:00:00\", \"2020-07-01T00:00:00\", \"2020-07-02T00:00:00\", \"2020-07-03T00:00:00\", \"2020-07-04T00:00:00\", \"2020-07-05T00:00:00\", \"2020-07-06T00:00:00\", \"2020-07-07T00:00:00\", \"2020-07-08T00:00:00\", \"2020-07-09T00:00:00\", \"2020-07-10T00:00:00\", \"2020-07-11T00:00:00\", \"2020-07-12T00:00:00\", \"2020-07-13T00:00:00\", \"2020-07-14T00:00:00\", \"2020-07-15T00:00:00\", \"2020-07-16T00:00:00\", \"2020-07-17T00:00:00\", \"2020-07-18T00:00:00\", \"2020-07-19T00:00:00\", \"2020-07-20T00:00:00\", \"2020-07-21T00:00:00\", \"2020-07-22T00:00:00\", \"2020-07-23T00:00:00\", \"2020-07-24T00:00:00\", \"2020-07-25T00:00:00\", \"2020-07-26T00:00:00\", \"2020-07-27T00:00:00\", \"2020-07-28T00:00:00\", \"2020-07-29T00:00:00\", \"2020-07-30T00:00:00\", \"2020-07-31T00:00:00\", \"2020-08-01T00:00:00\", \"2020-08-02T00:00:00\", \"2020-08-03T00:00:00\", \"2020-08-04T00:00:00\", \"2020-08-05T00:00:00\", \"2020-08-06T00:00:00\", \"2020-08-07T00:00:00\", \"2020-08-08T00:00:00\", \"2020-08-09T00:00:00\", \"2020-08-10T00:00:00\", \"2020-08-11T00:00:00\", \"2020-08-12T00:00:00\", \"2020-08-13T00:00:00\", \"2020-08-14T00:00:00\", \"2020-08-15T00:00:00\", \"2020-08-16T00:00:00\", \"2020-08-17T00:00:00\", \"2020-08-18T00:00:00\", \"2020-08-19T00:00:00\", \"2020-08-20T00:00:00\", \"2020-08-21T00:00:00\", \"2020-08-22T00:00:00\", \"2020-08-23T00:00:00\", \"2020-08-24T00:00:00\", \"2020-08-25T00:00:00\", \"2020-08-26T00:00:00\", \"2020-08-27T00:00:00\", \"2020-08-28T00:00:00\", \"2020-08-29T00:00:00\", \"2020-08-30T00:00:00\", \"2020-08-31T00:00:00\", \"2020-09-01T00:00:00\", \"2020-09-02T00:00:00\", \"2020-09-03T00:00:00\", \"2020-09-04T00:00:00\", \"2020-09-05T00:00:00\", \"2020-09-06T00:00:00\", \"2020-09-07T00:00:00\", \"2020-09-08T00:00:00\", \"2020-09-09T00:00:00\", \"2020-09-10T00:00:00\", \"2020-09-11T00:00:00\", \"2020-09-12T00:00:00\", \"2020-09-13T00:00:00\", \"2020-09-14T00:00:00\", \"2020-09-15T00:00:00\", \"2020-09-16T00:00:00\", \"2020-09-17T00:00:00\", \"2020-09-18T00:00:00\", \"2020-09-19T00:00:00\", \"2020-09-20T00:00:00\", \"2020-09-21T00:00:00\", \"2020-09-22T00:00:00\", \"2020-09-23T00:00:00\", \"2020-09-24T00:00:00\", \"2020-09-25T00:00:00\", \"2020-09-26T00:00:00\", \"2020-09-27T00:00:00\", \"2020-09-28T00:00:00\", \"2020-09-29T00:00:00\", \"2020-09-30T00:00:00\", \"2020-10-01T00:00:00\", \"2020-10-02T00:00:00\", \"2020-10-03T00:00:00\", \"2020-10-04T00:00:00\", \"2020-10-05T00:00:00\", \"2020-10-06T00:00:00\", \"2020-10-07T00:00:00\", \"2020-10-08T00:00:00\", \"2020-10-10T00:00:00\", \"2020-10-11T00:00:00\", \"2020-10-14T00:00:00\", \"2020-10-15T00:00:00\", \"2020-10-16T00:00:00\", \"2020-10-17T00:00:00\", \"2020-10-18T00:00:00\", \"2020-10-19T00:00:00\", \"2020-10-20T00:00:00\", \"2020-10-21T00:00:00\", \"2020-10-22T00:00:00\", \"2020-10-23T00:00:00\", \"2020-10-24T00:00:00\", \"2020-10-25T00:00:00\", \"2020-10-26T00:00:00\", \"2020-10-27T00:00:00\", \"2020-10-28T00:00:00\", \"2020-10-29T00:00:00\", \"2020-10-30T00:00:00\", \"2020-10-31T00:00:00\", \"2020-11-01T00:00:00\", \"2020-11-02T00:00:00\", \"2020-11-03T00:00:00\", \"2020-11-04T00:00:00\", \"2020-11-05T00:00:00\", \"2020-11-06T00:00:00\", \"2020-11-07T00:00:00\", \"2020-11-08T00:00:00\", \"2020-11-09T00:00:00\", \"2020-11-10T00:00:00\", \"2020-11-11T00:00:00\", \"2020-11-12T00:00:00\", \"2020-11-13T00:00:00\", \"2020-11-14T00:00:00\", \"2020-11-15T00:00:00\", \"2020-11-16T00:00:00\", \"2020-11-17T00:00:00\", \"2020-11-18T00:00:00\", \"2020-11-19T00:00:00\", \"2020-11-20T00:00:00\", \"2020-11-21T00:00:00\", \"2020-11-22T00:00:00\", \"2020-11-23T00:00:00\", \"2020-11-24T00:00:00\", \"2020-11-25T00:00:00\", \"2020-11-26T00:00:00\", \"2020-11-27T00:00:00\", \"2020-11-28T00:00:00\", \"2020-11-29T00:00:00\", \"2020-11-30T00:00:00\", \"2020-12-01T00:00:00\", \"2020-12-02T00:00:00\", \"2020-12-03T00:00:00\", \"2020-12-04T00:00:00\", \"2020-12-05T00:00:00\", \"2020-12-06T00:00:00\", \"2020-12-07T00:00:00\", \"2020-12-08T00:00:00\", \"2020-12-09T00:00:00\", \"2020-12-10T00:00:00\", \"2020-12-11T00:00:00\", \"2020-12-12T00:00:00\", \"2020-12-13T00:00:00\", \"2020-12-14T00:00:00\", \"2020-12-15T00:00:00\", \"2020-12-16T00:00:00\", \"2020-12-17T00:00:00\", \"2020-12-18T00:00:00\", \"2020-12-19T00:00:00\", \"2020-12-20T00:00:00\", \"2020-12-21T00:00:00\", \"2020-12-22T00:00:00\", \"2020-12-23T00:00:00\", \"2020-12-24T00:00:00\", \"2020-12-25T00:00:00\", \"2020-12-26T00:00:00\", \"2020-12-27T00:00:00\", \"2020-12-28T00:00:00\", \"2020-12-29T00:00:00\", \"2020-12-30T00:00:00\", \"2020-12-31T00:00:00\", \"2021-01-01T00:00:00\", \"2021-01-02T00:00:00\", \"2021-01-03T00:00:00\", \"2021-01-04T00:00:00\", \"2021-01-05T00:00:00\", \"2021-01-06T00:00:00\", \"2021-01-07T00:00:00\", \"2021-01-08T00:00:00\", \"2021-01-09T00:00:00\", \"2021-01-10T00:00:00\", \"2021-01-11T00:00:00\", \"2021-01-12T00:00:00\", \"2021-01-13T00:00:00\", \"2021-01-14T00:00:00\", \"2021-01-15T00:00:00\", \"2021-01-16T00:00:00\", \"2021-01-17T00:00:00\", \"2021-01-18T00:00:00\", \"2021-01-19T00:00:00\", \"2021-01-20T00:00:00\", \"2021-01-21T00:00:00\", \"2021-01-22T00:00:00\", \"2021-01-23T00:00:00\", \"2021-01-24T00:00:00\", \"2021-01-25T00:00:00\", \"2021-01-26T00:00:00\", \"2021-01-27T00:00:00\", \"2021-01-28T00:00:00\", \"2021-01-29T00:00:00\", \"2021-01-30T00:00:00\", \"2021-01-31T00:00:00\", \"2021-02-01T00:00:00\", \"2021-02-02T00:00:00\", \"2021-02-03T00:00:00\", \"2021-02-04T00:00:00\", \"2021-02-05T00:00:00\", \"2021-02-06T00:00:00\", \"2021-02-07T00:00:00\", \"2021-02-08T00:00:00\", \"2021-02-09T00:00:00\", \"2021-02-10T00:00:00\", \"2021-02-11T00:00:00\", \"2021-02-12T00:00:00\", \"2021-02-13T00:00:00\", \"2021-02-14T00:00:00\", \"2021-02-15T00:00:00\", \"2021-02-16T00:00:00\", \"2021-02-17T00:00:00\", \"2021-02-18T00:00:00\", \"2021-02-19T00:00:00\", \"2021-02-20T00:00:00\", \"2021-02-21T00:00:00\", \"2021-02-22T00:00:00\", \"2021-02-23T00:00:00\", \"2021-02-24T00:00:00\", \"2021-02-25T00:00:00\", \"2021-02-26T00:00:00\", \"2021-02-27T00:00:00\", \"2021-02-28T00:00:00\", \"2021-03-01T00:00:00\", \"2021-03-02T00:00:00\", \"2021-03-03T00:00:00\", \"2021-03-04T00:00:00\", \"2021-03-05T00:00:00\", \"2021-03-06T00:00:00\", \"2021-03-07T00:00:00\", \"2021-03-08T00:00:00\", \"2021-03-09T00:00:00\", \"2021-03-10T00:00:00\", \"2021-03-11T00:00:00\", \"2021-03-12T00:00:00\", \"2021-03-13T00:00:00\", \"2021-03-14T00:00:00\", \"2021-03-15T00:00:00\", \"2021-03-16T00:00:00\", \"2021-03-17T00:00:00\", \"2021-03-18T00:00:00\", \"2021-03-19T00:00:00\", \"2021-03-20T00:00:00\", \"2021-03-21T00:00:00\", \"2021-03-22T00:00:00\", \"2021-03-23T00:00:00\", \"2021-03-24T00:00:00\", \"2021-03-25T00:00:00\", \"2021-03-26T00:00:00\", \"2021-03-27T00:00:00\", \"2021-03-28T00:00:00\", \"2021-03-29T00:00:00\", \"2021-03-30T00:00:00\", \"2021-03-31T00:00:00\", \"2021-04-01T00:00:00\", \"2021-04-02T00:00:00\", \"2021-04-03T00:00:00\", \"2021-04-04T00:00:00\", \"2021-04-05T00:00:00\", \"2021-04-06T00:00:00\", \"2021-04-07T00:00:00\", \"2021-04-08T00:00:00\", \"2021-04-09T00:00:00\", \"2021-04-10T00:00:00\", \"2021-04-11T00:00:00\", \"2021-04-12T00:00:00\", \"2021-04-13T00:00:00\", \"2021-04-14T00:00:00\", \"2021-04-15T00:00:00\", \"2021-04-16T00:00:00\", \"2021-04-17T00:00:00\", \"2021-04-18T00:00:00\", \"2021-04-19T00:00:00\", \"2021-04-20T00:00:00\", \"2021-04-21T00:00:00\", \"2021-04-22T00:00:00\", \"2021-04-23T00:00:00\", \"2021-04-24T00:00:00\", \"2021-04-25T00:00:00\", \"2021-04-26T00:00:00\", \"2021-04-27T00:00:00\", \"2021-04-28T00:00:00\", \"2021-04-29T00:00:00\", \"2021-04-30T00:00:00\", \"2021-05-01T00:00:00\", \"2021-05-02T00:00:00\", \"2021-05-03T00:00:00\", \"2021-05-04T00:00:00\", \"2021-05-05T00:00:00\", \"2021-05-06T00:00:00\", \"2021-05-07T00:00:00\", \"2021-05-08T00:00:00\", \"2021-05-09T00:00:00\", \"2021-05-10T00:00:00\", \"2021-05-11T00:00:00\", \"2021-05-12T00:00:00\", \"2021-05-13T00:00:00\", \"2021-05-14T00:00:00\", \"2021-05-15T00:00:00\", \"2021-05-16T00:00:00\", \"2021-05-17T00:00:00\", \"2021-05-18T00:00:00\", \"2021-05-19T00:00:00\", \"2021-05-20T00:00:00\", \"2021-05-21T00:00:00\", \"2021-05-22T00:00:00\", \"2021-05-23T00:00:00\", \"2021-05-24T00:00:00\", \"2021-05-25T00:00:00\", \"2021-05-26T00:00:00\", \"2021-05-27T00:00:00\", \"2021-05-28T00:00:00\", \"2021-05-29T00:00:00\", \"2021-05-30T00:00:00\", \"2021-05-31T00:00:00\", \"2021-06-01T00:00:00\", \"2021-06-02T00:00:00\", \"2021-06-03T00:00:00\", \"2021-06-04T00:00:00\", \"2021-06-05T00:00:00\", \"2021-06-06T00:00:00\", \"2021-06-07T00:00:00\", \"2021-06-08T00:00:00\", \"2021-06-09T00:00:00\", \"2021-06-10T00:00:00\", \"2021-06-11T00:00:00\", \"2021-06-12T00:00:00\", \"2021-06-13T00:00:00\", \"2021-06-14T00:00:00\", \"2021-06-15T00:00:00\", \"2021-06-16T00:00:00\", \"2021-06-17T00:00:00\", \"2021-06-18T00:00:00\", \"2021-06-19T00:00:00\", \"2021-06-20T00:00:00\", \"2021-06-21T00:00:00\", \"2021-06-22T00:00:00\", \"2021-06-23T00:00:00\", \"2021-06-24T00:00:00\", \"2021-06-25T00:00:00\", \"2021-06-26T00:00:00\", \"2021-06-27T00:00:00\", \"2021-06-28T00:00:00\", \"2021-06-29T00:00:00\", \"2021-06-30T00:00:00\", \"2021-07-01T00:00:00\", \"2021-07-02T00:00:00\", \"2021-07-03T00:00:00\", \"2021-07-04T00:00:00\", \"2021-07-05T00:00:00\", \"2021-07-06T00:00:00\", \"2021-07-07T00:00:00\", \"2021-07-08T00:00:00\", \"2021-07-09T00:00:00\", \"2021-07-10T00:00:00\", \"2021-07-11T00:00:00\", \"2021-07-12T00:00:00\", \"2021-07-13T00:00:00\", \"2021-07-14T00:00:00\", \"2021-07-15T00:00:00\", \"2021-07-16T00:00:00\", \"2021-07-17T00:00:00\", \"2021-07-18T00:00:00\", \"2021-07-19T00:00:00\", \"2021-07-20T00:00:00\", \"2021-07-21T00:00:00\", \"2021-07-22T00:00:00\", \"2021-07-23T00:00:00\", \"2021-07-24T00:00:00\", \"2021-07-25T00:00:00\", \"2021-07-26T00:00:00\", \"2021-07-27T00:00:00\", \"2021-07-28T00:00:00\", \"2021-07-29T00:00:00\", \"2021-07-30T00:00:00\", \"2021-07-31T00:00:00\", \"2021-08-01T00:00:00\", \"2021-08-02T00:00:00\", \"2021-08-03T00:00:00\", \"2021-08-04T00:00:00\", \"2021-08-05T00:00:00\", \"2021-08-06T00:00:00\", \"2021-08-07T00:00:00\", \"2021-08-08T00:00:00\", \"2021-08-09T00:00:00\", \"2021-08-10T00:00:00\", \"2021-08-11T00:00:00\", \"2021-08-12T00:00:00\", \"2021-08-13T00:00:00\", \"2021-08-14T00:00:00\", \"2021-08-15T00:00:00\", \"2021-08-16T00:00:00\", \"2021-08-17T00:00:00\", \"2021-08-18T00:00:00\", \"2021-08-19T00:00:00\", \"2021-08-20T00:00:00\", \"2021-08-21T00:00:00\", \"2021-08-22T00:00:00\", \"2021-08-23T00:00:00\", \"2021-08-24T00:00:00\", \"2021-08-25T00:00:00\", \"2021-08-26T00:00:00\", \"2021-08-27T00:00:00\", \"2021-08-28T00:00:00\", \"2021-08-29T00:00:00\", \"2021-08-30T00:00:00\", \"2021-08-31T00:00:00\", \"2021-09-01T00:00:00\", \"2021-09-02T00:00:00\", \"2021-09-03T00:00:00\", \"2021-09-04T00:00:00\", \"2021-09-05T00:00:00\", \"2021-09-06T00:00:00\", \"2021-09-07T00:00:00\", \"2021-09-08T00:00:00\", \"2021-09-09T00:00:00\", \"2021-09-10T00:00:00\", \"2021-09-11T00:00:00\", \"2021-09-12T00:00:00\", \"2021-09-13T00:00:00\", \"2021-09-14T00:00:00\", \"2021-09-15T00:00:00\", \"2021-09-16T00:00:00\", \"2021-09-17T00:00:00\", \"2021-09-18T00:00:00\", \"2021-09-19T00:00:00\", \"2021-09-20T00:00:00\", \"2021-09-21T00:00:00\", \"2021-09-22T00:00:00\", \"2021-09-23T00:00:00\", \"2021-09-24T00:00:00\", \"2021-09-25T00:00:00\", \"2021-09-26T00:00:00\", \"2021-09-27T00:00:00\", \"2021-09-28T00:00:00\", \"2021-09-29T00:00:00\", \"2021-09-30T00:00:00\", \"2021-10-01T00:00:00\", \"2021-10-02T00:00:00\", \"2021-10-03T00:00:00\", \"2021-10-04T00:00:00\", \"2021-10-05T00:00:00\", \"2021-10-06T00:00:00\", \"2021-10-07T00:00:00\", \"2021-10-08T00:00:00\", \"2021-10-09T00:00:00\", \"2021-10-10T00:00:00\", \"2021-10-11T00:00:00\", \"2021-10-12T00:00:00\", \"2021-10-13T00:00:00\", \"2021-10-14T00:00:00\", \"2021-10-15T00:00:00\", \"2021-10-16T00:00:00\", \"2021-10-17T00:00:00\", \"2021-10-18T00:00:00\", \"2021-10-19T00:00:00\", \"2021-10-20T00:00:00\", \"2021-10-21T00:00:00\", \"2021-10-22T00:00:00\", \"2021-10-23T00:00:00\", \"2021-10-24T00:00:00\", \"2021-10-25T00:00:00\", \"2021-10-26T00:00:00\", \"2021-10-27T00:00:00\", \"2021-10-28T00:00:00\", \"2021-10-29T00:00:00\", \"2021-10-30T00:00:00\", \"2021-10-31T00:00:00\"], \"xaxis\": \"x\", \"y\": [7200.17431640625, 6985.47021484375, 7344.88427734375, 7410.65673828125, 7411.3173828125, 7769.21923828125, 8163.6923828125, 8079.86279296875, 7879.0712890625, 8166.55419921875, 8037.53759765625, 8192.494140625, 8144.1943359375, 8827.7646484375, 8807.0107421875, 8723.7861328125, 8929.0380859375, 8942.80859375, 8706.2451171875, 8657.642578125, 8745.89453125, 8680.8759765625, 8406.515625, 8445.4345703125, 8367.84765625, 8596.830078125, 8909.8193359375, 9358.58984375, 9316.6298828125, 9508.9931640625, 9350.529296875, 9392.875, 9344.365234375, 9293.521484375, 9180.962890625, 9613.423828125, 9729.8017578125, 9795.943359375, 9865.119140625, 10116.673828125, 9856.611328125, 10208.236328125, 10326.0546875, 10214.3798828125, 10312.1162109375, 9889.4248046875, 9934.43359375, 9690.142578125, 10141.99609375, 9633.38671875, 9608.4755859375, 9686.44140625, 9663.181640625, 9924.515625, 9650.1748046875, 9341.705078125, 8820.5224609375, 8784.494140625, 8672.455078125, 8599.5087890625, 8562.4541015625, 8869.669921875, 8787.7861328125, 8755.24609375, 9078.7626953125, 9122.5458984375, 8909.9541015625, 8108.1162109375, 7923.64453125, 7909.7294921875, 7911.43017578125, 4970.7880859375, 5563.70703125, 5200.3662109375, 5392.31494140625, 5014.47998046875, 5225.62939453125, 5238.4384765625, 6191.19287109375, 6198.7783203125, 6185.06640625, 5830.2548828125, 6416.31494140625, 6734.8037109375, 6681.06298828125, 6716.4404296875, 6469.79833984375, 6242.19384765625, 5922.04296875, 6429.841796875, 6438.64453125, 6606.7763671875, 6793.62451171875, 6733.38720703125, 6867.52734375, 6791.12939453125, 7271.78125, 7176.41455078125, 7334.0986328125, 7302.08935546875, 6865.4931640625, 6859.0830078125, 6971.091796875, 6845.03759765625, 6842.427734375, 6642.10986328125, 7116.80419921875, 7257.6650390625, 7189.4248046875, 6881.95849609375, 6880.3232421875, 7117.20751953125, 7429.724609375, 7550.90087890625, 7569.93603515625, 7679.8671875, 7795.60107421875, 7807.05859375, 8801.0380859375, 8658.5537109375, 8864.7666015625, 8988.5966796875, 8897.46875, 8912.654296875, 9003.0703125, 9268.76171875, 9951.5185546875, 9842.666015625, 9593.896484375, 8756.4306640625, 8601.7958984375, 8804.4775390625, 9269.9873046875, 9733.7216796875, 9328.197265625, 9377.013671875, 9670.7392578125, 9726.5751953125, 9729.0380859375, 9522.9814453125, 9081.76171875, 9182.5771484375, 9209.287109375, 8790.3681640625, 8906.9345703125, 8835.052734375, 9181.017578125, 9525.7509765625, 9439.1240234375, 9700.4140625, 9461.05859375, 10167.2685546875, 9529.8037109375, 9656.7177734375, 9800.63671875, 9665.533203125, 9653.6796875, 9758.8525390625, 9771.4892578125, 9795.7001953125, 9870.0947265625, 9321.78125, 9480.84375, 9475.27734375, 9386.7880859375, 9450.7021484375, 9538.0244140625, 9480.2548828125, 9411.8408203125, 9288.0185546875, 9332.3408203125, 9303.6298828125, 9648.7177734375, 9629.658203125, 9313.6103515625, 9264.8134765625, 9162.91796875, 9045.390625, 9143.58203125, 9190.8544921875, 9137.9931640625, 9228.3251953125, 9123.41015625, 9087.3037109375, 9132.48828125, 9073.9423828125, 9375.474609375, 9252.27734375, 9428.3330078125, 9277.9677734375, 9278.8076171875, 9240.3466796875, 9276.5, 9243.6142578125, 9243.2138671875, 9192.8369140625, 9132.2275390625, 9151.392578125, 9159.0400390625, 9185.8173828125, 9164.2314453125, 9374.8876953125, 9525.36328125, 9581.072265625, 9536.892578125, 9677.11328125, 9905.1669921875, 10990.873046875, 10912.8232421875, 11100.4677734375, 11111.2138671875, 11323.466796875, 11759.5927734375, 11053.6142578125, 11246.3486328125, 11205.892578125, 11747.0224609375, 11779.7734375, 11601.47265625, 11754.0458984375, 11675.7392578125, 11878.111328125, 11410.525390625, 11584.9345703125, 11784.1376953125, 11768.87109375, 11865.6982421875, 11892.8037109375, 12254.40234375, 11991.2333984375, 11758.283203125, 11878.3720703125, 11592.4892578125, 11681.8251953125, 11664.84765625, 11774.595703125, 11366.134765625, 11488.36328125, 11323.3974609375, 11542.5, 11506.865234375, 11711.505859375, 11680.8203125, 11970.478515625, 11414.0341796875, 10245.296875, 10511.8134765625, 10169.5673828125, 10280.3515625, 10369.5634765625, 10131.5166015625, 10242.34765625, 10363.138671875, 10400.9150390625, 10442.1708984375, 10323.755859375, 10680.837890625, 10796.951171875, 10974.9052734375, 10948.990234375, 10944.5859375, 11094.3466796875, 10938.271484375, 10462.259765625, 10538.4599609375, 10225.8642578125, 10745.548828125, 10702.2900390625, 10754.4375, 10774.4267578125, 10721.3271484375, 10848.830078125, 10787.6181640625, 10623.330078125, 10585.1640625, 10565.4931640625, 10684.4287109375, 10804.0009765625, 10621.6640625, 10679.13671875, 10923.6279296875, 11296.361328125, 11384.181640625, 11429.5068359375, 11495.349609375, 11322.123046875, 11358.1015625, 11483.359375, 11742.037109375, 11916.3349609375, 12823.689453125, 12965.8916015625, 12931.5390625, 13108.0625, 13031.173828125, 13075.248046875, 13654.21875, 13271.28515625, 13437.8828125, 13546.5224609375, 13780.9951171875, 13737.109375, 13550.4892578125, 13950.30078125, 14133.70703125, 15579.8486328125, 15565.880859375, 14833.75390625, 15479.5673828125, 15332.3154296875, 15290.90234375, 15701.33984375, 16276.34375, 16317.80859375, 16068.138671875, 15955.587890625, 16716.111328125, 17645.40625, 17804.005859375, 17817.08984375, 18621.314453125, 18642.232421875, 18370.001953125, 18364.12109375, 19107.46484375, 18732.12109375, 17150.623046875, 17108.40234375, 17717.4140625, 18177.484375, 19625.8359375, 18802.998046875, 19201.091796875, 19445.3984375, 18699.765625, 19154.23046875, 19345.12109375, 19191.630859375, 18321.14453125, 18553.916015625, 18264.9921875, 18058.904296875, 18803.65625, 19142.3828125, 19246.64453125, 19417.076171875, 21310.59765625, 22805.162109375, 23137.9609375, 23869.83203125, 23477.294921875, 22803.08203125, 23783.029296875, 23241.345703125, 23735.94921875, 24664.791015625, 26437.037109375, 26272.294921875, 27084.80859375, 27362.4375, 28840.953125, 29001.720703125, 29374.15234375, 32127.267578125, 32782.0234375, 31971.9140625, 33992.4296875, 36824.36328125, 39371.04296875, 40797.609375, 40254.546875, 38356.44140625, 35566.65625, 33922.9609375, 37316.359375, 39187.328125, 36825.3671875, 36178.140625, 35791.27734375, 36630.07421875, 36069.8046875, 35547.75, 30825.69921875, 33005.76171875, 32067.642578125, 32289.37890625, 32366.392578125, 32569.849609375, 30432.546875, 31649.60546875, 34316.38671875, 34269.5234375, 33114.359375, 33537.17578125, 35510.2890625, 37472.08984375, 36926.06640625, 38144.30859375, 39266.01171875, 38903.44140625, 46196.46484375, 46481.10546875, 44918.18359375, 47909.33203125, 47504.8515625, 47105.515625, 48717.2890625, 47945.05859375, 49199.87109375, 52149.0078125, 51679.796875, 55888.1328125, 56099.51953125, 57539.9453125, 54207.3203125, 48824.42578125, 49705.33203125, 47093.8515625, 46339.76171875, 46188.453125, 45137.76953125, 49631.2421875, 48378.98828125, 50538.2421875, 48561.16796875, 48927.3046875, 48912.3828125, 51206.69140625, 52246.5234375, 54824.1171875, 56008.55078125, 57805.12109375, 57332.08984375, 61243.0859375, 59302.31640625, 55907.19921875, 56804.90234375, 58870.89453125, 57858.921875, 58346.65234375, 58313.64453125, 57523.421875, 54529.14453125, 54738.9453125, 52774.265625, 51704.16015625, 55137.3125, 55973.51171875, 55950.74609375, 57750.19921875, 58917.69140625, 58918.83203125, 59095.80859375, 59384.3125, 57603.890625, 58758.5546875, 59057.87890625, 58192.359375, 56048.9375, 58323.953125, 58245.00390625, 59793.234375, 60204.96484375, 59893.453125, 63503.45703125, 63109.6953125, 63314.01171875, 61572.7890625, 60683.8203125, 56216.18359375, 55724.265625, 56473.03125, 53906.08984375, 51762.2734375, 51093.65234375, 50050.8671875, 49004.25390625, 54021.75390625, 55033.1171875, 54824.703125, 53555.109375, 57750.17578125, 57828.05078125, 56631.078125, 57200.29296875, 53333.5390625, 57424.0078125, 56396.515625, 57356.40234375, 58803.77734375, 58232.31640625, 55859.796875, 56704.57421875, 49150.53515625, 49716.19140625, 49880.53515625, 46760.1875, 46456.05859375, 43537.51171875, 42909.40234375, 37002.44140625, 40782.73828125, 37304.69140625, 37536.6328125, 34770.58203125, 38705.98046875, 38402.22265625, 39294.19921875, 38436.96875, 35697.60546875, 34616.06640625, 35678.12890625, 37332.85546875, 36684.92578125, 37575.1796875, 39208.765625, 36894.40625, 35551.95703125, 35862.37890625, 33560.70703125, 33472.6328125, 37345.12109375, 36702.59765625, 37334.3984375, 35552.515625, 39097.859375, 40218.4765625, 40406.26953125, 38347.0625, 38053.50390625, 35787.24609375, 35615.87109375, 35698.296875, 31676.693359375, 32505.66015625, 33723.02734375, 34662.4375, 31637.779296875, 32186.27734375, 34649.64453125, 34434.3359375, 35867.77734375, 35040.8359375, 33572.1171875, 33897.046875, 34668.546875, 35287.78125, 33746.00390625, 34235.1953125, 33855.328125, 32877.37109375, 33798.01171875, 33520.51953125, 34240.1875, 33155.84765625, 32702.025390625, 32822.34765625, 31780.73046875, 31421.5390625, 31533.068359375, 31796.810546875, 30817.83203125, 29807.34765625, 32110.693359375, 32313.10546875, 33581.55078125, 34292.4453125, 35350.1875, 37337.53515625, 39406.94140625, 39995.90625, 40008.421875, 42235.546875, 41626.1953125, 39974.89453125, 39201.9453125, 38152.98046875, 39747.50390625, 40869.5546875, 42816.5, 44555.80078125, 43798.1171875, 46365.40234375, 45585.03125, 45593.63671875, 44428.2890625, 47793.3203125, 47096.9453125, 47047.00390625, 46004.484375, 44695.359375, 44801.1875, 46717.578125, 49339.17578125, 48905.4921875, 49321.65234375, 49546.1484375, 47706.1171875, 48960.7890625, 46942.21875, 49058.66796875, 48902.40234375, 48829.83203125, 47054.984375, 47166.6875, 48847.02734375, 49327.72265625, 50025.375, 49944.625, 51753.41015625, 52633.53515625, 46811.12890625, 46091.390625, 46391.421875, 44883.91015625, 45201.45703125, 46063.26953125, 44963.07421875, 47092.4921875, 48176.34765625, 47783.359375, 47267.51953125, 48278.36328125, 47260.21875, 42843.80078125, 40693.67578125, 43574.5078125, 44895.09765625, 42839.75, 42716.59375, 43208.5390625, 42235.73046875, 41034.54296875, 41564.36328125, 43790.89453125, 48116.94140625, 47711.48828125, 48199.953125, 49112.90234375, 51514.8125, 55361.44921875, 53805.984375, 53967.84765625, 54968.22265625, 54771.578125, 57484.7890625, 56041.05859375, 57401.09765625, 57321.5234375, 61593.94921875, 60892.1796875, 61553.6171875, 62026.078125, 64261.9921875, 65992.8359375, 62210.171875, 60692.265625, 61393.6171875, 60930.8359375, 63039.82421875, 60363.79296875, 58482.38671875, 60622.13671875, 62227.96484375, 61888.83203125, 61318.95703125], \"yaxis\": \"y\"}],\n",
              "                        {\"legend\": {\"tracegroupgap\": 0}, \"margin\": {\"t\": 60}, \"template\": {\"data\": {\"bar\": [{\"error_x\": {\"color\": \"#2a3f5f\"}, \"error_y\": {\"color\": \"#2a3f5f\"}, \"marker\": {\"line\": {\"color\": \"#E5ECF6\", \"width\": 0.5}}, \"type\": \"bar\"}], \"barpolar\": [{\"marker\": {\"line\": {\"color\": \"#E5ECF6\", \"width\": 0.5}}, \"type\": \"barpolar\"}], \"carpet\": [{\"aaxis\": {\"endlinecolor\": \"#2a3f5f\", \"gridcolor\": \"white\", \"linecolor\": \"white\", \"minorgridcolor\": \"white\", \"startlinecolor\": \"#2a3f5f\"}, \"baxis\": {\"endlinecolor\": \"#2a3f5f\", \"gridcolor\": \"white\", \"linecolor\": \"white\", \"minorgridcolor\": \"white\", \"startlinecolor\": \"#2a3f5f\"}, \"type\": \"carpet\"}], \"choropleth\": [{\"colorbar\": {\"outlinewidth\": 0, \"ticks\": \"\"}, \"type\": \"choropleth\"}], \"contour\": [{\"colorbar\": {\"outlinewidth\": 0, \"ticks\": \"\"}, \"colorscale\": [[0.0, \"#0d0887\"], [0.1111111111111111, \"#46039f\"], [0.2222222222222222, \"#7201a8\"], [0.3333333333333333, \"#9c179e\"], [0.4444444444444444, \"#bd3786\"], [0.5555555555555556, \"#d8576b\"], [0.6666666666666666, \"#ed7953\"], [0.7777777777777778, \"#fb9f3a\"], [0.8888888888888888, \"#fdca26\"], [1.0, \"#f0f921\"]], \"type\": \"contour\"}], \"contourcarpet\": [{\"colorbar\": {\"outlinewidth\": 0, \"ticks\": \"\"}, \"type\": \"contourcarpet\"}], \"heatmap\": [{\"colorbar\": {\"outlinewidth\": 0, \"ticks\": \"\"}, \"colorscale\": [[0.0, \"#0d0887\"], [0.1111111111111111, \"#46039f\"], [0.2222222222222222, \"#7201a8\"], [0.3333333333333333, \"#9c179e\"], [0.4444444444444444, \"#bd3786\"], [0.5555555555555556, \"#d8576b\"], [0.6666666666666666, \"#ed7953\"], [0.7777777777777778, \"#fb9f3a\"], [0.8888888888888888, \"#fdca26\"], [1.0, \"#f0f921\"]], \"type\": \"heatmap\"}], \"heatmapgl\": [{\"colorbar\": {\"outlinewidth\": 0, \"ticks\": \"\"}, \"colorscale\": [[0.0, \"#0d0887\"], [0.1111111111111111, \"#46039f\"], [0.2222222222222222, \"#7201a8\"], [0.3333333333333333, \"#9c179e\"], [0.4444444444444444, \"#bd3786\"], [0.5555555555555556, \"#d8576b\"], [0.6666666666666666, \"#ed7953\"], [0.7777777777777778, \"#fb9f3a\"], [0.8888888888888888, \"#fdca26\"], [1.0, \"#f0f921\"]], \"type\": \"heatmapgl\"}], \"histogram\": [{\"marker\": {\"colorbar\": {\"outlinewidth\": 0, \"ticks\": \"\"}}, \"type\": \"histogram\"}], \"histogram2d\": [{\"colorbar\": {\"outlinewidth\": 0, \"ticks\": \"\"}, \"colorscale\": [[0.0, \"#0d0887\"], [0.1111111111111111, \"#46039f\"], [0.2222222222222222, \"#7201a8\"], [0.3333333333333333, \"#9c179e\"], [0.4444444444444444, \"#bd3786\"], [0.5555555555555556, \"#d8576b\"], [0.6666666666666666, \"#ed7953\"], [0.7777777777777778, \"#fb9f3a\"], [0.8888888888888888, \"#fdca26\"], [1.0, \"#f0f921\"]], \"type\": \"histogram2d\"}], \"histogram2dcontour\": [{\"colorbar\": {\"outlinewidth\": 0, \"ticks\": \"\"}, \"colorscale\": [[0.0, \"#0d0887\"], [0.1111111111111111, \"#46039f\"], [0.2222222222222222, \"#7201a8\"], [0.3333333333333333, \"#9c179e\"], [0.4444444444444444, \"#bd3786\"], [0.5555555555555556, \"#d8576b\"], [0.6666666666666666, \"#ed7953\"], [0.7777777777777778, \"#fb9f3a\"], [0.8888888888888888, \"#fdca26\"], [1.0, \"#f0f921\"]], \"type\": \"histogram2dcontour\"}], \"mesh3d\": [{\"colorbar\": {\"outlinewidth\": 0, \"ticks\": \"\"}, \"type\": \"mesh3d\"}], \"parcoords\": [{\"line\": {\"colorbar\": {\"outlinewidth\": 0, \"ticks\": \"\"}}, \"type\": \"parcoords\"}], \"pie\": [{\"automargin\": true, \"type\": \"pie\"}], \"scatter\": [{\"marker\": {\"colorbar\": {\"outlinewidth\": 0, \"ticks\": \"\"}}, \"type\": \"scatter\"}], \"scatter3d\": [{\"line\": {\"colorbar\": {\"outlinewidth\": 0, \"ticks\": \"\"}}, \"marker\": {\"colorbar\": {\"outlinewidth\": 0, \"ticks\": \"\"}}, \"type\": \"scatter3d\"}], \"scattercarpet\": [{\"marker\": {\"colorbar\": {\"outlinewidth\": 0, \"ticks\": \"\"}}, \"type\": \"scattercarpet\"}], \"scattergeo\": [{\"marker\": {\"colorbar\": {\"outlinewidth\": 0, \"ticks\": \"\"}}, \"type\": \"scattergeo\"}], \"scattergl\": [{\"marker\": {\"colorbar\": {\"outlinewidth\": 0, \"ticks\": \"\"}}, \"type\": \"scattergl\"}], \"scattermapbox\": [{\"marker\": {\"colorbar\": {\"outlinewidth\": 0, \"ticks\": \"\"}}, \"type\": \"scattermapbox\"}], \"scatterpolar\": [{\"marker\": {\"colorbar\": {\"outlinewidth\": 0, \"ticks\": \"\"}}, \"type\": \"scatterpolar\"}], \"scatterpolargl\": [{\"marker\": {\"colorbar\": {\"outlinewidth\": 0, \"ticks\": \"\"}}, \"type\": \"scatterpolargl\"}], \"scatterternary\": [{\"marker\": {\"colorbar\": {\"outlinewidth\": 0, \"ticks\": \"\"}}, \"type\": \"scatterternary\"}], \"surface\": [{\"colorbar\": {\"outlinewidth\": 0, \"ticks\": \"\"}, \"colorscale\": [[0.0, \"#0d0887\"], [0.1111111111111111, \"#46039f\"], [0.2222222222222222, \"#7201a8\"], [0.3333333333333333, \"#9c179e\"], [0.4444444444444444, \"#bd3786\"], [0.5555555555555556, \"#d8576b\"], [0.6666666666666666, \"#ed7953\"], [0.7777777777777778, \"#fb9f3a\"], [0.8888888888888888, \"#fdca26\"], [1.0, \"#f0f921\"]], \"type\": \"surface\"}], \"table\": [{\"cells\": {\"fill\": {\"color\": \"#EBF0F8\"}, \"line\": {\"color\": \"white\"}}, \"header\": {\"fill\": {\"color\": \"#C8D4E3\"}, \"line\": {\"color\": \"white\"}}, \"type\": \"table\"}]}, \"layout\": {\"annotationdefaults\": {\"arrowcolor\": \"#2a3f5f\", \"arrowhead\": 0, \"arrowwidth\": 1}, \"coloraxis\": {\"colorbar\": {\"outlinewidth\": 0, \"ticks\": \"\"}}, \"colorscale\": {\"diverging\": [[0, \"#8e0152\"], [0.1, \"#c51b7d\"], [0.2, \"#de77ae\"], [0.3, \"#f1b6da\"], [0.4, \"#fde0ef\"], [0.5, \"#f7f7f7\"], [0.6, \"#e6f5d0\"], [0.7, \"#b8e186\"], [0.8, \"#7fbc41\"], [0.9, \"#4d9221\"], [1, \"#276419\"]], \"sequential\": [[0.0, \"#0d0887\"], [0.1111111111111111, \"#46039f\"], [0.2222222222222222, \"#7201a8\"], [0.3333333333333333, \"#9c179e\"], [0.4444444444444444, \"#bd3786\"], [0.5555555555555556, \"#d8576b\"], [0.6666666666666666, \"#ed7953\"], [0.7777777777777778, \"#fb9f3a\"], [0.8888888888888888, \"#fdca26\"], [1.0, \"#f0f921\"]], \"sequentialminus\": [[0.0, \"#0d0887\"], [0.1111111111111111, \"#46039f\"], [0.2222222222222222, \"#7201a8\"], [0.3333333333333333, \"#9c179e\"], [0.4444444444444444, \"#bd3786\"], [0.5555555555555556, \"#d8576b\"], [0.6666666666666666, \"#ed7953\"], [0.7777777777777778, \"#fb9f3a\"], [0.8888888888888888, \"#fdca26\"], [1.0, \"#f0f921\"]]}, \"colorway\": [\"#636efa\", \"#EF553B\", \"#00cc96\", \"#ab63fa\", \"#FFA15A\", \"#19d3f3\", \"#FF6692\", \"#B6E880\", \"#FF97FF\", \"#FECB52\"], \"font\": {\"color\": \"#2a3f5f\"}, \"geo\": {\"bgcolor\": \"white\", \"lakecolor\": \"white\", \"landcolor\": \"#E5ECF6\", \"showlakes\": true, \"showland\": true, \"subunitcolor\": \"white\"}, \"hoverlabel\": {\"align\": \"left\"}, \"hovermode\": \"closest\", \"mapbox\": {\"style\": \"light\"}, \"paper_bgcolor\": \"white\", \"plot_bgcolor\": \"#E5ECF6\", \"polar\": {\"angularaxis\": {\"gridcolor\": \"white\", \"linecolor\": \"white\", \"ticks\": \"\"}, \"bgcolor\": \"#E5ECF6\", \"radialaxis\": {\"gridcolor\": \"white\", \"linecolor\": \"white\", \"ticks\": \"\"}}, \"scene\": {\"xaxis\": {\"backgroundcolor\": \"#E5ECF6\", \"gridcolor\": \"white\", \"gridwidth\": 2, \"linecolor\": \"white\", \"showbackground\": true, \"ticks\": \"\", \"zerolinecolor\": \"white\"}, \"yaxis\": {\"backgroundcolor\": \"#E5ECF6\", \"gridcolor\": \"white\", \"gridwidth\": 2, \"linecolor\": \"white\", \"showbackground\": true, \"ticks\": \"\", \"zerolinecolor\": \"white\"}, \"zaxis\": {\"backgroundcolor\": \"#E5ECF6\", \"gridcolor\": \"white\", \"gridwidth\": 2, \"linecolor\": \"white\", \"showbackground\": true, \"ticks\": \"\", \"zerolinecolor\": \"white\"}}, \"shapedefaults\": {\"line\": {\"color\": \"#2a3f5f\"}}, \"ternary\": {\"aaxis\": {\"gridcolor\": \"white\", \"linecolor\": \"white\", \"ticks\": \"\"}, \"baxis\": {\"gridcolor\": \"white\", \"linecolor\": \"white\", \"ticks\": \"\"}, \"bgcolor\": \"#E5ECF6\", \"caxis\": {\"gridcolor\": \"white\", \"linecolor\": \"white\", \"ticks\": \"\"}}, \"title\": {\"x\": 0.05}, \"xaxis\": {\"automargin\": true, \"gridcolor\": \"white\", \"linecolor\": \"white\", \"ticks\": \"\", \"title\": {\"standoff\": 15}, \"zerolinecolor\": \"white\", \"zerolinewidth\": 2}, \"yaxis\": {\"automargin\": true, \"gridcolor\": \"white\", \"linecolor\": \"white\", \"ticks\": \"\", \"title\": {\"standoff\": 15}, \"zerolinecolor\": \"white\", \"zerolinewidth\": 2}}}, \"xaxis\": {\"anchor\": \"y\", \"domain\": [0.0, 1.0], \"title\": {\"text\": \"x\"}}, \"yaxis\": {\"anchor\": \"x\", \"domain\": [0.0, 1.0], \"title\": {\"text\": \"Close\"}}},\n",
              "                        {\"responsive\": true}\n",
              "                    ).then(function(){\n",
              "                            \n",
              "var gd = document.getElementById('48d43ccb-333a-435e-befe-f3185bf7b9ed');\n",
              "var x = new MutationObserver(function (mutations, observer) {{\n",
              "        var display = window.getComputedStyle(gd).display;\n",
              "        if (!display || display === 'none') {{\n",
              "            console.log([gd, 'removed!']);\n",
              "            Plotly.purge(gd);\n",
              "            observer.disconnect();\n",
              "        }}\n",
              "}});\n",
              "\n",
              "// Listen for the removal of the full notebook cells\n",
              "var notebookContainer = gd.closest('#notebook-container');\n",
              "if (notebookContainer) {{\n",
              "    x.observe(notebookContainer, {childList: true});\n",
              "}}\n",
              "\n",
              "// Listen for the clearing of the current output cell\n",
              "var outputEl = gd.closest('.output');\n",
              "if (outputEl) {{\n",
              "    x.observe(outputEl, {childList: true});\n",
              "}}\n",
              "\n",
              "                        })\n",
              "                };\n",
              "                \n",
              "            </script>\n",
              "        </div>\n",
              "</body>\n",
              "</html>"
            ]
          },
          "metadata": {}
        }
      ]
    },
    {
      "cell_type": "code",
      "source": [
        "bitcoin_df = bitcoin_df.reset_index()\n",
        "dates = bitcoin_df['Date']\n",
        "\n",
        "prophet_df = bitcoin_df.rename(columns={'Date': 'ds', 'Close':'y'})\n",
        "prophet_df.head()"
      ],
      "metadata": {
        "id": "XXkzE-zR43U4",
        "colab": {
          "base_uri": "https://localhost:8080/",
          "height": 206
        },
        "outputId": "04496454-770e-4ee5-930c-9b143ea17ace"
      },
      "execution_count": null,
      "outputs": [
        {
          "output_type": "execute_result",
          "data": {
            "text/html": [
              "<div>\n",
              "<style scoped>\n",
              "    .dataframe tbody tr th:only-of-type {\n",
              "        vertical-align: middle;\n",
              "    }\n",
              "\n",
              "    .dataframe tbody tr th {\n",
              "        vertical-align: top;\n",
              "    }\n",
              "\n",
              "    .dataframe thead th {\n",
              "        text-align: right;\n",
              "    }\n",
              "</style>\n",
              "<table border=\"1\" class=\"dataframe\">\n",
              "  <thead>\n",
              "    <tr style=\"text-align: right;\">\n",
              "      <th></th>\n",
              "      <th>ds</th>\n",
              "      <th>Open</th>\n",
              "      <th>High</th>\n",
              "      <th>Low</th>\n",
              "      <th>y</th>\n",
              "      <th>Adj Close</th>\n",
              "      <th>Volume</th>\n",
              "    </tr>\n",
              "  </thead>\n",
              "  <tbody>\n",
              "    <tr>\n",
              "      <th>0</th>\n",
              "      <td>2020-01-01</td>\n",
              "      <td>7194.892090</td>\n",
              "      <td>7254.330566</td>\n",
              "      <td>7174.944336</td>\n",
              "      <td>7200.174316</td>\n",
              "      <td>7200.174316</td>\n",
              "      <td>18565664997</td>\n",
              "    </tr>\n",
              "    <tr>\n",
              "      <th>1</th>\n",
              "      <td>2020-01-02</td>\n",
              "      <td>7202.551270</td>\n",
              "      <td>7212.155273</td>\n",
              "      <td>6935.270020</td>\n",
              "      <td>6985.470215</td>\n",
              "      <td>6985.470215</td>\n",
              "      <td>20802083465</td>\n",
              "    </tr>\n",
              "    <tr>\n",
              "      <th>2</th>\n",
              "      <td>2020-01-03</td>\n",
              "      <td>6984.428711</td>\n",
              "      <td>7413.715332</td>\n",
              "      <td>6914.996094</td>\n",
              "      <td>7344.884277</td>\n",
              "      <td>7344.884277</td>\n",
              "      <td>28111481032</td>\n",
              "    </tr>\n",
              "    <tr>\n",
              "      <th>3</th>\n",
              "      <td>2020-01-04</td>\n",
              "      <td>7345.375488</td>\n",
              "      <td>7427.385742</td>\n",
              "      <td>7309.514160</td>\n",
              "      <td>7410.656738</td>\n",
              "      <td>7410.656738</td>\n",
              "      <td>18444271275</td>\n",
              "    </tr>\n",
              "    <tr>\n",
              "      <th>4</th>\n",
              "      <td>2020-01-05</td>\n",
              "      <td>7410.451660</td>\n",
              "      <td>7544.497070</td>\n",
              "      <td>7400.535645</td>\n",
              "      <td>7411.317383</td>\n",
              "      <td>7411.317383</td>\n",
              "      <td>19725074095</td>\n",
              "    </tr>\n",
              "  </tbody>\n",
              "</table>\n",
              "</div>"
            ],
            "text/plain": [
              "          ds         Open         High  ...            y    Adj Close       Volume\n",
              "0 2020-01-01  7194.892090  7254.330566  ...  7200.174316  7200.174316  18565664997\n",
              "1 2020-01-02  7202.551270  7212.155273  ...  6985.470215  6985.470215  20802083465\n",
              "2 2020-01-03  6984.428711  7413.715332  ...  7344.884277  7344.884277  28111481032\n",
              "3 2020-01-04  7345.375488  7427.385742  ...  7410.656738  7410.656738  18444271275\n",
              "4 2020-01-05  7410.451660  7544.497070  ...  7411.317383  7411.317383  19725074095\n",
              "\n",
              "[5 rows x 7 columns]"
            ]
          },
          "metadata": {},
          "execution_count": 46
        }
      ]
    },
    {
      "cell_type": "code",
      "source": [
        "#initialize\n",
        "model = Prophet()\n",
        "\n",
        "#fit\n",
        "model.fit(prophet_df)"
      ],
      "metadata": {
        "id": "Q3vvrYLT55BK",
        "colab": {
          "base_uri": "https://localhost:8080/"
        },
        "outputId": "ae733ea5-2738-4199-dd41-4534b1f541a0"
      },
      "execution_count": null,
      "outputs": [
        {
          "output_type": "stream",
          "name": "stderr",
          "text": [
            "INFO:prophet:Disabling yearly seasonality. Run prophet with yearly_seasonality=True to override this.\n",
            "INFO:prophet:Disabling daily seasonality. Run prophet with daily_seasonality=True to override this.\n"
          ]
        },
        {
          "output_type": "execute_result",
          "data": {
            "text/plain": [
              "<prophet.forecaster.Prophet at 0x7f49b9b2d410>"
            ]
          },
          "metadata": {},
          "execution_count": 47
        }
      ]
    },
    {
      "cell_type": "code",
      "source": [
        "#forecast for the next 31 days\n",
        "future = model.make_future_dataframe(periods=30)\n",
        "\n",
        "#predict\n",
        "forecast = model.predict(future)"
      ],
      "metadata": {
        "id": "Myv0pSkX5_EG"
      },
      "execution_count": null,
      "outputs": []
    },
    {
      "cell_type": "code",
      "source": [
        "forecast.tail()"
      ],
      "metadata": {
        "id": "MjlBKFQq6086",
        "colab": {
          "base_uri": "https://localhost:8080/",
          "height": 313
        },
        "outputId": "ca90768c-1cb4-4300-8bae-a8b0b21060fb"
      },
      "execution_count": null,
      "outputs": [
        {
          "output_type": "execute_result",
          "data": {
            "text/html": [
              "<div>\n",
              "<style scoped>\n",
              "    .dataframe tbody tr th:only-of-type {\n",
              "        vertical-align: middle;\n",
              "    }\n",
              "\n",
              "    .dataframe tbody tr th {\n",
              "        vertical-align: top;\n",
              "    }\n",
              "\n",
              "    .dataframe thead th {\n",
              "        text-align: right;\n",
              "    }\n",
              "</style>\n",
              "<table border=\"1\" class=\"dataframe\">\n",
              "  <thead>\n",
              "    <tr style=\"text-align: right;\">\n",
              "      <th></th>\n",
              "      <th>ds</th>\n",
              "      <th>trend</th>\n",
              "      <th>yhat_lower</th>\n",
              "      <th>yhat_upper</th>\n",
              "      <th>trend_lower</th>\n",
              "      <th>trend_upper</th>\n",
              "      <th>additive_terms</th>\n",
              "      <th>additive_terms_lower</th>\n",
              "      <th>additive_terms_upper</th>\n",
              "      <th>weekly</th>\n",
              "      <th>weekly_lower</th>\n",
              "      <th>weekly_upper</th>\n",
              "      <th>multiplicative_terms</th>\n",
              "      <th>multiplicative_terms_lower</th>\n",
              "      <th>multiplicative_terms_upper</th>\n",
              "      <th>yhat</th>\n",
              "    </tr>\n",
              "  </thead>\n",
              "  <tbody>\n",
              "    <tr>\n",
              "      <th>691</th>\n",
              "      <td>2021-11-26</td>\n",
              "      <td>62518.748347</td>\n",
              "      <td>58410.868937</td>\n",
              "      <td>67216.165877</td>\n",
              "      <td>61292.583453</td>\n",
              "      <td>63763.092985</td>\n",
              "      <td>128.334704</td>\n",
              "      <td>128.334704</td>\n",
              "      <td>128.334704</td>\n",
              "      <td>128.334704</td>\n",
              "      <td>128.334704</td>\n",
              "      <td>128.334704</td>\n",
              "      <td>0.0</td>\n",
              "      <td>0.0</td>\n",
              "      <td>0.0</td>\n",
              "      <td>62647.083051</td>\n",
              "    </tr>\n",
              "    <tr>\n",
              "      <th>692</th>\n",
              "      <td>2021-11-27</td>\n",
              "      <td>62702.456660</td>\n",
              "      <td>58845.144156</td>\n",
              "      <td>67122.350607</td>\n",
              "      <td>61368.161803</td>\n",
              "      <td>64050.045004</td>\n",
              "      <td>92.555771</td>\n",
              "      <td>92.555771</td>\n",
              "      <td>92.555771</td>\n",
              "      <td>92.555771</td>\n",
              "      <td>92.555771</td>\n",
              "      <td>92.555771</td>\n",
              "      <td>0.0</td>\n",
              "      <td>0.0</td>\n",
              "      <td>0.0</td>\n",
              "      <td>62795.012431</td>\n",
              "    </tr>\n",
              "    <tr>\n",
              "      <th>693</th>\n",
              "      <td>2021-11-28</td>\n",
              "      <td>62886.164972</td>\n",
              "      <td>58518.547030</td>\n",
              "      <td>67134.355613</td>\n",
              "      <td>61416.032605</td>\n",
              "      <td>64302.815847</td>\n",
              "      <td>2.769883</td>\n",
              "      <td>2.769883</td>\n",
              "      <td>2.769883</td>\n",
              "      <td>2.769883</td>\n",
              "      <td>2.769883</td>\n",
              "      <td>2.769883</td>\n",
              "      <td>0.0</td>\n",
              "      <td>0.0</td>\n",
              "      <td>0.0</td>\n",
              "      <td>62888.934855</td>\n",
              "    </tr>\n",
              "    <tr>\n",
              "      <th>694</th>\n",
              "      <td>2021-11-29</td>\n",
              "      <td>63069.873285</td>\n",
              "      <td>58744.294360</td>\n",
              "      <td>67280.739475</td>\n",
              "      <td>61504.984702</td>\n",
              "      <td>64588.335714</td>\n",
              "      <td>-33.431860</td>\n",
              "      <td>-33.431860</td>\n",
              "      <td>-33.431860</td>\n",
              "      <td>-33.431860</td>\n",
              "      <td>-33.431860</td>\n",
              "      <td>-33.431860</td>\n",
              "      <td>0.0</td>\n",
              "      <td>0.0</td>\n",
              "      <td>0.0</td>\n",
              "      <td>63036.441425</td>\n",
              "    </tr>\n",
              "    <tr>\n",
              "      <th>695</th>\n",
              "      <td>2021-11-30</td>\n",
              "      <td>63253.581598</td>\n",
              "      <td>58661.746356</td>\n",
              "      <td>67454.194451</td>\n",
              "      <td>61618.691360</td>\n",
              "      <td>64856.531881</td>\n",
              "      <td>-139.398026</td>\n",
              "      <td>-139.398026</td>\n",
              "      <td>-139.398026</td>\n",
              "      <td>-139.398026</td>\n",
              "      <td>-139.398026</td>\n",
              "      <td>-139.398026</td>\n",
              "      <td>0.0</td>\n",
              "      <td>0.0</td>\n",
              "      <td>0.0</td>\n",
              "      <td>63114.183572</td>\n",
              "    </tr>\n",
              "  </tbody>\n",
              "</table>\n",
              "</div>"
            ],
            "text/plain": [
              "            ds         trend  ...  multiplicative_terms_upper          yhat\n",
              "691 2021-11-26  62518.748347  ...                         0.0  62647.083051\n",
              "692 2021-11-27  62702.456660  ...                         0.0  62795.012431\n",
              "693 2021-11-28  62886.164972  ...                         0.0  62888.934855\n",
              "694 2021-11-29  63069.873285  ...                         0.0  63036.441425\n",
              "695 2021-11-30  63253.581598  ...                         0.0  63114.183572\n",
              "\n",
              "[5 rows x 16 columns]"
            ]
          },
          "metadata": {},
          "execution_count": 49
        }
      ]
    },
    {
      "cell_type": "code",
      "source": [
        "#visualize with Facebook internal tool\n",
        "figure_1 = model.plot(forecast,\n",
        "                    xlabel='Date',\n",
        "                    ylabel='Price')\n",
        "#NOTE: Black dots = actual data\n",
        "#Blue line = prediction\n",
        "#Blue shaded area = upper and lower limit\n",
        "#The predicted window size is from Nov. 1st to Nov. 30th, \n",
        "#seen displayed at the end of the graph"
      ],
      "metadata": {
        "id": "pn48Cw9-6U9Z",
        "colab": {
          "base_uri": "https://localhost:8080/",
          "height": 441
        },
        "outputId": "8d295824-0fad-48da-ccf4-e5876495fc55"
      },
      "execution_count": null,
      "outputs": [
        {
          "output_type": "display_data",
          "data": {
            "image/png": "[encoded data removed]",
            "text/plain": [
              "<Figure size 720x432 with 1 Axes>"
            ]
          },
          "metadata": {}
        }
      ]
    },
    {
      "cell_type": "code",
      "source": [
        "#visualize forecast\n",
        "figure_2 = model.plot_components(forecast)"
      ],
      "metadata": {
        "id": "1l0wwrLL6ezI",
        "colab": {
          "base_uri": "https://localhost:8080/",
          "height": 441
        },
        "outputId": "6010a91c-4f07-44af-e520-306723e1a40d"
      },
      "execution_count": null,
      "outputs": [
        {
          "output_type": "display_data",
          "data": {
            "image/png": "[encoded data removed]",
            "text/plain": [
              "<Figure size 648x432 with 2 Axes>"
            ]
          },
          "metadata": {}
        }
      ]
    },
    {
      "cell_type": "markdown",
      "source": [
        "# Results"
      ],
      "metadata": {
        "id": "uiTWoqGX9-F2"
      }
    },
    {
      "cell_type": "markdown",
      "source": [
        "The real prices from 11/01/2021 12/01/2021"
      ],
      "metadata": {
        "id": "EHh3stUFFZKG"
      }
    },
    {
      "cell_type": "code",
      "source": [
        "real_bitcoin_df = yf.download('BTC-USD', start = '2021-11-01', end='2021-12-01', progress=False)\n",
        "realpricedf = real_bitcoin_df.reset_index()['Close']\n",
        "import matplotlib.pyplot as plt\n",
        "plt.plot(realpricedf) "
      ],
      "metadata": {
        "id": "M2Sam4QgEVqZ",
        "colab": {
          "base_uri": "https://localhost:8080/",
          "height": 283
        },
        "outputId": "4069d76d-e5ab-440b-8b89-904538d143ed"
      },
      "execution_count": null,
      "outputs": [
        {
          "output_type": "execute_result",
          "data": {
            "text/plain": [
              "[<matplotlib.lines.Line2D at 0x7f49af504510>]"
            ]
          },
          "metadata": {},
          "execution_count": 57
        },
        {
          "output_type": "display_data",
          "data": {
            "image/png": "[encoded data removed]",
            "text/plain": [
              "<Figure size 432x288 with 1 Axes>"
            ]
          },
          "metadata": {
            "needs_background": "light"
          }
        }
      ]
    },
    {
      "cell_type": "code",
      "source": [
        "plt.plot(day_predicted, normal.inverse_transform(forecast_output))\n",
        "plt.show()"
      ],
      "metadata": {
        "id": "wxr0bX0VIoPG",
        "colab": {
          "base_uri": "https://localhost:8080/",
          "height": 265
        },
        "outputId": "935a06a1-f587-4750-e792-516d7a9bdeff"
      },
      "execution_count": null,
      "outputs": [
        {
          "output_type": "display_data",
          "data": {
            "image/png": "[encoded data removed]",
            "text/plain": [
              "<Figure size 432x288 with 1 Axes>"
            ]
          },
          "metadata": {
            "needs_background": "light"
          }
        }
      ]
    },
    {
      "cell_type": "markdown",
      "source": [
        "The model predicts in such a way due to the data we have given it, it has seen the price jump several thousands of dollars in a short amount of time. The crypto market is so volatile. The predictor is confident the price of the coin will continue to go up. In reality, the price of the coin has dropped overtime. This is due to a multitude of factors the predictor does not consider. The coin price does not move only due to the closing price of the previous 100 days. However, this is the only data the model considers leading to the incredibly wrong prediction displayed here.\n",
        " \n",
        "However, it is worth noting that the actual price of bitcoin surpasses the maximum price predicted with the model. After that point it declines down as people cash out on the price spike and a million other factors. Perhaps the predictors recognize the coin is on an up trend but fail to accurately model the velocity at which the code can be in price.\n"
      ],
      "metadata": {
        "id": "VOmG87YsLTIN"
      }
    },
    {
      "cell_type": "code",
      "source": [
        "#Table of prediction vs actual price for prophet\n",
        "#visualize with Facebook internal tool\n",
        "figure_1 = model.plot(forecast,\n",
        "                    xlabel='Date',\n",
        "                    ylabel='Price')\n",
        "#NOTE: Black dots = actual data\n",
        "#Blue line = prediction\n",
        "#Blue shaded area = upper and lower limit"
      ],
      "metadata": {
        "id": "uiegJjwA-Bd3",
        "colab": {
          "base_uri": "https://localhost:8080/",
          "height": 441
        },
        "outputId": "b2325293-c3bd-4d9d-ea71-f7ae7bb9e20f"
      },
      "execution_count": null,
      "outputs": [
        {
          "output_type": "display_data",
          "data": {
            "image/png": "[encoded data removed]",
            "text/plain": [
              "<Figure size 720x432 with 1 Axes>"
            ]
          },
          "metadata": {}
        }
      ]
    },
    {
      "cell_type": "markdown",
      "source": [
        "The Prophet does not do much better. The algorithm again only relies on closing prices as data. This leads to the wildly wrong prediction we see over the target window. Much like the Keras model, the prophet model is confident the price of bitcoin will continue to rise. This is not surprising as the model has been exposed to the volatile dataset that is the closing prices of Bitcoin. It has seen the price skyrocket in short amounts of time. It can recognize an uptrend but fails to properly model the velocity the coin can have. Due to this, both predictors are confident the price will continue to rise but not at the pace it did in real life."
      ],
      "metadata": {
        "id": "uhA5IYiNP6VZ"
      }
    },
    {
      "cell_type": "markdown",
      "source": [
        "#Predictor Documentation\n",
        "##Price Predictor Method 1 TensorFlow\n",
        "Estimating the probability distribution of a time series future given its past is a very important aspect of modern business models. So many companies today rely on machine learning algorithms to give them an edge in understanding various information related to their business. For instance, a financial forecaster that could predict stock prices given the previous time series at input has a lot of fantastic implications. If the model is reliable it could guide investment firms in their decision-making. It could also help novice investors understand market trends and possible outcomes. These models provide a massive door to the fintech industry.\n",
        "\tTo create our model that accomplished this we built a Long Short Term Memory Recurrent Neural Network using Tensorflow. This network takes in financial data on Bitcoin from the YahooFinance library. This library allows us to get the closing prices on bitcoin everyday for as long as we would like. We planned on also including sentiment analysis of tweets for those days as input to the model. However, with restrictions in place by Twitter we could only get at best a sparse matrix of tweets for the same window we had prices for. This left us with an option to construct a faux dataset but we opted against it because in most if not most cases the twitter sentiment would have no correlation to the actual prices.\n",
        "\tAfter processing the financial data using pandas and numpy we create the RNN model. This model has 3 100 neuron LSTM layers with dropout and they all feed into a single dense neuron. After computing the inverse of the normalization we are left with the closing price for that day. This is the price we are predicting. The network considers the previous 100 days and makes a prediction as to what the next day’s closing price will be. After training and testing the model, we observed that the model was either behaving well or it was overfitting. We moved to attempt to forecast a 30 day window with this model.\n",
        "\tTo forecast 30 days into the future the predictor considers it’s previous predictions as input. So, in training, the model would take in the previous 100 days and make a prediction. In this use case, the output prediction for 1 day in the future will be appended to the input for the day 2 prediction. These predictions will be considered for day 3 etc etc until we reach 30 days. The complete list of predictions will be the model’s forecast for the 11/01/2021-12/01/2021 window.\n",
        "\tOverall the predictor works decently well. We hypothesize the model can accurately model the uptrends in the coin but it fails to model the velocity at which the price can move. For instance the actual price for early november actually peaks at around 68,000 dollars. The model predicted the price will rise slowly and steadily over the whole month and end at 65,000 dollars. The actual price did start to increase from 10/31 but it increased with such a velocity the predictor can not ‘keep up’ and gets left in this zone where it starts heavily relying on it’s previous predictions being accurate. This leads the prediction to start to become completely incorrect as time goes on.\n",
        "\n",
        "\n",
        "##Facebook Prophet\n",
        "Facebook Prophet is a forecasting procedure library that automates the process for data scientists/analysts. It forecasts time-series data based on an additive model where non-linear trends can be fit into yearly, weekly, and daily graph representations. It also will not just predict the future prices of bitcoin but also provide the upper limit and lower limit of predicted prices allowing us to give us a little more wiggle room and more accurate predictions. Including limits will give us more accurate predictions because if the price drops below the lower limit, then there’s a chance that the price will come up and that means it's good to buy now. Vice versa if the price goes above the upper limit, it will be best for selling bitcoin. If you’d like to add additional variables in Prophet for predict, you can do it by using the add_regressor method. We attempted to add sentiment tweet analysis data as a regressor, but unfortunately it was unable to be done with the method we were using and got unexpected results. So as a last minute resort, we decided to not add it and just display the sentiment data separately. We used the Prophet Python API in Google Colab. \n",
        "The Prophet always uses a data frame that has two columns: ds and y. The ds is the date stamp column and y is the close price. Close price was chosen because it is the most accurate price that tells how much bitcoin cost that day. If you look at the fourth code block under the “Facebook Prophet” section, from January 2020 to October 2021, the price of Bitcoin skyrocketed around Feb. 2021 to 57k, dipped back to 30k in July 2021, and then skyrocketed again to 66k in October. The next following code block renames date and close price as ‘ds’ and ‘y’ correspondingly because again, the prophet needs those columns to be named those labels. Afterwards, we just need to initialize Prophet() and fit the model with the dataframe. Then, by using the make_future_dataframe function to predict the next 31 days. \n",
        "\n",
        "The eighth code block displays the new dataframe with date, yhat_lower, yhat_upper, trend_lower, trend_upper, additive_terms, additive_terms_lower, additive_terms_upper, weekly, weekly_lower, weekly_upper, and yhat. The dates added are November 1st to November 30th 2021. What’s important is that yhat is the predicted value, and the yhat_lower/yhat_upper is the upper/lower limits. The following code blocks after will help visualize the predicted bitcoin price. For example, the first graph has the blue line as the prediction, the shaded area is the lower and upper limit, and the black dots are the actual price up to October 2021. There other two graphs display the trends with the plot_component function. The first shows the trend of the predicted period from the previous graph and then weekly trends. As you can see, the price of Bitcoin rises in the middle of week and then dips after the weekend, which concludes that the price is generally constant. "
      ],
      "metadata": {
        "id": "A_NSlOdJ4-ZE"
      }
    }
  ]
}